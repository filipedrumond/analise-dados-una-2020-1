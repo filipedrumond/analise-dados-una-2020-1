{
  "nbformat": 4,
  "nbformat_minor": 0,
  "metadata": {
    "kernelspec": {
      "display_name": "Python 3",
      "language": "python",
      "name": "python3"
    },
    "language_info": {
      "codemirror_mode": {
        "name": "ipython",
        "version": 3
      },
      "file_extension": ".py",
      "mimetype": "text/x-python",
      "name": "python",
      "nbconvert_exporter": "python",
      "pygments_lexer": "ipython3",
      "version": "3.7.4"
    },
    "colab": {
      "name": "Copy of 3_funcoes_python.ipynb",
      "provenance": [],
      "collapsed_sections": [],
      "include_colab_link": true
    }
  },
  "cells": [
    {
      "cell_type": "markdown",
      "metadata": {
        "id": "view-in-github",
        "colab_type": "text"
      },
      "source": [
        "<a href=\"https://colab.research.google.com/github/filipedrumond/analise-dados-una-2020-1/blob/master/Copy_of_3_funcoes_python.ipynb\" target=\"_parent\"><img src=\"https://colab.research.google.com/assets/colab-badge.svg\" alt=\"Open In Colab\"/></a>"
      ]
    },
    {
      "cell_type": "markdown",
      "metadata": {
        "id": "TbmWmSrBsa5u",
        "colab_type": "text"
      },
      "source": [
        "# Funções\n",
        "\n",
        "Métodos são blocos de códigos reutilizáveis que realizam tarefas específicas dentro de um programa. Em Python, definimos funções usando a palavra-chave *def*, seguida pelo nome da função, a lista formal de parâmetros entre parêntesis, e, finalizando a assinatura do método com dois pontos (:). É importante lembrar que todas as instruções após a assinatura do método e que formam o corpo da função, devem ser identadas para funcionamento correto do código.\n",
        "\n",
        "```python\n",
        "def soma(a, b):\n",
        "    \"\"\"Retorna a soma de dois números inteiros\"\"\"\n",
        "    return a + b;\n",
        "\n",
        "\n",
        "# Exemplo de uso da função\n",
        "resultado_soma = soma(12, 15) \n",
        "print(resultado_soma) # Saída: 27\n",
        "\n",
        "```\n",
        "\n",
        "Você deve ter notado o comentário logo após a assinatura do método; este tipo de comentário é o que chamamos de *docstring*, e serve para documentarmos as funções para posteriormente, gerarmos automaticamente com auxílio de ferramentas, uma documentação online ou impressa do seu programa. Por isso, comente sempre seu código e escreva-o de maneira mais clara possível para que outras pessoas consigam ler e compreender facilmente o que seu código faz.\n",
        "\n",
        "## Declaração de Argumentos\n",
        "\n",
        "Existem 3 formas diferentes, que podem ser combinadas entre si, para definirmos funções com número variável de argumentos, são elas:\n",
        "\n",
        "**1. Valores Padrão de Argumento**: declaramos um valor padrão para um ou mais argumentos no seguinte formato: *\"arg = value\"*; de tal forma que damos a opção de não especificar valores para tais argumentos e usarmos os valores padrão definidos.\n",
        "\n",
        "```python\n",
        "def exibir_mensagem(mensagem, cortar_apos = 4):\n",
        "    print(message[:cortar_apos]\n",
        "\n",
        "# Exemplo de uso da função\n",
        "exibir_mensagem(\"mensagem\")     # Saída: mens\n",
        "exibir_mensagem(\"mensagem\", 6)  # Saída: mensag\n",
        "```\n",
        "\n",
        "**2. Argumentos por Palavras-Chave**: semelhante a técnica anterior, argumentos por palavra-chave nós declaramos os argumentos no formato *\"arg = value\"*, lembrando que em uma chamada de função as variáveis passadas como parâmetro devem seguir a mesma ordem dos argumentos na assinatura do método.\n",
        "\n",
        "```python\n",
        "def desenha_retangulo(x, y, width = 800, height = 600):\n",
        "    # Instruções\n",
        "    \n",
        "# Exemplo de uso da função\n",
        "desenha_retangulo(0, 0)                               # Argumento por posição usando valores padrão do restante \n",
        "desenha_retangulo(0, 0, width = 1280)                 # Argumento com uma palavra-chave\n",
        "desenha_retangulo(0, 0, width = 1280, height = 1024)  # Argumento com duas palavras-chave\n",
        "desenha_retangulo()                                   # Erro: required argument missing\n",
        "desenha_retangulo(color = \"#CCCCCC\")                  # Erro: argumento por palavra-chave desconhecido\n",
        "desenha_retangulo(0, 0, x = 200, y = 300)             # Erro: valores duplicados par ao mesmo argumento\n",
        "\n",
        "```\n",
        "\n",
        "**3. Listas de Argumentos Arbitrários**: o Python permite você criar listas de argumentos com tamanho variável, de forma que toda vez que você chamar a função você possa especificar qualquer quantidade de argumentos que serão empacotados em uma variável do tipo tupla.\n",
        "\n",
        "```python\n",
        "# O último argumento é marcado com uma asterisco \n",
        "# para indicar que após os dois primeiros parâmetros\n",
        "# qualquer dado enviado para a função será empacotado em uma tupla.\n",
        "def nome_funcao(primeiro_arg, segundo_arg, *restante):\n",
        "    # Instruções\n",
        "    \n",
        "```\n",
        "\n",
        "## Passagem por Valor ou Por Referência?\n",
        "\n",
        "Em Python, objetos passados como argumentos para as funções são passados por *referência*, ou seja, não é feita uma cópia deles para o corpo da função. Desta forma, quando passamos uma lista enorme como argumento, não haverá a cópia  de todos os seus itens para um novo local em memória. Não se esqueça que até mesmo números inteiros são objetos para o Python. \n",
        "\n",
        "Ao passar objetos mutáveis (p. ex: listas e dicionários) como parâmetro, eles podem ser alterados pela função que os chamou e as alterações são visíveis para a função chamadora. Já os objetos imutáveis (p. ex: inteiros e strings), não podem ser alterados pela função chamada, logo, a função chamadora pode ter certeza de que a função chamada não irá alterar os valores das variáveis.\n"
      ]
    },
    {
      "cell_type": "markdown",
      "metadata": {
        "id": "JtzMuolJsa5z",
        "colab_type": "text"
      },
      "source": [
        "## Exercícios"
      ]
    },
    {
      "cell_type": "markdown",
      "metadata": {
        "id": "hBYOKU9xsa51",
        "colab_type": "text"
      },
      "source": [
        "1. Faça um programa contendo o método `verifica(numero)` que retorne 1 se o número digitado for positivo ou 0 se for negativo."
      ]
    },
    {
      "cell_type": "code",
      "metadata": {
        "id": "PzE1iqIrsa53",
        "colab_type": "code",
        "outputId": "94aede81-c016-4d94-cf0d-ea9f44d01798",
        "colab": {
          "base_uri": "https://localhost:8080/",
          "height": 35
        }
      },
      "source": [
        "def verifica(numero):\n",
        "  return 1 if numero > 0 else 0"
      ],
      "execution_count": 0,
      "outputs": [
        {
          "output_type": "stream",
          "text": [
            "0\n"
          ],
          "name": "stdout"
        }
      ]
    },
    {
      "cell_type": "markdown",
      "metadata": {
        "id": "YXBSLphJsa59",
        "colab_type": "text"
      },
      "source": [
        "2. Faça um programa contendo o método `somar(inicio, fim)` que receba dois números inteiros positivos como parâmetro e retorne a soma dos N números inteiros existentes entre eles. Ou seja, os parâmetros são exclusives, ou seja, os valores de início e fim não aparecerão no resultado."
      ]
    },
    {
      "cell_type": "code",
      "metadata": {
        "id": "QI1N_G_gsa5_",
        "colab_type": "code",
        "outputId": "4a634c44-903b-4876-8406-b4b9a7a298fd",
        "colab": {
          "base_uri": "https://localhost:8080/",
          "height": 35
        }
      },
      "source": [
        "def somar(inicio, fim):\n",
        "  soma = 0\n",
        "  if fim <= inicio:\n",
        "    return 'O fin não pode ser menor que o inicio'\n",
        "\n",
        "  for i in range(inicio + 1, fim):\n",
        "    soma += i  \n",
        "  return soma \n",
        "\n",
        "print(somar(1,4))"
      ],
      "execution_count": 0,
      "outputs": [
        {
          "output_type": "stream",
          "text": [
            "5\n"
          ],
          "name": "stdout"
        }
      ]
    },
    {
      "cell_type": "markdown",
      "metadata": {
        "id": "4NHWjIzzsa6E",
        "colab_type": "text"
      },
      "source": [
        "3. Faça um programa contendo o método `divisores(a, b, c)` que receba três números inteiros a, b e c, sendo a maior que 1. A função deverá somar todos os inteiros entre b e c que sejam divisíveis por a (inclusive b e c) e retornar o resultado da soma para ser impresso."
      ]
    },
    {
      "cell_type": "code",
      "metadata": {
        "id": "Clldgp01sa6H",
        "colab_type": "code",
        "outputId": "83f5b9ba-57f9-48fd-9d25-7acafdf2c67c",
        "colab": {
          "base_uri": "https://localhost:8080/",
          "height": 35
        }
      },
      "source": [
        "def divisores(a, b, c):\n",
        "  if a < 1:\n",
        "    return 'O primeiro parametro deve ser maior que 1'\n",
        "\n",
        "  intervalo = abs(c - b)\n",
        "  soma = b\n",
        "  for i in range(b , c + 1):\n",
        "    if (i % a) == 0 and i > 1:\n",
        "      soma += i\n",
        "  return soma\n",
        "\n",
        "print(divisores(5, 1, 10))\n"
      ],
      "execution_count": 0,
      "outputs": [
        {
          "output_type": "stream",
          "text": [
            "16\n"
          ],
          "name": "stdout"
        }
      ]
    },
    {
      "cell_type": "markdown",
      "metadata": {
        "id": "e_LAsCSLsa6M",
        "colab_type": "text"
      },
      "source": [
        "4. Faça um método `converte_horario(segundos)` que receba um único valor representando segundos e converta esse valor para horas, minutos e segundos; seguindo o formato 00:00:00."
      ]
    },
    {
      "cell_type": "code",
      "metadata": {
        "id": "kDl6UTrRsa6O",
        "colab_type": "code",
        "outputId": "dce83a39-1dad-4ef2-8033-96c3a33ca4be",
        "colab": {
          "base_uri": "https://localhost:8080/",
          "height": 35
        }
      },
      "source": [
        "def converte_horario(tempo):\n",
        "  segundos = tempo % 60\n",
        "  minutos = tempo / 60\n",
        "  minuto = minutos % 60\n",
        "  horas = minutos / 60\n",
        "\n",
        "  return '{}'.format(int(horas))  + ':' + '{}'.format(int(minuto)) + ':' + '{}'.format(int(segundos))\n",
        "\n",
        "print(converte_horario(16401))"
      ],
      "execution_count": 0,
      "outputs": [
        {
          "output_type": "stream",
          "text": [
            "4:33:21\n"
          ],
          "name": "stdout"
        }
      ]
    },
    {
      "cell_type": "markdown",
      "metadata": {
        "id": "-k6Bg6Ifsa6W",
        "colab_type": "text"
      },
      "source": [
        "5. Crie o método `calcula_reajuste(preco_antigo, preco_atual)` que receba os valores antigo e atual de um produto e determine o percentual de acréscimo entre esses valores."
      ]
    },
    {
      "cell_type": "code",
      "metadata": {
        "id": "MplkL8Wksa6Y",
        "colab_type": "code",
        "outputId": "38107b57-b927-4a00-8d80-7a8b4771d595",
        "colab": {
          "base_uri": "https://localhost:8080/",
          "height": 35
        }
      },
      "source": [
        "def calcula_reajuste(preco_antigo, preco_atual):\n",
        "  diff = (preco_atual / preco_antigo) * 100\n",
        "  diff -= 100\n",
        "  return f'{diff}%'\n",
        "\n",
        "print(calcula_reajuste(1, 2))"
      ],
      "execution_count": 0,
      "outputs": [
        {
          "output_type": "stream",
          "text": [
            "100.0%\n"
          ],
          "name": "stdout"
        }
      ]
    },
    {
      "cell_type": "markdown",
      "metadata": {
        "id": "qbd0aCkgsa6d",
        "colab_type": "text"
      },
      "source": [
        "6. Crie o método `imprime_multiplicacao(n)` que receba como parâmetro um número inteiro no intervalo de 1 a 9 (inclusive) e mostre a seguinte tabela de multiplicação (no exemplo, n = 9):\n",
        "\n",
        "\n",
        "1<br/> \n",
        "2  4 <br/>\n",
        "3 6 9  <br/>\n",
        "4 8 12 16  <br/>\n",
        "5 10 15 20 25  <br/>\n",
        "6 12 18 24 30 36  <br/>\n",
        "7 14 21 28 35 42 49  <br/>\n",
        "8 16 24 32 40 48 56 64  <br/>\n",
        "9 18 27 36 45 54 63 72 81  <br/>"
      ]
    },
    {
      "cell_type": "code",
      "metadata": {
        "id": "9MkvWDaDsa6f",
        "colab_type": "code",
        "outputId": "3f8b33a7-563d-4a6e-d3c7-005025216059",
        "colab": {
          "base_uri": "https://localhost:8080/",
          "height": 159
        }
      },
      "source": [
        "def imprime_multiplicacao(n):\n",
        "  if n > 9 or n <= 0:\n",
        "    return False\n",
        "\n",
        "  for i in range(1, n + 1):\n",
        "    linha = ''\n",
        "    for j in range(1, i + 1 ):\n",
        "      result = i * j\n",
        "      linha += str(result) + ' '\n",
        "    print(linha)\n",
        "\n",
        "imprime_multiplicacao(8)"
      ],
      "execution_count": 0,
      "outputs": [
        {
          "output_type": "stream",
          "text": [
            "1 \n",
            "2 4 \n",
            "3 6 9 \n",
            "4 8 12 16 \n",
            "5 10 15 20 25 \n",
            "6 12 18 24 30 36 \n",
            "7 14 21 28 35 42 49 \n",
            "8 16 24 32 40 48 56 64 \n"
          ],
          "name": "stdout"
        }
      ]
    },
    {
      "cell_type": "markdown",
      "metadata": {
        "id": "rU_fBkL8sa6k",
        "colab_type": "text"
      },
      "source": [
        "\n",
        "7. crie o método `media_alunos(nota1, nota2, nota3, tipo)` que receba as três notas de um aluno como parâmetros e um número inteiro indicando o tipo de média. Se o número for 0, a função deverá calcular a média aritmética das notas do aluno; se for 1, deverá calcular a média ponderada, com pesos os respectivos pesos: 5, 3 e 2. A média calculada deverá ser retornada pela função."
      ]
    },
    {
      "cell_type": "code",
      "metadata": {
        "id": "gW1599mHsa6n",
        "colab_type": "code",
        "colab": {
          "base_uri": "https://localhost:8080/",
          "height": 35
        },
        "outputId": "1faacd81-5546-47ed-ab63-c55bcb5c60ac"
      },
      "source": [
        "def media_ponderada(notas, pesos):\n",
        "  if(len(notas) != len(pesos)): return False\n",
        "  tamanho = len(notas)\n",
        "  mediaPonderada = 0\n",
        "  for i in range(tamanho):\n",
        "    mediaPonderada += notas[i] * pesos[i]\n",
        "  mediaPonderada /= sum(pesos)\n",
        "  return mediaPonderada\n",
        "\n",
        "def media_aritimetica(notas):\n",
        "  media = sum(notas) / len(notas)\n",
        "  return media\n",
        "\n",
        "def media_alunos(nota1, nota2, nota3, tipo):\n",
        "  media = 0\n",
        "  if(tipo != 1 and tipo != 2): return False\n",
        "\n",
        "  if(tipo == 1):\n",
        "    media = media_ponderada([nota1, nota2, nota3], [5, 3, 2])\n",
        "\n",
        "  if(tipo == 2):\n",
        "    media = media_aritimetica([nota1, nota2, nota3])\n",
        "  return media\n",
        "\n",
        "print(media_alunos(10, 10, 8, 1))"
      ],
      "execution_count": 7,
      "outputs": [
        {
          "output_type": "stream",
          "text": [
            "9.6\n"
          ],
          "name": "stdout"
        }
      ]
    },
    {
      "cell_type": "markdown",
      "metadata": {
        "id": "yNntOJ_6sa6s",
        "colab_type": "text"
      },
      "source": [
        "8. Faça o método `maior_menor(numeros)` que receba um vetor de números inteiros como parâmetro, em seguida, determine e imprima na tela o maior e o menor número."
      ]
    },
    {
      "cell_type": "code",
      "metadata": {
        "id": "B7Dta3Dbsa6u",
        "colab_type": "code",
        "outputId": "f1325785-387d-4137-d5de-b865aaf87a49",
        "colab": {
          "base_uri": "https://localhost:8080/",
          "height": 35
        }
      },
      "source": [
        "def maior_menor(numeros):\n",
        "  menor = numeros[0]\n",
        "  maior = numeros[0]\n",
        "\n",
        "  for numero in numeros:\n",
        "\n",
        "    if numero < menor:\n",
        "      menor = numero\n",
        "\n",
        "    if numero > maior:\n",
        "      maior = numero\n",
        "  return [menor, maior]\n",
        "\n",
        "arr = [8,2,3,4]\n",
        "print(maior_menor(arr))"
      ],
      "execution_count": 13,
      "outputs": [
        {
          "output_type": "stream",
          "text": [
            "[2, 8]\n"
          ],
          "name": "stdout"
        }
      ]
    },
    {
      "cell_type": "markdown",
      "metadata": {
        "id": "rJYY59HLsa6z",
        "colab_type": "text"
      },
      "source": [
        "9. Foi realizada uma pesquisa sobre algumas características físicas dos habitantes de uma região. Foram coletados os seguintes dados de cada habitante: sexo, cor dos olhos (A — azuis; ou C — castanhos), cor dos cabelos (L — louros; P — pretos; ou C — castanhos) e idade. Implemente os seguintes métodos:\n",
        "\n",
        "    1. `leia_dados()`: leia esses dados, armazene e retorne os dados em uma lista;\n",
        "    2. `media_idades(dados)`: calcula e retorne a média de idade das pessoas com olhos castanhos e cabelos pretos;\n",
        "    3. `maior_idade(dados)`: determina e retorne a maior idade entre os habitantes;\n",
        "    4. `frequencia_individuos(dados)`: calcula e retorna a quantidade de indivíduos do sexo feminino com idade entre 18 e 35 anos (inclusive) e que tenham olhos azuis e cabelos louros."
      ]
    },
    {
      "cell_type": "code",
      "metadata": {
        "id": "uVTp9Eb0sa61",
        "colab_type": "code",
        "colab": {
          "base_uri": "https://localhost:8080/",
          "height": 541
        },
        "outputId": "e1f94943-2d75-4dfe-e15d-71eac0822e05"
      },
      "source": [
        "\n",
        "def leia_dados():\n",
        "  sexo = str(input(\"Sexo: (M/F) \\n\")).lower()\n",
        "  cor_olhos = str(input(\"Cor dos olhos: (a — azuis; ou c — castanhos)\\n\")).lower()\n",
        "  cor_cabelo = str(input(\"Cor dos cabelos: (l — louros; p — pretos; ou c — castanhos)\\n\")).lower()\n",
        "  idade = int(input(\"Idade: \\n\"))\n",
        "\n",
        "  arr_dados = {\n",
        "      'sexo': sexo, \n",
        "      'cor_olhos': cor_olhos, \n",
        "      'cor_cabelo': cor_cabelo, \n",
        "      'idade':idade\n",
        "      }\n",
        "\n",
        "  return arr_dados\n",
        "\n",
        "def media_idades(dados):\n",
        "  count_occp = 0\n",
        "  soma_idades = 0\n",
        "  for i in range(len(dados)):\n",
        "    if dados[i]['cor_olhos'] == 'c' and dados[i]['cor_cabelo'] == 'p':\n",
        "      soma_idades += int(dados[i]['idade'])\n",
        "      count_occp += 1\n",
        "\n",
        "  return soma_idades / count_occp\n",
        "\n",
        "def maior_idade(dados):\n",
        "  maior = 0\n",
        "  for i in range(len(dados)):\n",
        "    if dados[i]['idade'] > maior:\n",
        "      maior = int(dados[i]['idade'])\n",
        "\n",
        "  return maior\n",
        "\n",
        "def frequencia_individuos(dados):\n",
        "  count = 0\n",
        "  for i in range(len(dados)):\n",
        "    if dados[i]['sexo'] == 'f':\n",
        "      if (dados[i]['cor_olhos'] == 'a' and dados[i]['cor_cabelo'] == 'l') and (dados[i]['idade'] > 17 and dados[i]['idade'] < 36):\n",
        "          count += 1\n",
        "\n",
        "    return count\n",
        "\n",
        "qtd_pessoas = int(input(\"numero de pessoas\\n\"))\n",
        "lista_dados = []\n",
        "for i in range(qtd_pessoas):\n",
        "  pessoa = leia_dados()\n",
        "  lista_dados.append(pessoa)\n",
        "\n",
        "media_idade = media_idades(lista_dados)\n",
        "maior_idade = maior_idade(lista_dados)\n",
        "freq = frequencia_individuos(lista_dados)\n",
        "\n"
      ],
      "execution_count": 16,
      "outputs": [
        {
          "output_type": "stream",
          "text": [
            "numero de pessoas\n",
            "1\n",
            "Sexo: (M/F) \n",
            "F\n",
            "Cor dos olhos: (a — azuis; ou c — castanhos)\n",
            "a\n",
            "Cor dos cabelos: (l — louros; p — pretos; ou c — castanhos)\n",
            "l\n",
            "Idade: \n",
            "12\n"
          ],
          "name": "stdout"
        },
        {
          "output_type": "error",
          "ename": "ZeroDivisionError",
          "evalue": "ignored",
          "traceback": [
            "\u001b[0;31m---------------------------------------------------------------------------\u001b[0m",
            "\u001b[0;31mZeroDivisionError\u001b[0m                         Traceback (most recent call last)",
            "\u001b[0;32m<ipython-input-16-d9ba90790236>\u001b[0m in \u001b[0;36m<module>\u001b[0;34m()\u001b[0m\n\u001b[1;32m     48\u001b[0m   \u001b[0mlista_dados\u001b[0m\u001b[0;34m.\u001b[0m\u001b[0mappend\u001b[0m\u001b[0;34m(\u001b[0m\u001b[0mpessoa\u001b[0m\u001b[0;34m)\u001b[0m\u001b[0;34m\u001b[0m\u001b[0;34m\u001b[0m\u001b[0m\n\u001b[1;32m     49\u001b[0m \u001b[0;34m\u001b[0m\u001b[0m\n\u001b[0;32m---> 50\u001b[0;31m \u001b[0mmedia_idade\u001b[0m \u001b[0;34m=\u001b[0m \u001b[0mmedia_idades\u001b[0m\u001b[0;34m(\u001b[0m\u001b[0mlista_dados\u001b[0m\u001b[0;34m)\u001b[0m\u001b[0;34m\u001b[0m\u001b[0;34m\u001b[0m\u001b[0m\n\u001b[0m\u001b[1;32m     51\u001b[0m \u001b[0mmaior_idade\u001b[0m \u001b[0;34m=\u001b[0m \u001b[0mmaior_idade\u001b[0m\u001b[0;34m(\u001b[0m\u001b[0mlista_dados\u001b[0m\u001b[0;34m)\u001b[0m\u001b[0;34m\u001b[0m\u001b[0;34m\u001b[0m\u001b[0m\n\u001b[1;32m     52\u001b[0m \u001b[0mfreq\u001b[0m \u001b[0;34m=\u001b[0m \u001b[0mfrequencia_individuos\u001b[0m\u001b[0;34m(\u001b[0m\u001b[0mlista_dados\u001b[0m\u001b[0;34m)\u001b[0m\u001b[0;34m\u001b[0m\u001b[0;34m\u001b[0m\u001b[0m\n",
            "\u001b[0;32m<ipython-input-16-d9ba90790236>\u001b[0m in \u001b[0;36mmedia_idades\u001b[0;34m(dados)\u001b[0m\n\u001b[1;32m     23\u001b[0m       \u001b[0mcount_occp\u001b[0m \u001b[0;34m+=\u001b[0m \u001b[0;36m1\u001b[0m\u001b[0;34m\u001b[0m\u001b[0;34m\u001b[0m\u001b[0m\n\u001b[1;32m     24\u001b[0m \u001b[0;34m\u001b[0m\u001b[0m\n\u001b[0;32m---> 25\u001b[0;31m   \u001b[0;32mreturn\u001b[0m \u001b[0msoma_idades\u001b[0m \u001b[0;34m/\u001b[0m \u001b[0mcount_occp\u001b[0m\u001b[0;34m\u001b[0m\u001b[0;34m\u001b[0m\u001b[0m\n\u001b[0m\u001b[1;32m     26\u001b[0m \u001b[0;34m\u001b[0m\u001b[0m\n\u001b[1;32m     27\u001b[0m \u001b[0;32mdef\u001b[0m \u001b[0mmaior_idade\u001b[0m\u001b[0;34m(\u001b[0m\u001b[0mdados\u001b[0m\u001b[0;34m)\u001b[0m\u001b[0;34m:\u001b[0m\u001b[0;34m\u001b[0m\u001b[0;34m\u001b[0m\u001b[0m\n",
            "\u001b[0;31mZeroDivisionError\u001b[0m: division by zero"
          ]
        }
      ]
    },
    {
      "cell_type": "markdown",
      "metadata": {
        "id": "C-mmivAAsa66",
        "colab_type": "text"
      },
      "source": [
        "10. Implemente o método `fatorial(n)` que receba como parâmetro um número inteiro e retorne o fatorial deste número."
      ]
    },
    {
      "cell_type": "code",
      "metadata": {
        "id": "a7gCc76Wsa67",
        "colab_type": "code",
        "outputId": "e869a2e9-458d-4991-8868-071e648c0409",
        "colab": {
          "base_uri": "https://localhost:8080/",
          "height": 35
        }
      },
      "source": [
        "def fatorial(n):\n",
        "  soma = 1\n",
        "  for i in range(n, 1, -1):\n",
        "    soma *= i\n",
        "  return soma\n",
        "print(fatorial(5))"
      ],
      "execution_count": 17,
      "outputs": [
        {
          "output_type": "stream",
          "text": [
            "120\n"
          ],
          "name": "stdout"
        }
      ]
    },
    {
      "cell_type": "markdown",
      "metadata": {
        "id": "FW66ox7gsa7A",
        "colab_type": "text"
      },
      "source": [
        "\n",
        "11. Faça o método `calcula_fatorial(numeros)` que receba uma lista de números inteiros como parâmetro. Ao final dessa função, deverá ter sido gerado um vetor `resultados_fatorial` contendo o fatorial de cada elemento da lista de números passada como parâmetro."
      ]
    },
    {
      "cell_type": "code",
      "metadata": {
        "id": "NoV3jaN3sa7B",
        "colab_type": "code",
        "outputId": "f743783e-41ec-416e-a16f-f970c6390f4a",
        "colab": {
          "base_uri": "https://localhost:8080/",
          "height": 35
        }
      },
      "source": [
        "def calcula_fatorial(lista):\n",
        "  soma = 1\n",
        "  resultados_fatorial = []\n",
        "  for i in range(len(lista)):\n",
        "    item = lista[i]\n",
        "    for j in range(item, 1, -1):\n",
        "      soma *= j\n",
        "    resultados_fatorial.append(soma)\n",
        "    soma = 1\n",
        "\n",
        "  return resultados_fatorial\n",
        "  \n",
        "minha_lista = [1, 2, 3, 4]\n",
        "print(calcula_fatorial(minha_lista))\n",
        "    "
      ],
      "execution_count": 18,
      "outputs": [
        {
          "output_type": "stream",
          "text": [
            "[1, 2, 6, 24]\n"
          ],
          "name": "stdout"
        }
      ]
    },
    {
      "cell_type": "markdown",
      "metadata": {
        "id": "4V-mb26msa7H",
        "colab_type": "text"
      },
      "source": [
        "12. Crie o método `identifica_numeros_pares(numeros)` que recebe um vetor de números inteiros como parâmetro, calcule e mostre na tela os números pares e suas respectivas posições."
      ]
    },
    {
      "cell_type": "code",
      "metadata": {
        "id": "iTHGks4Dsa7K",
        "colab_type": "code",
        "outputId": "c95e6646-d522-4888-e748-19279f4aadf5",
        "colab": {
          "base_uri": "https://localhost:8080/",
          "height": 52
        }
      },
      "source": [
        "def identifica_numeros_pares(numeros):\n",
        "  for numero in numeros:\n",
        "    if numero % 2 == 0:\n",
        "      print(f'numero: {numero} index: {numeros.index(numero)}')\n",
        "\n",
        "lista = [1, 2, 3, 4]\n",
        "identifica_numeros_pares(lista)"
      ],
      "execution_count": 23,
      "outputs": [
        {
          "output_type": "stream",
          "text": [
            "numero: 2 index: 1\n",
            "numero: 4 index: 3\n"
          ],
          "name": "stdout"
        }
      ]
    },
    {
      "cell_type": "markdown",
      "metadata": {
        "id": "g7CSiCszsa7O",
        "colab_type": "text"
      },
      "source": [
        "13. Crie o método `intercala(a, b)` que receba dois vetores númericos como parâmetro e retorne o vetor resultante da intercalação deles, por exemplo:\n",
        "\n",
        "    * Vetor A = [3, 5, 4, 2, 2, 5, 3, 2, 5, 9]\n",
        "    * Vetor B = [7, 15, 20, 0, 18, 4, 55, 23, 8, 6]\n",
        "    * Vetor Intercalado = [3, 7, 5, 15, 4, 20, 2, 0, 2, 18, 5, 4, 3, 55, 2, 23, 5, 8, 9, 6]\n"
      ]
    },
    {
      "cell_type": "code",
      "metadata": {
        "id": "dOsysDYHsa7P",
        "colab_type": "code",
        "outputId": "0e297880-4653-45f6-dc08-9acc381f8066",
        "colab": {
          "base_uri": "https://localhost:8080/",
          "height": 35
        }
      },
      "source": [
        "def intercala(a, b):\n",
        "  vetor_intercalado = []\n",
        "  for i in range(len(a)):\n",
        "    vetor_intercalado.append(a[i])\n",
        "    vetor_intercalado.append(b[i])\n",
        "  return vetor_intercalado\n",
        "\n",
        "lista1 = [3, 5, 4, 2, 2, 5, 3, 2, 5, 9]\n",
        "lista2 =  [7, 15, 20, 0, 18, 4, 55, 23, 8, 6]\n",
        "print(intercala(lista1, lista2))"
      ],
      "execution_count": 24,
      "outputs": [
        {
          "output_type": "stream",
          "text": [
            "[3, 7, 5, 15, 4, 20, 2, 0, 2, 18, 5, 4, 3, 55, 2, 23, 5, 8, 9, 6]\n"
          ],
          "name": "stdout"
        }
      ]
    },
    {
      "cell_type": "markdown",
      "metadata": {
        "id": "4KgTu6ICsa7U",
        "colab_type": "text"
      },
      "source": [
        "14. Implemente o método `uniao(a, b)` que receba dois vetores numéricos como parâmetro, calcule e retorne um vetor numérico com a união entre a e b (A ∪ B), ou seja, que possua todos os elementos dos vetores A e B, sem repetições."
      ]
    },
    {
      "cell_type": "code",
      "metadata": {
        "id": "0b-1fy3Xsa7W",
        "colab_type": "code",
        "outputId": "6cf6cd08-7592-4603-d416-d6913390755d",
        "colab": {
          "base_uri": "https://localhost:8080/",
          "height": 35
        }
      },
      "source": [
        "def uniao(a, b):\n",
        "  elementos = a + b\n",
        "  aub = []\n",
        "  elementos.sort()\n",
        "  for i in range(len(elementos)):\n",
        "    if elementos[i] != elementos[i - 1]:\n",
        "      aub.append(elementos[i])\n",
        "  \n",
        "  return aub\n",
        "lista1 = [1, 2, 3, 4]\n",
        "lista2 =  [2, 3, 4, 5]\n",
        "print(uniao(lista1, lista2))"
      ],
      "execution_count": 25,
      "outputs": [
        {
          "output_type": "stream",
          "text": [
            "[1, 2, 3, 4, 5]\n"
          ],
          "name": "stdout"
        }
      ]
    },
    {
      "cell_type": "markdown",
      "metadata": {
        "id": "02RycPrfsa7a",
        "colab_type": "text"
      },
      "source": [
        "15. Implemente o método `diferenca(a, b)` que receba dois vetores numéricos como parâmetro, calcule e retorne um vetor numérico com a diferença entre a e b (A - B), ou seja, todos os elementos do vetores A que não existam no vetor B, sem repetições."
      ]
    },
    {
      "cell_type": "code",
      "metadata": {
        "id": "MhTl2Wpksa7c",
        "colab_type": "code",
        "outputId": "c5febc1a-ceff-4581-cbf7-2243b0104448",
        "colab": {
          "base_uri": "https://localhost:8080/",
          "height": 35
        }
      },
      "source": [
        "def diferenca(a, b):\n",
        "  elementos = a + b\n",
        "  adb = []\n",
        "  elementos.sort()\n",
        "  for i in range(len(elementos)):\n",
        "    if elementos[i] == elementos[i - 1]:\n",
        "      adb.remove(elementos[i])\n",
        "    else:\n",
        "      adb.append(elementos[i])\n",
        "\n",
        "  return adb\n",
        "\n",
        "lista1 = [1, 2, 3, 4]\n",
        "lista2 =  [2, 3, 4, 5]\n",
        "print(diferenca(lista1, lista2))\n"
      ],
      "execution_count": 26,
      "outputs": [
        {
          "output_type": "stream",
          "text": [
            "[1, 5]\n"
          ],
          "name": "stdout"
        }
      ]
    },
    {
      "cell_type": "code",
      "metadata": {
        "id": "RgHNywgj9_HM",
        "colab_type": "code",
        "colab": {}
      },
      "source": [
        ""
      ],
      "execution_count": 0,
      "outputs": []
    },
    {
      "cell_type": "markdown",
      "metadata": {
        "id": "8SLJ0Gx9sa7g",
        "colab_type": "text"
      },
      "source": [
        "16. Implemente o método `intersecao(a, b)` que receba dois vetores numéricos como parâmetro, calcule e retorne um vetor numérico com a intersecção entre a e b (A ∩ B), ou seja, contenha apenas os elementos que aparecem nos dois vetores, sem repetições."
      ]
    },
    {
      "cell_type": "code",
      "metadata": {
        "id": "ooKVWyu-sa7h",
        "colab_type": "code",
        "outputId": "af854bf9-5ec1-4ccc-cd1b-6e44c0074bad",
        "colab": {
          "base_uri": "https://localhost:8080/",
          "height": 35
        }
      },
      "source": [
        "def intersecao(a, b):\n",
        "  elementos = a + b\n",
        "  adb = []\n",
        "  elementos.sort()\n",
        "  for i in range(len(elementos)):\n",
        "    if elementos[i] == elementos[i - 1]:\n",
        "      adb.append(elementos[i])\n",
        "\n",
        "  return adb\n",
        "\n",
        "lista1 = [1, 2, 3, 4]\n",
        "lista2 =  [2, 3, 4, 5]\n",
        "print(intersecao(lista1, lista2))"
      ],
      "execution_count": 27,
      "outputs": [
        {
          "output_type": "stream",
          "text": [
            "[2, 3, 4]\n"
          ],
          "name": "stdout"
        }
      ]
    },
    {
      "cell_type": "markdown",
      "metadata": {
        "id": "L1WQLXAjsa7p",
        "colab_type": "text"
      },
      "source": [
        "17. Implemente o método `par(n)` que receba como parâmetro um número e retorne verdadeiro (true) se ele for par ou falso (false) se ele for ímpar."
      ]
    },
    {
      "cell_type": "code",
      "metadata": {
        "id": "oNSwHSBzsa7q",
        "colab_type": "code",
        "colab": {
          "base_uri": "https://localhost:8080/",
          "height": 35
        },
        "outputId": "8f9e0fbc-acdf-4c56-e620-aea8de236d77"
      },
      "source": [
        "def par(n):\n",
        "  return True if (n % 2) == 0 else False\n",
        "par(1)"
      ],
      "execution_count": 30,
      "outputs": [
        {
          "output_type": "execute_result",
          "data": {
            "text/plain": [
              "False"
            ]
          },
          "metadata": {
            "tags": []
          },
          "execution_count": 30
        }
      ]
    },
    {
      "cell_type": "markdown",
      "metadata": {
        "id": "MOtmvzbwsa7v",
        "colab_type": "text"
      },
      "source": [
        "18. Implemente o método `max(numeros)` que receba como parâmetro uma lista de números e retorne o *maior número* encontrado na lista."
      ]
    },
    {
      "cell_type": "code",
      "metadata": {
        "id": "H9C5K1pNsa7w",
        "colab_type": "code",
        "outputId": "44b0ecd9-57ba-423c-d55d-fa4452ed07b2",
        "colab": {
          "base_uri": "https://localhost:8080/",
          "height": 35
        }
      },
      "source": [
        "def max(numeros):\n",
        "  maior = 0\n",
        "  for i in range(len(numeros)):\n",
        "    if numeros[i] > maior:\n",
        "      maior = numeros[i]\n",
        "\n",
        "  return maior\n",
        "\n",
        "print(max([1,2,6,7,9]))"
      ],
      "execution_count": 31,
      "outputs": [
        {
          "output_type": "stream",
          "text": [
            "9\n"
          ],
          "name": "stdout"
        }
      ]
    },
    {
      "cell_type": "markdown",
      "metadata": {
        "id": "g1JK1yajsa71",
        "colab_type": "text"
      },
      "source": [
        "19. Implemente o método `min(numeros)` que receba como parâmetro uma lista de números e retorne o *menor número* encontrado na lista."
      ]
    },
    {
      "cell_type": "code",
      "metadata": {
        "id": "YqYW1P7osa74",
        "colab_type": "code",
        "outputId": "9e0f8a7a-fc87-4d22-c92f-62863e91560d",
        "colab": {
          "base_uri": "https://localhost:8080/",
          "height": 35
        }
      },
      "source": [
        "def min(numeros):\n",
        "  menor = numeros[0]\n",
        "  for i in range(len(numeros)):\n",
        "    if numeros[i] < menor:\n",
        "      menor = numeros[i]\n",
        "\n",
        "  return menor\n",
        "print(min([1,2,6,7,9]))"
      ],
      "execution_count": 32,
      "outputs": [
        {
          "output_type": "stream",
          "text": [
            "1\n"
          ],
          "name": "stdout"
        }
      ]
    },
    {
      "cell_type": "markdown",
      "metadata": {
        "id": "inoWVzSzsa78",
        "colab_type": "text"
      },
      "source": [
        "20. Escreva o método `multiplo(a, b)` que receba dois números inteiros como parâmetro e retorne verdadeiro (true) se o primeiro for um múltiplo do segundo. Por exemplo: \n",
        "\n",
        "    * Se o usuário digitar 15 e 3, o primeiro número será múltiplo do segundo;\n",
        "    * Se o usuário digitar 2 e 4, o primeiro número não será múltiplo do segundo. \n",
        "\n",
        "> **Dica:** use o operador módulo para obter o resto da divisão.\n"
      ]
    },
    {
      "cell_type": "code",
      "metadata": {
        "id": "PoBjnitLsa7-",
        "colab_type": "code",
        "outputId": "f0711cca-ab59-4d45-c826-ba746c2583fd",
        "colab": {
          "base_uri": "https://localhost:8080/",
          "height": 35
        }
      },
      "source": [
        "def multiplo(a, b):\n",
        "  return True if (a % b) == 0 else False\n",
        "\n",
        "print(multiplo(15, 3))"
      ],
      "execution_count": 37,
      "outputs": [
        {
          "output_type": "stream",
          "text": [
            "True\n"
          ],
          "name": "stdout"
        }
      ]
    },
    {
      "cell_type": "markdown",
      "metadata": {
        "id": "ZPVF15_8sa8C",
        "colab_type": "text"
      },
      "source": [
        "21. Implemente o método `imprime_vetor(vetor, codigo)` que receba como parâmetro um vetor de itens que será impresso e um código indicando a ordem da impressão. Se o código for igual a 0, o vetor deverá ser impresso de maneira crescente, caso contrário, se o código for igual a 1 o vetor deverá ser impresso de maneira decrescente. "
      ]
    },
    {
      "cell_type": "code",
      "metadata": {
        "id": "CXCdo1X1sa8E",
        "colab_type": "code",
        "outputId": "99fa9509-86fc-4266-8003-6cf845e89329",
        "colab": {
          "base_uri": "https://localhost:8080/",
          "height": 35
        }
      },
      "source": [
        "def imprime_vetor(vetor, codigo):\n",
        "  vetor_final = []\n",
        "  vetor.sort()\n",
        "  if codigo == 1:\n",
        "    for i in vetor[::-1]:\n",
        "      vetor_final.append(i)\n",
        "  else:\n",
        "    vetor_final = vetor\n",
        "\n",
        "  return vetor_final\n",
        "\n",
        "print(imprime_vetor([4,3,2,1], 0))\n",
        "\n"
      ],
      "execution_count": 40,
      "outputs": [
        {
          "output_type": "stream",
          "text": [
            "[1, 2, 3, 4]\n"
          ],
          "name": "stdout"
        }
      ]
    },
    {
      "cell_type": "markdown",
      "metadata": {
        "id": "746xlzb8sa8I",
        "colab_type": "text"
      },
      "source": [
        "22. Implemente o método `primo(n)` que receba um número como parâmetro e retorna verdadeiro (true) se ele for primo, caso contrário, falso (false). \n",
        "\n",
        "> Um número é primo quando é divisível apenas por 1 e por ele mesmo"
      ]
    },
    {
      "cell_type": "code",
      "metadata": {
        "id": "q_ByzPALsa8K",
        "colab_type": "code",
        "outputId": "8802fa98-5154-4641-e2b3-039e0e788b56",
        "colab": {
          "base_uri": "https://localhost:8080/",
          "height": 35
        }
      },
      "source": [
        "def primo(n):\n",
        "  mult=0\n",
        "  for count in range(2,n):\n",
        "    if (n % count == 0):\n",
        "      mult += 1\n",
        "\n",
        "  return True if mult == 0 else False\n",
        "print(primo(7))"
      ],
      "execution_count": 43,
      "outputs": [
        {
          "output_type": "stream",
          "text": [
            "True\n"
          ],
          "name": "stdout"
        }
      ]
    },
    {
      "cell_type": "markdown",
      "metadata": {
        "id": "v0RbJ6ihsa8O",
        "colab_type": "text"
      },
      "source": [
        "23. Crie o método `media(numeros)` que receba uma lista de números como parâmetro e retorno a média artimética."
      ]
    },
    {
      "cell_type": "code",
      "metadata": {
        "id": "xkczcGd7sa8R",
        "colab_type": "code",
        "outputId": "bd1a7b84-6bd6-45de-c451-55fdf41131f3",
        "colab": {
          "base_uri": "https://localhost:8080/",
          "height": 35
        }
      },
      "source": [
        "def media_aritimetica(notas):\n",
        "  media = sum(notas) / len(notas)\n",
        "  return media\n",
        "\n",
        "\n",
        "print(media_aritimetica([1,2,3,4]))"
      ],
      "execution_count": 45,
      "outputs": [
        {
          "output_type": "stream",
          "text": [
            "2.5\n"
          ],
          "name": "stdout"
        }
      ]
    },
    {
      "cell_type": "markdown",
      "metadata": {
        "id": "dEmnXAb2sa8X",
        "colab_type": "text"
      },
      "source": [
        "24. Faça o método `analisa_numeros(numeros)` que receba uma lista de números como parâmetro, calcule e mostre:\n",
        "\n",
        "    1. A Soma dos números;\n",
        "    2. A quantidade de números;\n",
        "    3. A média dos números;\n",
        "    4. O maior número;\n",
        "    5. O menor número;\n",
        "    6. A média dos números pares;\n",
        "    7. A porcentagem dos números ímpares entre todos os números da lista.\n",
        "\n",
        "> Você pode utilizar métodos criados nos exercícios anteriores."
      ]
    },
    {
      "cell_type": "code",
      "metadata": {
        "id": "w9_b3hShsa8Z",
        "colab_type": "code",
        "colab": {}
      },
      "source": [
        "def analisa_numeros(numeros):\n",
        "  media = 0\n",
        "  soma = 0\n",
        "  maior = numeros[0]\n",
        "  menor = numeros[0]\n",
        "  qtd_pares = 0\n",
        "  soma_pares = []\n",
        "  qtd_impares = 0\n",
        "  for i in numeros:\n",
        "    media += i\n",
        "    soma += i\n",
        "\n",
        "    if i > maior:\n",
        "      maior = i\n",
        "\n",
        "    if i % 2 == 0:\n",
        "      soma_pares += i\n",
        "      qtd_pares += 1\n",
        "    else:\n",
        "      impares += 1\n",
        "\n",
        "\n",
        "  for i in numeros:\n",
        "    if i < menor:\n",
        "      menor = i\n",
        "\n",
        "  qtd_nums = len(numeros)\n",
        "  media_nums = media / qtd_nums\n",
        "  media_pares = soma_pares / qtd_pares\n",
        "  percent_impares = (impares / len(numeros)) * 100\n",
        "\n",
        "  return {\n",
        "      'A Soma dos números: ': soma_pares,\n",
        "      'quantidade de números: ': qtd_nums,\n",
        "      'A média dos números: ': media_nums,\n",
        "      'O maior número: ': maior,\n",
        "      'menor número: ': menor,\n",
        "      'A média dos números pares: ': media_pares,\n",
        "      'A porcentagem dos números ímpares entre todos os números da lista': percent_impares\n",
        "  }\n",
        "\n"
      ],
      "execution_count": 0,
      "outputs": []
    },
    {
      "cell_type": "markdown",
      "metadata": {
        "id": "3zUrOiHssa8d",
        "colab_type": "text"
      },
      "source": [
        "25. Uma empresa quer transmitir dados pelo telefone, mas está preocupada com a interceptação telefônica. Todos os seus dados são transmitidos  como inteiros de quatro dígitos. Ela pediu para que você escreva um programa que criptografe seus dados, para que eles possam ser transmitidos com mais segurança. Implemente a função `criptogra(numero)` que receba como parâmetro um número inteiro de quatro dígitos e criptografe-o da seguinte forma: \n",
        "\n",
        "    * Substitua cada um dos dígitos do número usando a seguinte fórmula: `(digito +  7) módulo 10`; \n",
        "    * Após a substituição, troque o primeiro dígito pelo terceiro e troque o segundo dígito pelo quarto;\n",
        "    * Retorne o número inteiro criptografado.\n"
      ]
    },
    {
      "cell_type": "code",
      "metadata": {
        "id": "oFKRzxnMsa8f",
        "colab_type": "code",
        "outputId": "10b65507-baa2-4f51-aeac-e4120d242571",
        "colab": {
          "base_uri": "https://localhost:8080/",
          "height": 35
        }
      },
      "source": [
        "def criptogra(numero):\n",
        "  numero = str(numero)\n",
        "  cript = []\n",
        "  for i in numero:\n",
        "    i = (int(i) + 7) % 10\n",
        "    cript.append(int(i))\n",
        "\n",
        "  cript[0], cript[1] = cript[2], cript[3]\n",
        "\n",
        "  return cript\n",
        "\n",
        "print(criptogra(1234))\n",
        "  \n",
        "  \n"
      ],
      "execution_count": 44,
      "outputs": [
        {
          "output_type": "stream",
          "text": [
            "[0, 1, 0, 1]\n"
          ],
          "name": "stdout"
        }
      ]
    }
  ]
}