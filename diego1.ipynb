{
  "nbformat": 4,
  "nbformat_minor": 0,
  "metadata": {
    "kernelspec": {
      "display_name": "Python 3",
      "language": "python",
      "name": "python3"
    },
    "language_info": {
      "codemirror_mode": {
        "name": "ipython",
        "version": 3
      },
      "file_extension": ".py",
      "mimetype": "text/x-python",
      "name": "python",
      "nbconvert_exporter": "python",
      "pygments_lexer": "ipython3",
      "version": "3.7.4"
    },
    "colab": {
      "name": "diego1.ipynb",
      "provenance": [],
      "include_colab_link": true
    }
  },
  "cells": [
    {
      "cell_type": "markdown",
      "metadata": {
        "id": "view-in-github",
        "colab_type": "text"
      },
      "source": [
        "<a href=\"https://colab.research.google.com/github/filipedrumond/analise-dados-una-2020-1/blob/master/diego1.ipynb\" target=\"_parent\"><img src=\"https://colab.research.google.com/assets/colab-badge.svg\" alt=\"Open In Colab\"/></a>"
      ]
    },
    {
      "cell_type": "markdown",
      "metadata": {
        "id": "tnSZeDGO3pis",
        "colab_type": "text"
      },
      "source": [
        "# Bem-Vindo ao Mundo Python!"
      ]
    },
    {
      "cell_type": "markdown",
      "metadata": {
        "id": "0i44_d2g3pix",
        "colab_type": "text"
      },
      "source": [
        "## Variáveis e Tipos\n",
        "* Variáveis são **Locais de Memória**;\n",
        "* Os nomes de variáveis devem ser **mnemônicos**, ou seja, de **fácil memorização**;\n",
        "* Variáveis em Python são **\"Case-sensitive\"** e devem escritas com letras minúsculas, sem qualquer tipo de acentuação gráfica;\n",
        "* Nomes compostos de variáveis devem ser separados por subtraço, por exemplo: nome_variavel_composta;\n",
        "* Python é uma linguagem *dinamicamente tipada*, logo, não informamos o tipo de dados durante a declaração de cada variável;\n",
        "\n",
        "### Tipos de Dados Padrão\n",
        "Os tipos de dados primitivos do Python podem ser classificados como: numéricos, sequências, conjuntos e mapeamentos.\n",
        "\n",
        "*Tipos Numéricos*\n",
        "\n",
        "| Nome    | Descrição                    |  Versão               |\n",
        "|:--------|:-----------------------------|:----------------------|\n",
        "| int     | Números Inteiros             | Todas                 |\n",
        "| long    | Números inteiros Longos      | Python 2.x (Somente)  |\n",
        "| float   | Números de Ponto Flutuante   | Todas                 |\n",
        "| complex | Números Complexos            | Todas                 |\n",
        "\n",
        "*Sequências*\n",
        "\n",
        "| Nome         | Descrição                                                  |  Versão               |\n",
        "|:-------------|:-----------------------------------------------------------|:----------------------|\n",
        "| str          | Cadeia de Caracteres (String)                              | Todas                 |\n",
        "| bytes        | Sequência de números inteiros no intervalo de 0 a 255      | Python 3.x (Somente)  |\n",
        "| byte array   | Semelhante ao tipo bytes, porém, mutáveis                  | Python 3.x (Somente)  |\n",
        "| list         | Lista de itens geralmente homogêneos e mutáveis            | Todas                 |\n",
        "| tuple        | Sequência de itens heterogêneos e imutáveis                | Todas                 |\n",
        "\n",
        "*Conjuntos*\n",
        "\n",
        "| Nome       | Descrição                               |  Versão                |\n",
        "|:-----------|:----------------------------------------|:-----------------------|\n",
        "| set        | coleção não ordenada de objetos únicos  | Python 2.6 ou Superior |\n",
        "| frozen set | Semelhante ao tipo set, porém, imutável | Python 2.6 ou Superior |\n",
        "\n",
        "*Mapeamentos*\n",
        "\n",
        "| Nome       | Descrição                               |  Versão                |\n",
        "|:-----------|:----------------------------------------|:-----------------------|\n",
        "| dict       | Dicionários ou Array Associativos       | Todas                  |\n",
        "\n",
        "\n",
        "#### Objetos Mutáveis X Objetos Imutáveis\n",
        "De modo geral, os tipos de dados em Python podem ser diferenciados como mutáveis e imutáveis.\n",
        "\n",
        "- **Objetos Mutáveis:** o conteúdo pode ser alterado após sua criação;\n",
        "- **Objetos Imutáveis:** o conteúdo **não pode ser alterado** após sua criação;\n",
        "\n",
        "| Tipos Mutáveis       | Tipos Imutáveis                         |\n",
        "|:---------------------|:----------------------------------------|\n",
        "| array                | int, float, complex                     |\n",
        "| bytearray            | str                                     |\n",
        "| list                 | bytes                                   |\n",
        "| set                  | tuple                                   |\n",
        "| dict                 | frozenset                               |\n",
        "| -                    | bool                                    |"
      ]
    },
    {
      "cell_type": "code",
      "metadata": {
        "id": "HHZpw2Hc3pi0",
        "colab_type": "code",
        "colab": {}
      },
      "source": [
        "# CONVERSÃO DE TIPO\n",
        "# Aprendendo Conversão de Tipo Com Exemplos\n",
        "\n",
        "# Números Inteiros\n",
        "valor_int_1 = int(2.7) \n",
        "print(valor_int_1) # Saída: 2   \n",
        "\n",
        "valor_int_2 = int(-3.9)\n",
        "print(valor_int_2) # Saída: -3   \n",
        "\n",
        "valor_int_3 = int(\"2\")\n",
        "print(valor_int_3) # Saída: 2  \n",
        "\n",
        "\n",
        "# Números de Ponto Flutuante\n",
        "valor_float_1 = float(7)\n",
        "print(valor_float_1) # Saída: 7.0\n",
        "\n",
        "valor_float_2 = float(\"4.5\")\n",
        "print(valor_float_2) # Saída: 4.5\n",
        "\n",
        "valor_float_4 = float(\"2.7E-2\")\n",
        "print(valor_float_4) # Saída: 0.027\n",
        "\n",
        "valor_float_5 = float(False)\n",
        "print(valor_float_5) # Saída: 0.0\n",
        "\n",
        "valor_float_6 = float(True)\n",
        "print(valor_float_6) # Saída: 1.0\n",
        "\n",
        "\n",
        "# Cadeia de Caracteres\n",
        "valor_string_1 = str(4.5)\n",
        "print(valor_string_1) # Saída: 4.5\n",
        "\n",
        "valor_string_2 = str([1, 2, 3, 4, 5])\n",
        "print(valor_string_2) # Saída: \"[1, 2, 3, 4, 5]\"\n",
        "\n",
        "\n",
        "# Tipos Lógicos (Booleanos)\n",
        "valor_bool_1 = bool(0)\n",
        "print(valor_bool_1) # Saída: False\n",
        "\n",
        "valor_bool_2 = bool(1)\n",
        "print(valor_bool_2) # Saída: True\n",
        "\n",
        "valor_bool_3 = bool([])\n",
        "print(valor_bool_3) # Saída: False - Lista Vazia\n",
        "\n",
        "valor_bool_4 = bool([False])\n",
        "print(valor_bool_4) # Saída: True - Lista Não Vazia\n",
        "\n",
        "valor_bool_5 = bool({})\n",
        "print(valor_bool_5) # Saída: False - Dicionário Vazio, o mesmo para Tupla\n",
        "\n",
        "valor_bool_6 = bool(\"\")\n",
        "print(valor_bool_6) # Saída: False - String Vazia\n",
        "\n",
        "valor_bool_7 = bool(\" \")\n",
        "print(valor_bool_7) # Saída: True - String Não Vazia\n",
        "\n",
        "valor_bool_8 = bool(None)\n",
        "print(valor_bool_8) # Saída: False\n",
        "\n",
        "valor_bool_9 = bool(len)\n",
        "print(valor_bool_9) # Saída: True\n",
        "\n",
        "# Listas e Conjuntos\n",
        "conjunto = set([1, 2])\n",
        "lista = list(conjunto)\n",
        "print(conjunto) # Saída: {1, 2}\n",
        "print(lista)    # Saída: [1, 2]\n",
        "\n",
        "valor_lista_1 = list({0: \"Python\", 1: \"R\"}) # dict: Lista de chaves\n",
        "print(valor_lista_1) # Saída: [0, 1]\n",
        "\n",
        "tupla = tuple(lista)\n",
        "print(tupla) # Saída: (1, 2)\n",
        "\n",
        "valor_lista_2 = list(\"ABC\")\n",
        "print(valor_lista_2) # Saída: ['A', 'B', 'C']"
      ],
      "execution_count": 0,
      "outputs": []
    },
    {
      "cell_type": "markdown",
      "metadata": {
        "id": "KtppaszH3pi-",
        "colab_type": "text"
      },
      "source": [
        "## Exercício 1\n",
        "*Calculando o IMC*\n",
        "\n",
        "O Índice de Massa Corporal (IMC) é uma medida internacional usada para calcular se uma pessoa está em seu peso ideal.\n",
        "O cálculo do IMC é determinado pela divisão da massa do indivíduo em quilogramas pelo quadrado de sua altura em metros.\n",
        "\n",
        "\n",
        "\n",
        "$$IMC=\\frac{massa}{(altura * altura)}$$\n",
        "\n",
        "\n",
        "\n",
        "Escreva um programa que leia do usuário sua altura e peso e calcule o seu IMC.\n"
      ]
    },
    {
      "cell_type": "code",
      "metadata": {
        "id": "2HkMoxUi3pi_",
        "colab_type": "code",
        "colab": {}
      },
      "source": [
        "# TODO: Complete o Código Abaixo\n",
        "altura = input('Altura: ')\n",
        "peso = input('  Peso: ')\n",
        "\n",
        "\n",
        "print(\"   IMC: \")"
      ],
      "execution_count": 0,
      "outputs": []
    },
    {
      "cell_type": "markdown",
      "metadata": {
        "id": "1aL7Fduq3pjE",
        "colab_type": "text"
      },
      "source": [
        "## Operadores\n",
        "\n",
        "*Operadores Numéricos*\n",
        "\n",
        "| Operador | Descrição       |\n",
        "|:---------|:----------------|\n",
        "| +        | Adição          |\n",
        "| -        | Subtração       |\n",
        "| *        | Multiplicação   |\n",
        "| /        | Divisão         |\n",
        "| **       | Expoente        |\n",
        "| %        | Módulo          |\n",
        "| //       | Divisão de Piso |\n",
        "\n",
        "\n",
        "*Operadores de Comparação*\n",
        "\n",
        "| Operador | Descrição       |\n",
        "|:---------|:----------------|\n",
        "| ==       | Igual           |\n",
        "| !=       | Diferente       |\n",
        "| >        | Maior           |\n",
        "| <        | Menor           |\n",
        "| >=       | Maior Igual     |\n",
        "| <=       | Menor Igual     |\n",
        "\n",
        "\n",
        "*Operadores Lógicos*\n",
        "\n",
        "| Operador | Descrição       |\n",
        "|:---------|:----------------|\n",
        "| and      | AND lógico      |\n",
        "| or       | OR lógico       |\n",
        "| not      | NOT lógico      |\n",
        "\n",
        "*Caracteres Especiais*\n",
        "\n",
        "| Operador | Descrição       |\n",
        "|:---------|:----------------|\n",
        "| #        | Comentário      |\n",
        "| \\n       | Nova Linha      |\n"
      ]
    },
    {
      "cell_type": "markdown",
      "metadata": {
        "id": "PiLbsISu3pjL",
        "colab_type": "text"
      },
      "source": [
        "## Exercícios"
      ]
    },
    {
      "cell_type": "markdown",
      "metadata": {
        "id": "vvsgNO4Z3pjN",
        "colab_type": "text"
      },
      "source": [
        "1. Escreva um algoritmo que imprima na tela: Olá Mundo!"
      ]
    },
    {
      "cell_type": "code",
      "metadata": {
        "id": "c7ZO9wzR3pjO",
        "colab_type": "code",
        "outputId": "c077b895-d9a3-4672-82ad-f54634300f4a",
        "colab": {
          "base_uri": "https://localhost:8080/",
          "height": 34
        }
      },
      "source": [
        "print(\"Olá Mundo!\");"
      ],
      "execution_count": 0,
      "outputs": [
        {
          "output_type": "stream",
          "text": [
            "Olá Mundo!\n"
          ],
          "name": "stdout"
        }
      ]
    },
    {
      "cell_type": "markdown",
      "metadata": {
        "id": "665h-MYI3pjS",
        "colab_type": "text"
      },
      "source": [
        "2. Escreva um programa que imprima seu nome na tela."
      ]
    },
    {
      "cell_type": "code",
      "metadata": {
        "id": "C6UFAyQl3pjU",
        "colab_type": "code",
        "colab": {}
      },
      "source": [
        "print(\"Filipe\")"
      ],
      "execution_count": 0,
      "outputs": []
    },
    {
      "cell_type": "markdown",
      "metadata": {
        "id": "bI2OWVnQ3pjd",
        "colab_type": "text"
      },
      "source": [
        "3. O que o código a seguir imprime?\n",
        "\n",
        "```python\n",
        "print(\"*\\n**\\n***\\n****\\n*****\")\n",
        "```"
      ]
    },
    {
      "cell_type": "code",
      "metadata": {
        "id": "L3rnygkG3pjg",
        "colab_type": "code",
        "outputId": "37dd874c-753b-43b4-aba2-faf8b3e5d3d3",
        "colab": {
          "base_uri": "https://localhost:8080/",
          "height": 102
        }
      },
      "source": [
        "*\n",
        "**\n",
        "***\n",
        "****\n",
        "*****"
      ],
      "execution_count": 0,
      "outputs": [
        {
          "output_type": "stream",
          "text": [
            "*\n",
            "**\n",
            "***\n",
            "****\n",
            "*****\n"
          ],
          "name": "stdout"
        }
      ]
    },
    {
      "cell_type": "markdown",
      "metadata": {
        "id": "txkZLFJ33pjm",
        "colab_type": "text"
      },
      "source": [
        "4. O que aparece na janela do console, quando cada uma das instruções abaixo são executadas, para: x = 2 e y = 3? Execute cada uma das linhas abaixos e, se necessário, faça os devidos ajustes no código.\n",
        "    1. *print(“x = ” + x);*\n",
        "    2. *print(“O valor de x + x é ” + (x + x));*\n",
        "    3. *print(“x = ”);*\n",
        "    4. *print((x + y) + “ = “ + (y + x));*\n"
      ]
    },
    {
      "cell_type": "code",
      "metadata": {
        "id": "PJNQoaZJ3pjn",
        "colab_type": "code",
        "outputId": "c55f300a-8589-4324-9e96-8fb26248d351",
        "colab": {
          "base_uri": "https://localhost:8080/",
          "height": 85
        }
      },
      "source": [
        "x = 2\n",
        "y = 3\n",
        "print(\"X = \" + str(x));\n",
        "print(\"O valor de x + x é \" + str(x + x))\n",
        "print(\"x = \")\n",
        "print(str(x+y)+ \" = \" + str(y+x))"
      ],
      "execution_count": 0,
      "outputs": [
        {
          "output_type": "stream",
          "text": [
            "X = 2\n",
            "O valor de x + x é 4\n",
            "x = \n",
            "5 = 5\n"
          ],
          "name": "stdout"
        }
      ]
    },
    {
      "cell_type": "markdown",
      "metadata": {
        "id": "sQXYOQUB3pju",
        "colab_type": "text"
      },
      "source": [
        "5. Escreva um algoritmo que imprima na tela a seguinte mensagem:\n",
        "\n",
        "> A programação é aprendida escrevendo programas - \n",
        "> Brian Kernighan\n"
      ]
    },
    {
      "cell_type": "code",
      "metadata": {
        "id": "A7zWilN53pjv",
        "colab_type": "code",
        "outputId": "1a537242-7e01-4f77-9605-12ea76ce44c4",
        "colab": {
          "base_uri": "https://localhost:8080/",
          "height": 34
        }
      },
      "source": [
        "print(\"A programação é aprendida escrevendo programas - Brian Kernighan\")"
      ],
      "execution_count": 0,
      "outputs": [
        {
          "output_type": "stream",
          "text": [
            "A programação é aprendida escrevendo programas - Brian Kernighan\n"
          ],
          "name": "stdout"
        }
      ]
    },
    {
      "cell_type": "markdown",
      "metadata": {
        "id": "ooyydaX63pj0",
        "colab_type": "text"
      },
      "source": [
        "6. Crie um algoritmo que imprima o produto entre os números 25 e 27"
      ]
    },
    {
      "cell_type": "code",
      "metadata": {
        "id": "o0LaMLat3pj4",
        "colab_type": "code",
        "outputId": "4079f08b-1882-4826-d9cd-16143257dd73",
        "colab": {
          "base_uri": "https://localhost:8080/",
          "height": 34
        }
      },
      "source": [
        "print(str(25*27))"
      ],
      "execution_count": 0,
      "outputs": [
        {
          "output_type": "stream",
          "text": [
            "675\n"
          ],
          "name": "stdout"
        }
      ]
    },
    {
      "cell_type": "markdown",
      "metadata": {
        "id": "-BFgBA1m3pj-",
        "colab_type": "text"
      },
      "source": [
        "7. Crie um algoritmo que imprima a média aritmética entre os números 4, 12, 15."
      ]
    },
    {
      "cell_type": "code",
      "metadata": {
        "id": "Ivz6ueHT3pkA",
        "colab_type": "code",
        "outputId": "c010ce29-f60d-4646-b3e6-2c055bd8f49c",
        "colab": {
          "base_uri": "https://localhost:8080/",
          "height": 34
        }
      },
      "source": [
        "print(str((4+12+15)/3))"
      ],
      "execution_count": 0,
      "outputs": [
        {
          "output_type": "stream",
          "text": [
            "10.333333333333334\n"
          ],
          "name": "stdout"
        }
      ]
    },
    {
      "cell_type": "markdown",
      "metadata": {
        "id": "QNH-p2AJ3pkF",
        "colab_type": "text"
      },
      "source": [
        "8. Faça um programa que leia um número inteiro e mostre-o na tela da seguinte forma: \n",
        "\n",
        "> O número inteiro digitado foi 4."
      ]
    },
    {
      "cell_type": "code",
      "metadata": {
        "id": "H_7UL5G53pkG",
        "colab_type": "code",
        "outputId": "5c443dbd-80c6-4d7d-a95b-201c21491b7e",
        "colab": {
          "base_uri": "https://localhost:8080/",
          "height": 51
        }
      },
      "source": [
        "numInput = float(input(\"Digite um número\"))\n",
        "print(\"O número digitado foi :\" + str(numInput))"
      ],
      "execution_count": 0,
      "outputs": [
        {
          "output_type": "stream",
          "text": [
            "Digite um número4\n",
            "O número digitado foi :4.0\n"
          ],
          "name": "stdout"
        }
      ]
    },
    {
      "cell_type": "markdown",
      "metadata": {
        "id": "YQmWI1Bu3pkL",
        "colab_type": "text"
      },
      "source": [
        "9. Faça um programa que leia e imprima dois números inteiros na tela."
      ]
    },
    {
      "cell_type": "code",
      "metadata": {
        "id": "61IqkDFh3pkN",
        "colab_type": "code",
        "outputId": "32e259ae-fe99-452a-b6e3-2e41978f35b3",
        "colab": {
          "base_uri": "https://localhost:8080/",
          "height": 68
        }
      },
      "source": [
        "numInput1 = int(input(\"Digite um número \"))\n",
        "numInput2 = int(input(\"Digite outro número \"))\n",
        "print(\"Os números digitados foram :\" + str(numInput1) + \" \" + str(numInput2))"
      ],
      "execution_count": 0,
      "outputs": [
        {
          "output_type": "stream",
          "text": [
            "Digite um número3\n",
            "Digite outro número4\n",
            "Os números digitados foram :3 4\n"
          ],
          "name": "stdout"
        }
      ]
    },
    {
      "cell_type": "markdown",
      "metadata": {
        "id": "7XE-fObD3pkT",
        "colab_type": "text"
      },
      "source": [
        "10. Faça um programa que leia um número inteiro e imprima seu número sucessor e antecessor."
      ]
    },
    {
      "cell_type": "code",
      "metadata": {
        "id": "HVC3CNDf3pkV",
        "colab_type": "code",
        "outputId": "c983540a-bc58-46e3-aabe-ac2ea8bda507",
        "colab": {
          "base_uri": "https://localhost:8080/",
          "height": 51
        }
      },
      "source": [
        "numInput = float(input(\"Digite um número\"))\n",
        "print(\"O número digitado foi :\" + str(numInput) + \" seu antecessor é \" + str(numInput -1) + \" e seu sucessor é \" + str(numInput +1))"
      ],
      "execution_count": 0,
      "outputs": [
        {
          "output_type": "stream",
          "text": [
            "Digite um número2\n",
            "O número digitado foi :2.0 seu antecessor é 1.0 e seu sucessor é 3.0\n"
          ],
          "name": "stdout"
        }
      ]
    },
    {
      "cell_type": "markdown",
      "metadata": {
        "id": "__TCl5-A3pkY",
        "colab_type": "text"
      },
      "source": [
        "11. Faça um programa que leia o nome, endereço e telefone de um usuário e imprima na tela."
      ]
    },
    {
      "cell_type": "code",
      "metadata": {
        "id": "HJlJrl2y3pkZ",
        "colab_type": "code",
        "colab": {}
      },
      "source": [
        "nome = input(\"Qual seu nome ?\"))\n",
        "endereco = input(\"Qual seu endereço ?\"))\n",
        "telefone = input(\"Qual seu telefone ?\"))\n",
        "print(\"Você é \" + nome + \" e mora em \" + endereco + \" e seu telefone é \" + telefone)"
      ],
      "execution_count": 0,
      "outputs": []
    },
    {
      "cell_type": "markdown",
      "metadata": {
        "id": "ntB_LD_j3pkd",
        "colab_type": "text"
      },
      "source": [
        "12. Faça um programa que leia e multiplique dois números inteiros."
      ]
    },
    {
      "cell_type": "code",
      "metadata": {
        "id": "9wra2OTq3pke",
        "colab_type": "code",
        "outputId": "c288680b-4c46-4e67-dc63-82f7bb1782ce",
        "colab": {
          "base_uri": "https://localhost:8080/",
          "height": 68
        }
      },
      "source": [
        "numInput1 = int(input(\"Digite um número \"))\n",
        "numInput2 = int(input(\"Digite outro número \"))\n",
        "print(\"A multiplicacao foi :\" + str(numInput1 * numInput2))"
      ],
      "execution_count": 0,
      "outputs": [
        {
          "output_type": "stream",
          "text": [
            "Digite um número 5\n",
            "Digite outro número 5\n",
            "A multiplicacao foi :25\n"
          ],
          "name": "stdout"
        }
      ]
    },
    {
      "cell_type": "markdown",
      "metadata": {
        "id": "0FSCVsqf3pkj",
        "colab_type": "text"
      },
      "source": [
        "13. Faça um programa que leia um número real e imprima a terça parte deste número."
      ]
    },
    {
      "cell_type": "code",
      "metadata": {
        "id": "MtbehrAB3pkk",
        "colab_type": "code",
        "outputId": "d9c17a63-30ed-49c6-ae83-0c1c7f2d27c9",
        "colab": {
          "base_uri": "https://localhost:8080/",
          "height": 51
        }
      },
      "source": [
        "numInput1 = int(input(\"Digite um número \"))\n",
        "print(\"A terça parte do número é :\" + str(numInput1/3))"
      ],
      "execution_count": 0,
      "outputs": [
        {
          "output_type": "stream",
          "text": [
            "Digite um número 3\n",
            "A terça parte do número é :1.0\n"
          ],
          "name": "stdout"
        }
      ]
    },
    {
      "cell_type": "markdown",
      "metadata": {
        "id": "pbecacPv3pko",
        "colab_type": "text"
      },
      "source": [
        "14. Faça um programa que leia dois números inteiros e imprima o dividendo, divisor, quociente e resto da divisão"
      ]
    },
    {
      "cell_type": "code",
      "metadata": {
        "id": "kmWVhWhA3pkr",
        "colab_type": "code",
        "outputId": "838f7ee3-241e-4777-a211-41543c3ef8cf",
        "colab": {
          "base_uri": "https://localhost:8080/",
          "height": 68
        }
      },
      "source": [
        "inDivisor = int(input(\"Digite o divisor \"))\n",
        "inDividendo = int(input(\"Digite o dividendo \"))\n",
        "print(\"O divisor é \" + str(inDivisor) + \" o dividendo é \" + str(inDividendo) + \" o resto é \" + str(inDivisor/inDividendo) + \" e o resto \" + str(inDivisor%inDividendo))"
      ],
      "execution_count": 0,
      "outputs": [
        {
          "output_type": "stream",
          "text": [
            "Digite o divisor 9\n",
            "Digite o dividendo 3\n",
            "O divisor é 9 o dividendo é 3 o resto é 3.0 e o resto 0\n"
          ],
          "name": "stdout"
        }
      ]
    },
    {
      "cell_type": "markdown",
      "metadata": {
        "id": "ZbxzvBCF3pky",
        "colab_type": "text"
      },
      "source": [
        "15. Escreva um programa que solicite do usuário dois números, e imprima o resultado da soma, subtração, multiplicação e divisão."
      ]
    },
    {
      "cell_type": "code",
      "metadata": {
        "id": "AGGI5NH43pkz",
        "colab_type": "code",
        "outputId": "6e59a4c7-b041-465b-db9d-9b0f623b9c35",
        "colab": {
          "base_uri": "https://localhost:8080/",
          "height": 119
        }
      },
      "source": [
        "numInput1 = int(input(\"Digite um número \"))\n",
        "numInput2 = int(input(\"Digite outro número \"))\n",
        "print(\"A soma é :\" + str(numInput1 + numInput2))\n",
        "print(\"A subtração é :\" + str(numInput1 - numInput2))\n",
        "print(\"A multiplicacao é :\" + str(numInput1 * numInput2))\n",
        "print(\"A divisao é :\" + str(numInput1 / numInput2))"
      ],
      "execution_count": 0,
      "outputs": [
        {
          "output_type": "stream",
          "text": [
            "Digite um número 2\n",
            "Digite outro número 4\n",
            "A soma é :6\n",
            "A subtração é :-2\n",
            "A multiplicacao é :8\n",
            "A divisao é :0.5\n"
          ],
          "name": "stdout"
        }
      ]
    },
    {
      "cell_type": "markdown",
      "metadata": {
        "id": "jQklf_ka3pk4",
        "colab_type": "text"
      },
      "source": [
        "16. Faça um programa que leia quatro números inteiros, calcule e mostre a soma desses números."
      ]
    },
    {
      "cell_type": "code",
      "metadata": {
        "id": "9xbPVf_-3pk5",
        "colab_type": "code",
        "outputId": "8d5d38ad-7763-40f0-df0a-ffb2ad4c2446",
        "colab": {
          "base_uri": "https://localhost:8080/",
          "height": 102
        }
      },
      "source": [
        "result = 0\n",
        "for numero in range(0,4):\n",
        "  result += int(input(\"Digite um número \"))\n",
        "print(\"Resultado é \" + str(result))"
      ],
      "execution_count": 0,
      "outputs": [
        {
          "output_type": "stream",
          "text": [
            "Digite um número 3\n",
            "Digite um número 3\n",
            "Digite um número 3\n",
            "Digite um número 3\n",
            "Resultado é 12\n"
          ],
          "name": "stdout"
        }
      ]
    },
    {
      "cell_type": "markdown",
      "metadata": {
        "id": "yktkB7uK3plC",
        "colab_type": "text"
      },
      "source": [
        "17. Faça um programa que receba três notas, calcule e mostre a média aritmética."
      ]
    },
    {
      "cell_type": "code",
      "metadata": {
        "id": "wkxpR5fr3plE",
        "colab_type": "code",
        "outputId": "5763bb53-6afc-4802-b107-480db82902a4",
        "colab": {
          "base_uri": "https://localhost:8080/",
          "height": 85
        }
      },
      "source": [
        "result = 0\n",
        "for numero in range(0,3):\n",
        "  result += int(input(\"Digite um número \"))\n",
        "print(\"A média é \" + str(result / 3))"
      ],
      "execution_count": 0,
      "outputs": [
        {
          "output_type": "stream",
          "text": [
            "Digite um número 4\n",
            "Digite um número 4\n",
            "Digite um número 4\n",
            "A média é 4.0\n"
          ],
          "name": "stdout"
        }
      ]
    },
    {
      "cell_type": "markdown",
      "metadata": {
        "id": "qrjKPszV3plT",
        "colab_type": "text"
      },
      "source": [
        "18. Faça um programa que receba três notas e seus respectivos pesos, calcule e mostre a média ponderada."
      ]
    },
    {
      "cell_type": "code",
      "metadata": {
        "id": "KzwgjbE-3pla",
        "colab_type": "code",
        "outputId": "0b6012a8-73ee-4c3e-b13c-4143130ed8ac",
        "colab": {
          "base_uri": "https://localhost:8080/",
          "height": 136
        }
      },
      "source": [
        "cima = 0\n",
        "baixo = 0\n",
        "for numero in range(0,3):\n",
        "  inNumero = int(input(\"Digite um número \"))\n",
        "  inPeso = int(input(\"Digite este peso \"))\n",
        "  cima += inNumero * inPeso\n",
        "  baixo += inPeso\n",
        "print(\"A média ponderada é  \" + str(cima / baixo))"
      ],
      "execution_count": 0,
      "outputs": [
        {
          "output_type": "stream",
          "text": [
            "Digite um número 4\n",
            "Digite este peso 10\n",
            "Digite um número 4\n",
            "Digite este peso 10\n",
            "Digite um número 4\n",
            "Digite este peso 0\n",
            "A média ponderada é  4.0\n"
          ],
          "name": "stdout"
        }
      ]
    },
    {
      "cell_type": "markdown",
      "metadata": {
        "id": "gzuCxupJ3plx",
        "colab_type": "text"
      },
      "source": [
        "19. Faça um programa que receba o salário de um funcionário, calcule e mostre o novo salário, sabendo-se que este sofreu um aumento de 25%."
      ]
    },
    {
      "cell_type": "code",
      "metadata": {
        "id": "jAWc1Tdj3pl2",
        "colab_type": "code",
        "colab": {
          "base_uri": "https://localhost:8080/",
          "height": 51
        },
        "outputId": "03d121e5-7466-4457-d5bd-d3b8ebaaa3ad"
      },
      "source": [
        "salario = float(input(\"Digite seu salário\"));\n",
        "print(\"Seu novo salário é \" + str((salario * 1.25)) + \" com o aumento de 25%\");"
      ],
      "execution_count": 1,
      "outputs": [
        {
          "output_type": "stream",
          "text": [
            "Digite seu salário100\n",
            "Seu novo salário é 125.0 com o aumento de 25%\n"
          ],
          "name": "stdout"
        }
      ]
    },
    {
      "cell_type": "markdown",
      "metadata": {
        "id": "PBKXYr8S3pmF",
        "colab_type": "text"
      },
      "source": [
        "20. Faça um programa que receba o salário de um funcionário e o percentual de aumento, calcule e mostre o valor do aumento e o novo salário. "
      ]
    },
    {
      "cell_type": "code",
      "metadata": {
        "id": "L4lDMr9g3pmI",
        "colab_type": "code",
        "colab": {
          "base_uri": "https://localhost:8080/",
          "height": 68
        },
        "outputId": "0055b87c-6d9a-4296-ae00-fc185b5ab0d4"
      },
      "source": [
        "salario = float(input(\"Digite seu salário\"));\n",
        "perc = float(input(\"Digite o percentua para o aumento\"));\n",
        "print(\"Seu novo salário é \" + str((salario * (1 +(perc / 100)))) + \" com o aumento de \" + str(perc) + \" % \");"
      ],
      "execution_count": 6,
      "outputs": [
        {
          "output_type": "stream",
          "text": [
            "Digite seu salário100\n",
            "Digite o percentua para o aumento25\n",
            "Seu novo salário é 125.0 com o aumento de 25.0 % \n"
          ],
          "name": "stdout"
        }
      ]
    },
    {
      "cell_type": "markdown",
      "metadata": {
        "id": "fgh-R-g43pmU",
        "colab_type": "text"
      },
      "source": [
        "21. Faça um programa que receba o salário base de um funcionário, calcule e mostre o salário a receber, sabendo-se que o funcionário tem gratificação de 5% sobre o salário base e paga imposto de 7% também sobre o salário base."
      ]
    },
    {
      "cell_type": "code",
      "metadata": {
        "id": "3Eg3Z9KK3pmX",
        "colab_type": "code",
        "colab": {
          "base_uri": "https://localhost:8080/",
          "height": 51
        },
        "outputId": "b71830a4-308c-499c-91a8-d9ca1a2515c2"
      },
      "source": [
        "salario = float(input(\"Digite seu salário\"))\n",
        "grat = salario * 0.05\n",
        "impo = salario * 0.07\n",
        "\n",
        "print(\"Sua bonificação é \" + str(grat) + \" e seu imposto \" + str(impo) + \" e o salário novo será \" + str((salario + grat - impo)))"
      ],
      "execution_count": 10,
      "outputs": [
        {
          "output_type": "stream",
          "text": [
            "Digite seu salário100\n",
            "Sua bonificação é 5.0 e seu imposto 7.000000000000001 e o salário novo será 98.0\n"
          ],
          "name": "stdout"
        }
      ]
    },
    {
      "cell_type": "markdown",
      "metadata": {
        "id": "BlZGu8en3pmd",
        "colab_type": "text"
      },
      "source": [
        "22. Faça um programa que receba o salário base de um funcionário, calcule e mostre seu salário a receber, sabendo-se que o funcionário tem gratificação de R$ 50,00 e paga imposto de 10% sobre o salário base."
      ]
    },
    {
      "cell_type": "code",
      "metadata": {
        "id": "_lR2pQB43pmh",
        "colab_type": "code",
        "colab": {
          "base_uri": "https://localhost:8080/",
          "height": 51
        },
        "outputId": "d9707537-7c0d-4ec3-d250-26abd629769d"
      },
      "source": [
        "salario = float(input(\"Digite seu salário\"))\n",
        "grat = 50\n",
        "impo = salario * 0.10\n",
        "\n",
        "print(\"Sua bonificação é \" + str(grat) + \" e seu imposto \" + str(impo) + \" e o salário novo será \" + str((salario + grat - impo)))"
      ],
      "execution_count": 11,
      "outputs": [
        {
          "output_type": "stream",
          "text": [
            "Digite seu salário100\n",
            "Sua bonificação é 50 e seu imposto 10.0 e o salário novo será 140.0\n"
          ],
          "name": "stdout"
        }
      ]
    },
    {
      "cell_type": "markdown",
      "metadata": {
        "id": "Vb2hA3P93pmp",
        "colab_type": "text"
      },
      "source": [
        "23. Faça um programa que receba o valor de um depósito e o valor da taxa de juros, calcule e mostre o valor do rendimento e o valor total depois do rendimento."
      ]
    },
    {
      "cell_type": "code",
      "metadata": {
        "id": "xvJ68otz3pms",
        "colab_type": "code",
        "colab": {
          "base_uri": "https://localhost:8080/",
          "height": 68
        },
        "outputId": "e1522116-83bd-42a8-8f21-7bf0c9c03205"
      },
      "source": [
        "depo = float(input(\"Digite o valor do depósito \"))\n",
        "taxa = float(input(\"Digite a taxa de rendimento \"))\n",
        "\n",
        "print(\"Seu nov valor é de \" + str(depo * (1 + (taxa / 100)))+ \" e o rendimento foi \" + str((depo * (taxa / 100))))"
      ],
      "execution_count": 12,
      "outputs": [
        {
          "output_type": "stream",
          "text": [
            "Digite o valor do depósito 100\n",
            "Digite a taxa de rendimento 25\n",
            "Seu nov valor é de 125.0 e o rendimento foi 25.0\n"
          ],
          "name": "stdout"
        }
      ]
    },
    {
      "cell_type": "markdown",
      "metadata": {
        "id": "xaYIZzJq3pmz",
        "colab_type": "text"
      },
      "source": [
        "24. Faça um programa que calcule e mostre a área de um triângulo. Sabe-se que: \n",
        "> Área = (base * altura) / 2."
      ]
    },
    {
      "cell_type": "code",
      "metadata": {
        "id": "mfEVUr_43pm1",
        "colab_type": "code",
        "colab": {
          "base_uri": "https://localhost:8080/",
          "height": 68
        },
        "outputId": "e43b4169-e413-47ea-8880-b4963d550bd3"
      },
      "source": [
        "base = float(input(\"Digite a base do triangulo \"))\n",
        "altura = float (input(\"Digite a aultura do triângulo\"))\n",
        "\n",
        "print(\"A Área é \" + str((base * altura)/ 2))"
      ],
      "execution_count": 13,
      "outputs": [
        {
          "output_type": "stream",
          "text": [
            "Digite a base do triangulo 5\n",
            "Digite a aultura do triângulo5\n",
            "A Área é 12.5\n"
          ],
          "name": "stdout"
        }
      ]
    },
    {
      "cell_type": "markdown",
      "metadata": {
        "id": "00_UZefm3pm6",
        "colab_type": "text"
      },
      "source": [
        "25. Escreva um programa que receba como entrada o raio de um círculo e imprima o diâmetro, a circunferência e a área. Para isso, utilize as fórmulas: diâmetro = 2r; circunferência = 2πr, área = πr²."
      ]
    },
    {
      "cell_type": "code",
      "metadata": {
        "id": "gcJiwIa93pm7",
        "colab_type": "code",
        "colab": {
          "base_uri": "https://localhost:8080/",
          "height": 51
        },
        "outputId": "c839ca6c-9748-4430-e2c8-060f5c28a664"
      },
      "source": [
        "import math\n",
        "\n",
        "raio = float(input(\"Digite o raio do circulo\"))\n",
        "print(\"O diametro é \" + str((raio * 2)) + \" ciruferência é \" + str((2 * math.pi * raio)) + \" e área é \" + str(math.pow((math.pi * raio),2)))"
      ],
      "execution_count": 19,
      "outputs": [
        {
          "output_type": "stream",
          "text": [
            "Digite o raio do circulo5\n",
            "O diametro é 10.0 ciruferência é 31.41592653589793 e área é 246.74011002723395\n"
          ],
          "name": "stdout"
        }
      ]
    },
    {
      "cell_type": "markdown",
      "metadata": {
        "id": "blbfYrZa3pm_",
        "colab_type": "text"
      },
      "source": [
        "26. Faça um programa que receba um número positivo e maior que zero, calcule e mostre:\n",
        "    1. o número digitado ao quadrado;\n",
        "    2. o número digitado ao cubo;\n",
        "    3. a raiz quadrada do número digitado.\n"
      ]
    },
    {
      "cell_type": "code",
      "metadata": {
        "id": "K4MYJRIL3pnA",
        "colab_type": "code",
        "colab": {
          "base_uri": "https://localhost:8080/",
          "height": 51
        },
        "outputId": "adc1e8b8-e9c3-4f93-a17d-289a55e6a953"
      },
      "source": [
        "num =  float(input('num: '))\n",
        "\n",
        "quad = num ** 2\n",
        "cubo = num ** 3\n",
        "raiz = num ** (1 / 2)\n",
        "\n",
        "print(quad, cubo, raiz)"
      ],
      "execution_count": 23,
      "outputs": [
        {
          "output_type": "stream",
          "text": [
            "num: 3\n",
            "9.0 27.0 1.7320508075688772\n"
          ],
          "name": "stdout"
        }
      ]
    },
    {
      "cell_type": "markdown",
      "metadata": {
        "id": "5lAEf2_K3pnF",
        "colab_type": "text"
      },
      "source": [
        "27. Faça um programa que receba dois números maiores que zero, calcule e mostre um elevado ao outro."
      ]
    },
    {
      "cell_type": "code",
      "metadata": {
        "id": "AB7uNUS-3pnJ",
        "colab_type": "code",
        "colab": {
          "base_uri": "https://localhost:8080/",
          "height": 68
        },
        "outputId": "8ef34ce0-aec0-4319-e48f-4972ef755d04"
      },
      "source": [
        "num1 =  float(input('num: '))\n",
        "num2 =  float(input('num: '))\n",
        "\n",
        "elevado = num1 ** num2\n",
        "\n",
        "print(elevado)"
      ],
      "execution_count": 22,
      "outputs": [
        {
          "output_type": "stream",
          "text": [
            "num: 8\n",
            "num: 7\n",
            "2097152.0\n"
          ],
          "name": "stdout"
        }
      ]
    },
    {
      "cell_type": "markdown",
      "metadata": {
        "id": "DxOE_RXr3pnM",
        "colab_type": "text"
      },
      "source": [
        "28. Sabe-se que: pé = 12 polegadas; 1 jarda = 3 pés e 1 milha = 1,760 jarda. Faça um programa que receba uma medida em pés, faça as conversões a seguir e mostre os resultados.\n",
        "    1. polegadas;\n",
        "    2. jardas;\n",
        "    3. milhas.\n"
      ]
    },
    {
      "cell_type": "code",
      "metadata": {
        "id": "sdLQw19w3pnN",
        "colab_type": "code",
        "colab": {
          "base_uri": "https://localhost:8080/",
          "height": 51
        },
        "outputId": "e803c44e-dcc9-4295-8539-0c333e231474"
      },
      "source": [
        "medida = float(input(\"Medida em pés\"))\n",
        "\n",
        "pol = medida * 12\n",
        "jar = medida / 1760\n",
        "milha = medida / (1760 * 3)\n",
        "\n",
        "print(pol, jar, milha)"
      ],
      "execution_count": 21,
      "outputs": [
        {
          "output_type": "stream",
          "text": [
            "Medida em pés5\n",
            "60.0 0.002840909090909091 0.000946969696969697\n"
          ],
          "name": "stdout"
        }
      ]
    },
    {
      "cell_type": "markdown",
      "metadata": {
        "id": "Y7VZiGgS3pnQ",
        "colab_type": "text"
      },
      "source": [
        "29. Escreva um programa que receba como entrada um número de 5 dígitos, separe o número em dígitos individuais e os imprima separados por 3 espaços cada um. Por exemplo, se o usuário digitar 42339, o programa deverá imprimir: 4    2    3    3.   Dica: utilize as operações de divisão e módulo para extrair cada dígito do número."
      ]
    },
    {
      "cell_type": "code",
      "metadata": {
        "id": "ed-0h2L33pnR",
        "colab_type": "code",
        "colab": {
          "base_uri": "https://localhost:8080/",
          "height": 51
        },
        "outputId": "0bcde553-5191-43d8-858b-e2bc3ef1fe1f"
      },
      "source": [
        "\n",
        "num = int(input(\"Num: \"))\n",
        "\n",
        "pri = num // 10000 \n",
        "seg = num // 1000 % 10\n",
        "terc = num // 100 % 10\n",
        "quar = num // 10 % 10\n",
        "quin = num // 1 % 10\n",
        "\n",
        "\n",
        "\n",
        "\n",
        "\n",
        "print(pri, seg, terc, quar, quin, sep = \"   \")"
      ],
      "execution_count": 20,
      "outputs": [
        {
          "output_type": "stream",
          "text": [
            "Num: 888999\n",
            "88   8   9   9   9\n"
          ],
          "name": "stdout"
        }
      ]
    }
  ]
}