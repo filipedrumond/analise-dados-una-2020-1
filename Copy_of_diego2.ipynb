{
  "nbformat": 4,
  "nbformat_minor": 0,
  "metadata": {
    "kernelspec": {
      "display_name": "Python 3",
      "language": "python",
      "name": "python3"
    },
    "language_info": {
      "codemirror_mode": {
        "name": "ipython",
        "version": 3
      },
      "file_extension": ".py",
      "mimetype": "text/x-python",
      "name": "python",
      "nbconvert_exporter": "python",
      "pygments_lexer": "ipython3",
      "version": "3.7.4"
    },
    "colab": {
      "name": "Copy of diego2.ipynb",
      "provenance": [],
      "collapsed_sections": [],
      "include_colab_link": true
    }
  },
  "cells": [
    {
      "cell_type": "markdown",
      "metadata": {
        "id": "view-in-github",
        "colab_type": "text"
      },
      "source": [
        "<a href=\"https://colab.research.google.com/github/filipedrumond/analise-dados-una-2020-1/blob/master/Copy_of_diego2.ipynb\" target=\"_parent\"><img src=\"https://colab.research.google.com/assets/colab-badge.svg\" alt=\"Open In Colab\"/></a>"
      ]
    },
    {
      "cell_type": "markdown",
      "metadata": {
        "id": "CJEjzRxOivnM",
        "colab_type": "text"
      },
      "source": [
        "## Estruturas de Controle \n",
        "\n",
        "\n",
        "### Estruturas de Seleção\n",
        "\n",
        "As estruturas de seleção *if* e *if/else* são usadas para controle da execução sequêncial de um programa. \n",
        "Na prática, se uma determinada condição lógica for avaliada como verdadeira, o interpretador Python executa todos os comandos dentro do bloco da estrutura de seleção. \n",
        "Em Python, para a estruturas de seleção única usamos a palavra-chave *if* e para estruturas de seleção múltiplas usamos o nome *elsif*. \n",
        "\n",
        "```python\n",
        " if condicao1:\n",
        "    # Executa quando a condição1 for verdadeira\n",
        " elif condicao2:\n",
        "    # Executa quando a condição2 for verdadeira\n",
        " else:\n",
        "    # Executa quando todas condições não forem satisfeitas\n",
        "```\n",
        "\n",
        "### Estruturas de Repetição\n",
        "\n",
        "O Python possui duas estruturas de repetição, são elas: *for* e *while*. A estrutura de repetição *for*, em sua sintaxe, difere um pouco, por exemplo, das linguagens de programação baseadas em C, onde definimos uma condição de parada (i < n) e um passo de iteração (i++). O comando *for* é usado para percorrer os itens de qualquer sequência (p. ex.: lista, string ou tupla) para que eles apareçam em série ou simplesmente como um laço de repetição (*loop*). "
      ]
    },
    {
      "cell_type": "code",
      "metadata": {
        "id": "ouLpTSXhivnO",
        "colab_type": "code",
        "colab": {}
      },
      "source": [
        "cores  = [\"Vermelho\", \"Laranja\", \"Amarelo\", \"Verde\", \"Azul\", \"Anil\", \"Violeta\"]\n",
        "\n",
        "for cor in cores:\n",
        "    print(\"Eu ♥ \" + cor)"
      ],
      "execution_count": 0,
      "outputs": []
    },
    {
      "cell_type": "markdown",
      "metadata": {
        "id": "EkeMGVWHivnT",
        "colab_type": "text"
      },
      "source": [
        "Se você possui alguma experiência anterior com programação, deve estar se perguntando neste exato momento, como podemos percorrer os itens de uma sequência usando índices? Para tal, podemos utilizar a função range() em conjunto com a função len(). A função *range(start, stop, step)* do Python, retorna uma sequência de números, começando em 0 (zero) por padrão, e incrementando de um em um, até o fim de um número especificado como parâmetro. A função len(), por sua vez, retorna o número de itens de uma determina sequência. Acompanhe abaixo, alguns exemplos de como essas funções podem ser usadas em conjunto com a instrução *for* para indexar itens de uma lista."
      ]
    },
    {
      "cell_type": "code",
      "metadata": {
        "id": "_sA1wzBzivnU",
        "colab_type": "code",
        "colab": {}
      },
      "source": [
        "# EXEMPLOS - Função range()\n",
        "lista1 = range(5)\n",
        "lista2 = range(10, 20, 2)\n",
        "lista3 = range(1, 5)\n",
        "lista4 = range(5, -1, -1)\n",
        "\n",
        "print(\"EXEMPLOS: Função range()\\n\")\n",
        "\n",
        "for item in lista1:\n",
        "    print(item) # Para range(5) Saída: [0, 1, 2, 3, 4]\n",
        "\n",
        "print(\"\\n\") \n",
        "    \n",
        "for item in lista2:\n",
        "    print(item) # Para range(10, 20, 2) Saída: [10, 12, 14, 16, 18]\n",
        "\n",
        "print(\"\\n\")     \n",
        "    \n",
        "for item in lista3:\n",
        "    print(item) # Para range(1, 5) Saída: [1, 2, 3, 4]\n",
        "\n",
        "print(\"\\n\")     \n",
        "    \n",
        "for item in lista4:\n",
        "    print(item) # Para range(1, 5) Saída: [1, 2, 3, 4]\n",
        "    \n",
        "    \n",
        "print(\"\\n\")     \n",
        "    \n",
        "    \n",
        "# EXEMPLOS - for, range() e len\n",
        "print(\"EXEMPLOS: for, len() e range()\\n\")\n",
        "\n",
        "\n",
        "# Imprimindo lista de cores\n",
        "cores  = [\"Vermelho\", \"Laranja\", \"Amarelo\", \"Verde\", \"Azul\", \"Anil\", \"Violeta\"]\n",
        "n = len(cores) # a função len() retorna o número de elementos\n",
        "\n",
        "for i in range(n):\n",
        "    print(cores[i])\n",
        "\n",
        "print(\"\\n\")\n",
        "\n",
        "for i in range((n - 1), -1, -1):\n",
        "    print(cores[i])\n",
        "\n",
        "\n",
        "# for aninhado para impressão de um padrão numérico\n",
        "for i in range(10):\n",
        "    for j in range(i):\n",
        "        print(i, end=\" \")    # Imprime o número\n",
        "    print(\"\\n\")              # Adiciona quebra de linha ao final de cada linha"
      ],
      "execution_count": 0,
      "outputs": []
    },
    {
      "cell_type": "markdown",
      "metadata": {
        "id": "HFt5YHoPivnX",
        "colab_type": "text"
      },
      "source": [
        "Assim como o for, a estrutura de repetição while é usada para repetir um trecho de código várias vezes, porém, no while a repetição continua enquanto uma condição lógica definida seja verdadeira (True), veja alguns exemplos abaixo: \n",
        "\n",
        "```python\n",
        "while condicao: # enquanto condição for verdadeira\n",
        "    # Executa algum(ns) comando(s)\n",
        "    # Atualiza variável de controle\n",
        "```"
      ]
    },
    {
      "cell_type": "code",
      "metadata": {
        "id": "t1pjxQEeivnX",
        "colab_type": "code",
        "colab": {}
      },
      "source": [
        "contador = 0                 # Define uma variável de controle que será avaliada na condição\n",
        "\n",
        "while contador < 10:         # enquanto a condição (contador < 10) for verdadeira\n",
        "    print(contador)          # Executa algum comando: print(contador)\n",
        "    contador = contador + 1  # Atualiza a variável de controle\n",
        "    \n",
        "print(\"\\n\")\n",
        "\n",
        "\n",
        "# EXEMPLO: Algoritmo Fatorial Iterativo\n",
        "n = 3\n",
        "i = 1\n",
        "resultado = 1\n",
        "\n",
        "while i <= n:\n",
        "    resultado = resultado * i\n",
        "    i = i + 1\n",
        "    \n",
        "print(\"Fatorial de %d é %d\" % (n, resultado))\n",
        "    "
      ],
      "execution_count": 0,
      "outputs": []
    },
    {
      "cell_type": "markdown",
      "metadata": {
        "id": "8Dov5H0Wivne",
        "colab_type": "text"
      },
      "source": [
        "### Técnicas de Looping\n",
        "\n",
        "1. Ao percorrer dicionários, a chave e o valor, podem ser recuperados ao mesmo tempo através do método *items()*;\n",
        "\n",
        "```python\n",
        "websites = {'site': \"Python Software Foundation\", 'url': \"https://www.python.org/\"}\n",
        "\n",
        "for key, value in websites.items():\n",
        "    print(key, value)\n",
        "    \n",
        "# Saída\n",
        "# site Python Software Foundation\n",
        "# url https://www.python.org/\n",
        "```\n",
        "\n",
        "2. Ao percorrer sequências, índice e o item, podem ser recuperados ao mesmo tempo através do método *enumerate()*;\n",
        "\n",
        "```python\n",
        "rgb = [\"Red\", \"Green\", \"Blue\"]\n",
        "\n",
        "for i, item in enumerate(rgb):\n",
        "    print(i, item)\n",
        "    \n",
        "# Saída\n",
        "# 0 Red\n",
        "# 1 Green\n",
        "# 2 Blue\n",
        "```\n",
        "\n",
        "3. Para percorrer duas ou mais sequências ao mesmo tempo, as entradas podem ser emparelhadas através da função *zip()*;\n",
        "\n",
        "\n",
        "```python\n",
        "condinomes_android = [\"Petit Four\", \"Eclair\",  \"Honeycomb\", \"Ice Cream Sandwich\", \"Lollipop\", \"Marshmallow\", \"Nougat\", \"Oreo\", \"Pie\"]\n",
        "versoes_android = [\"1.1\", \"2.0 – 2.1\", \"3.0 – 3.2.6\", \"4.0 – 4.0.4\", \"5.0 – 5.1.1\", \"6.0 – 6.0.1\", \"7.0 – 7.1.2\", \"8.0 – 8.1\", \"9.0\"]\n",
        "\n",
        "for codinome, versao in zip(condinomes_android, versoes_android):\n",
        "    print(codinome, versao)\n",
        "    \n",
        "# Saída\n",
        "# Petit Four 1.1\n",
        "# Eclair 2.0 – 2.1\n",
        "# Honeycomb 3.0 – 3.2.6\n",
        "# Ice Cream Sandwich 4.0 – 4.0.4\n",
        "# Lollipop 5.0 – 5.1.1\n",
        "# Marshmallow 6.0 – 6.0.1\n",
        "# Nougat 7.0 – 7.1.2\n",
        "# Oreo 8.0 – 8.1\n",
        "# Pie 9.0\n",
        "```\n",
        "\n",
        "4. Para iterar em uma sequência ordenada sem alterar a ordem dos elementos utilize o metodo *sorted()* que irá retornar uma nova lista ordenada sem alterar a original\n",
        "\n",
        "```python\n",
        "estados_sudeste_brasileiro = [\"São Paulo\", \"Rio de Janeiro\", \"Minas Gerais\", \"Espírito Santo\"]\n",
        "\n",
        "for estado in sorted(set(estados_sudeste_brasileiro)):\n",
        "    print(estado)\n",
        "    \n",
        "# Saída\n",
        "# Espírito Santo\n",
        "# Minas Gerais\n",
        "# Rio de Janeiro\n",
        "# São Paulo    \n",
        "    \n",
        "```"
      ]
    },
    {
      "cell_type": "markdown",
      "metadata": {
        "id": "pQvJvQ7Pivne",
        "colab_type": "text"
      },
      "source": [
        "## Exercícios"
      ]
    },
    {
      "cell_type": "markdown",
      "metadata": {
        "id": "nGH6PIkrivnf",
        "colab_type": "text"
      },
      "source": [
        "1. A nota final de um estudante é calculada a partir de três notas atribuídas, respectivamente, a um trabalho\n",
        "de laboratório, a uma avaliação semestral e a um exame final. A média das três notas mencionadas\n",
        "obedece aos pesos a seguir:\n",
        "\n",
        "| Nota                    | Peso |\n",
        "|-------------------------|------|\n",
        "| Trabalho de Laboratório | 2    |\n",
        "| Avaliação Semestral     | 3    |\n",
        "| Exame Final             | 5    |\n",
        "\n",
        "\n",
        "Faça um programa que receba as três notas, calcule e mostre a média ponderada e o conceito que segue\n",
        "a tabela:\n",
        "\n",
        "| Média Ponderada        | Conceito |\n",
        "|------------------------|----------|\n",
        "| 8,00 <= Média <= 10,00 | A        |\n",
        "| 7,00 <= Média < 8,00   | B        |\n",
        "| 6,00 <= Média < 7,00   | C        |\n",
        "| 5,00 <= Média < 6,00   | D        |\n",
        "| 0,00 <= Média < 5,00   | E        |\n",
        "\n"
      ]
    },
    {
      "cell_type": "code",
      "metadata": {
        "id": "FZopvNz9ivng",
        "colab_type": "code",
        "outputId": "0c8d9582-f35b-4240-d64d-1623d60c8c5b",
        "colab": {
          "base_uri": "https://localhost:8080/",
          "height": 85
        }
      },
      "source": [
        "tiposNotas = ['Trab Lab ','Aval Semestral ','Exa Final ']\n",
        "pesosNotas = [2,3,5]\n",
        "mediaPonderada = 0\n",
        "\n",
        "for i in range(3):\n",
        "  notaDigi = float(input('Digite sua nota de ' + tiposNotas[i]))\n",
        "  mediaPonderada += (notaDigi * pesosNotas[i])\n",
        "mediaPonderada = mediaPonderada / sum(pesosNotas)\n",
        "\n",
        "result = 'E'\n",
        "if(mediaPonderada >= 6): result = 'D'\n",
        "if(mediaPonderada >= 7): result = 'C'\n",
        "if(mediaPonderada >= 8): result = 'B'\n",
        "if(mediaPonderada >= 10): result = 'A'\n",
        "\n",
        "print('Sua nota é ' + str(mediaPonderada) + ' com um resultado de ' + str(result))"
      ],
      "execution_count": 6,
      "outputs": [
        {
          "output_type": "stream",
          "text": [
            "Digite sua nota de Trab Lab 10\n",
            "Digite sua nota de Aval Semestral 10\n",
            "Digite sua nota de Exa Final 10\n",
            "Sua nota é 10.0 com um resultado de A\n"
          ],
          "name": "stdout"
        }
      ]
    },
    {
      "cell_type": "markdown",
      "metadata": {
        "id": "s1JJivPdivnj",
        "colab_type": "text"
      },
      "source": [
        "2. Faça um programa que receba três notas de um aluno, calcule e mostre a média aritmética e a mensagem constante na tabela a seguir. \n",
        "\n",
        "| Média                  | Situação       |\n",
        "|------------------------|----------------|\n",
        "| 7,00 <= Média <= 10,00 | Aprovado       |\n",
        "| 3,00 <= Média < 7,00   | Exame Especial |\n",
        "| 0,00 <= Média < 3,00   | Reprovado      |"
      ]
    },
    {
      "cell_type": "code",
      "metadata": {
        "id": "v9bt0ArNivnk",
        "colab_type": "code",
        "colab": {
          "base_uri": "https://localhost:8080/",
          "height": 85
        },
        "outputId": "5ef7a05e-cc7e-4d43-9fac-7ad1be1ac04c"
      },
      "source": [
        "media = 0\n",
        "\n",
        "for i in range(3):\n",
        "  notaDigi = float(input('Digite a ' + str(i) + 'ª nota: '))\n",
        "  media += notaDigi\n",
        "\n",
        "media /= 3\n",
        "\n",
        "result = 'Reprovado'\n",
        "if(media >= 3): result = 'Exame Especial'\n",
        "if(media >= 7): result = 'Aprovado'\n",
        "\n",
        "print('com média de ' + str(media) + ' seu resultado é ' + str(result))"
      ],
      "execution_count": 7,
      "outputs": [
        {
          "output_type": "stream",
          "text": [
            "Digite a 0ª nota: 10\n",
            "Digite a 1ª nota: 10\n",
            "Digite a 2ª nota: 10\n",
            "com média de 10.0 seu resultado é Aprovado\n"
          ],
          "name": "stdout"
        }
      ]
    },
    {
      "cell_type": "markdown",
      "metadata": {
        "id": "baRgmYKTivnn",
        "colab_type": "text"
      },
      "source": [
        "3. Faça um programa que receba dois números e mostre o maior."
      ]
    },
    {
      "cell_type": "code",
      "metadata": {
        "id": "wCNN4OnWivno",
        "colab_type": "code",
        "colab": {
          "base_uri": "https://localhost:8080/",
          "height": 68
        },
        "outputId": "bf9c1840-d37f-4359-a5ae-01089e1f5ab1"
      },
      "source": [
        "for i in range(2):\n",
        "  numDigi = float(input('Digite um número :'))\n",
        "  if(i == 0 or numDigi > maior):\n",
        "    maior = numDigi\n",
        "print('O maior é : ' + str(maior))"
      ],
      "execution_count": 12,
      "outputs": [
        {
          "output_type": "stream",
          "text": [
            "Digite um número :5\n",
            "Digite um número :10\n",
            "O maior é : 10.0\n"
          ],
          "name": "stdout"
        }
      ]
    },
    {
      "cell_type": "markdown",
      "metadata": {
        "id": "F9VpcSkEivnw",
        "colab_type": "text"
      },
      "source": [
        "4. Faça um programa que receba um número inteiro e verifique se é par ou ímpar."
      ]
    },
    {
      "cell_type": "code",
      "metadata": {
        "id": "9UbWprFaivnx",
        "colab_type": "code",
        "colab": {
          "base_uri": "https://localhost:8080/",
          "height": 51
        },
        "outputId": "2fcd18b3-1394-465a-e75f-3a3ea6638c2f"
      },
      "source": [
        "numDigi = float(input('Digite um número :'))\n",
        "result = 'ímpar'\n",
        "if((numDigi % 2) == 0):\n",
        "  result = 'Par'\n",
        "print('O núemro ' + str(numDigi) + ' digitado é ' + str(result))\n"
      ],
      "execution_count": 17,
      "outputs": [
        {
          "output_type": "stream",
          "text": [
            "Digite um número :4\n",
            "O núemro 4.0digitado é Par\n"
          ],
          "name": "stdout"
        }
      ]
    },
    {
      "cell_type": "markdown",
      "metadata": {
        "id": "OftSoBk2ivnz",
        "colab_type": "text"
      },
      "source": [
        "5. Faça um programa que mostre o menu de opções a seguir, receba a opção do usuário e os dados necessários para executar cada operação.\n",
        "\n",
        "Menu de opções:\n",
        "\n",
        "1. Somar dois números.\n",
        "2. Raiz quadrada de um número.\n",
        "\n",
        "Digite a opção desejada:"
      ]
    },
    {
      "cell_type": "code",
      "metadata": {
        "id": "Pirj1FbLivn0",
        "colab_type": "code",
        "colab": {
          "base_uri": "https://localhost:8080/",
          "height": 102
        },
        "outputId": "a14f642c-e073-45ac-9366-4653c2631c0f"
      },
      "source": [
        "option = float(input('Digite uma opção ---- 1 para somar dois números ----- 2 Para raiz quadrada de um número \\n'))\n",
        "if(option == 1):\n",
        "  soma = 0\n",
        "  for i in range(2):\n",
        "    numDigi = float(input('Digite o '+ i +'º núemro \\n'))\n",
        "    soma += numDigi\n",
        "  print('O resultado da soma é: ' + str(soma))\n",
        "\n",
        "if(option == 2):\n",
        "  import math\n",
        "  numDigi = float(input('Digite o núemro \\n'))\n",
        "  raiz = math.sqrt(numDigi)\n",
        "  print('O resultado da raiz quadrada é ' + str(raiz))"
      ],
      "execution_count": 26,
      "outputs": [
        {
          "output_type": "stream",
          "text": [
            "Digite uma opção ---- 1 para somar dois números ----- 2 Para raiz quadrada de um número \n",
            "2\n",
            "Digite o núemro \n",
            "9\n",
            "O resultado da raiz quadrada é 3.0\n"
          ],
          "name": "stdout"
        }
      ]
    },
    {
      "cell_type": "markdown",
      "metadata": {
        "id": "2qI_N_hiivn3",
        "colab_type": "text"
      },
      "source": [
        "6. Faça um programa que receba o código correspondente ao cargo de um funcionário e seu salário atual e mostre o cargo, o valor do aumento e seu novo salário. Os cargos estão na tabela a seguir.\n",
        "\n",
        "| Código | Cargo       | Percentual  |\n",
        "|--------|-------------|-------------|\n",
        "| 1      | Escrituário | 50%         |\n",
        "| 2      | Secretário  | 35%         |\n",
        "| 3      | Caixa       | 20%         |\n",
        "| 4      | Gerente     | 10%         |\n",
        "| 5      | Diretor     | Sem Aumento |"
      ]
    },
    {
      "cell_type": "code",
      "metadata": {
        "id": "u3H1HAXtivn3",
        "colab_type": "code",
        "colab": {
          "base_uri": "https://localhost:8080/",
          "height": 204
        },
        "outputId": "b90cac6e-7531-4ee7-d573-487502ff9205"
      },
      "source": [
        "print('Digite seu código de cargo :')\n",
        "print('1 -> Escrituário')\n",
        "print('2 -> Secretário')\n",
        "print('3 -> Caixa')\n",
        "print('4 -> Gerente')\n",
        "print('5 -> Diretor')\n",
        "\n",
        "codDigi = int(input('\\n'))\n",
        "percentual = [50, 35, 20, 10, 0]\n",
        "percentualReferente = percentual[codDigi -1 ]\n",
        "\n",
        "salario = float(input('Digite seu salário:\\n'))\n",
        "\n",
        "print('Com um aumento de ' + str(percentualReferente) + '% seu novo salário é: '+ str( salario + (salario * (percentualReferente / 100))))"
      ],
      "execution_count": 30,
      "outputs": [
        {
          "output_type": "stream",
          "text": [
            "Digite seu código de cargo :\n",
            "1 -> Escrituário\n",
            "2 -> Secretário\n",
            "3 -> Caixa\n",
            "4 -> Gerente\n",
            "5 -> Diretor\n",
            "\n",
            "1\n",
            "Digite seu salário:\n",
            "1000\n",
            "Com um aumento de 50% seu novo salário é: 1500.0\n"
          ],
          "name": "stdout"
        }
      ]
    },
    {
      "cell_type": "markdown",
      "metadata": {
        "id": "4ZWGkd99ivoB",
        "colab_type": "text"
      },
      "source": [
        "7. Faça um programa que receba o salário inicial de um funcionário, calcule e mostre o novo salário, acrescido de bonificação e de auxílio escola.\n",
        "\n",
        "| Salário                      | Bonificação     |\n",
        "|------------------------------|-----------------|\n",
        "| Até R\\\\$500,00                 | 5% do salário  |\n",
        "| Entre R\\\\$500,00 e R\\$1.1200,00 | 12% do salário  \n",
        "| Acima de R\\\\$1.200,00          | Sem Bonificação |\n",
        "\n",
        "| Salário           | Auxílio Escola |\n",
        "|-------------------|----------------|\n",
        "| Até R\\\\$600,00      | R\\\\$150,00       |\n",
        "| Acima de R\\\\$600,00 | R\\\\$100,00       |"
      ]
    },
    {
      "cell_type": "code",
      "metadata": {
        "id": "mRoX88JOivoC",
        "colab_type": "code",
        "colab": {
          "base_uri": "https://localhost:8080/",
          "height": 68
        },
        "outputId": "f2345f2e-b976-4f9f-85cd-ce1689a849f1"
      },
      "source": [
        "salario = float(input('Digite o salário :\\n'))\n",
        "\n",
        "bonus = 0\n",
        "if(salario <= 500):\n",
        "  bonus = 0.05\n",
        "if(salario <= 1200):\n",
        "  bonus = 0.12\n",
        "\n",
        "novoSalario = salario  + (salario * bonus)\n",
        "\n",
        "auxEscola = 150\n",
        "if(salario >= 600):\n",
        "  auxEscola = 100\n",
        "\n",
        "novoSalario += auxEscola\n",
        "print('Seu novo salário é '+ str(novoSalario))"
      ],
      "execution_count": 33,
      "outputs": [
        {
          "output_type": "stream",
          "text": [
            "Digite o salário :\n",
            "1201\n",
            "Seu novo salário é 1301.0\n"
          ],
          "name": "stdout"
        }
      ]
    },
    {
      "cell_type": "markdown",
      "metadata": {
        "id": "WrraYRE-ivoI",
        "colab_type": "text"
      },
      "source": [
        "8. Um supermercado deseja reajustar os preços de seus produtos usando o seguinte critério: o produto poderá ter seu preço aumentado ou diminuído. Para o preço ser alterado, o produto deve preencher pelo menos um dos requisitos a seguir:\n",
        "\n",
        "| Venda Média Mensal | Preço Atual             | % de Aumento | % de Diminuição |\n",
        "|--------------------|-------------------------|--------------|-----------------|\n",
        "| < 500              | < R\\\\$ 30,00              | 10           | -               |\n",
        "| >= 500 e < 1.200   | >= R\\\\$30,00 e < R\\\\$ 80,00 | 15           | -               |\n",
        "| >= 1.200           | >= R\\\\$80,00              | -            | 20              |"
      ]
    },
    {
      "cell_type": "code",
      "metadata": {
        "id": "5gfdfe9EivoJ",
        "colab_type": "code",
        "colab": {
          "base_uri": "https://localhost:8080/",
          "height": 68
        },
        "outputId": "f2870b2a-1892-40c0-f51b-4318f9cc9511"
      },
      "source": [
        "preco = float(input())\n",
        "venda = int(input())\n",
        "\n",
        "if venda < 500 or preco < 30:\n",
        "   novo = preco + (preco * 10 / 100)\n",
        "   print(f'O novo preço do produto é R$ {novo}')\n",
        "elif venda >= 500 or venda < 1200:\n",
        "  if preco >= 30 and preco < 80:\n",
        "    novo = preco + (preco * 15 / 100)\n",
        "    print(f'O novo preço do produto é R$ {novo}')\n",
        "  else:\n",
        "    if venda >= 1200 or preco >= 80:\n",
        "       novo = preco - (preco * 20 / 100)\n",
        "       print(f'O novo preço do produto é R$ {novo}')"
      ],
      "execution_count": 35,
      "outputs": [
        {
          "output_type": "stream",
          "text": [
            "30\n",
            "501\n",
            "O novo preço do produto é R$ 34.5\n"
          ],
          "name": "stdout"
        }
      ]
    },
    {
      "cell_type": "markdown",
      "metadata": {
        "id": "uvlelME4ivoU",
        "colab_type": "text"
      },
      "source": [
        "9. Faça um programa para resolver equações do 2º grau.\n",
        "\n",
        "$$\n",
        "a^{2} + bx + c = 0\n",
        "$$\n",
        "\n",
        "\n",
        "Onde x é uma variável, sendo a, b e c constantes, com a ≠ 0 \n",
        "\n",
        "\n",
        "$$\n",
        "\\Delta = b^{2} - 4ac\n",
        "$$\n",
        "\n",
        "$$\n",
        "\\Delta < 0 \\rightarrow não \\: existe  \\: raiz  \\: real\n",
        "$$\n",
        "\n",
        "$$\n",
        "\\Delta = 0 \\rightarrow  existe  \\: raiz  \\: real\n",
        "$$\n",
        "\n",
        "$$\n",
        "x = \\frac{-b}{2a}\n",
        "$$\n",
        "\n",
        "\n",
        "\n",
        "$$\n",
        "\\Delta > 0 \\rightarrow existem \\: duas  \\: raizes  \\: reais\n",
        "$$\n",
        "\n",
        "\n",
        "$$\n",
        "x_1 = \\frac{-b \\: + \\: \\sqrt{\\Delta } }{2a}\n",
        "$$\n",
        "\n",
        "$$\n",
        "x_2 = \\frac{-b \\: - \\: \\sqrt{\\Delta } }{2a}\n",
        "$$"
      ]
    },
    {
      "cell_type": "code",
      "metadata": {
        "id": "Qm-lRcqtivoV",
        "colab_type": "code",
        "colab": {
          "base_uri": "https://localhost:8080/",
          "height": 102
        },
        "outputId": "3caa3086-39c1-4c09-a720-779311c5a558"
      },
      "source": [
        "import math\n",
        "a = float(input())\n",
        "b = float(input())\n",
        "c = float(input()) \n",
        "\n",
        "delta = (b ** 2) - (4 * a * c)\n",
        "raiz_delta = math.sqrt(delta)\n",
        "\n",
        "xis_um = (-b + raiz_delta) / (2*a)\n",
        "xis_dois =  (-b - raiz_delta) / (2*a)\n",
        "\n",
        "print(f\" x'{xis_um}, x''{xis_dois} e delta {delta} \")"
      ],
      "execution_count": 40,
      "outputs": [
        {
          "output_type": "stream",
          "text": [
            "1\n",
            "8\n",
            "-9\n",
            "100.0\n",
            " x'1.0, x''-9.0 e delta 100.0 \n"
          ],
          "name": "stdout"
        }
      ]
    },
    {
      "cell_type": "markdown",
      "metadata": {
        "id": "b6kT91GNivoY",
        "colab_type": "text"
      },
      "source": [
        "10. Dados três valores X, Y e Z, verifique se eles podem ser os comprimentos dos lados de um triângulo e, se forem, verifique se é um triângulo equilátero, isósceles ou escaleno. Se eles não formarem um triângulo, escreva uma mensagem. Considere que:\n",
        "\n",
        "- O comprimento de cada lado de um triângulo é menor que a soma dos outros dois lados;\n",
        "- Chama-se equilátero o triângulo que tem três lados iguais;\n",
        "- Denomina-se isósceles o triângulo que tem o comprimento de dois lados iguais;\n",
        "- Recebe o nome de escaleno o triângulo que tem os três lados diferentes."
      ]
    },
    {
      "cell_type": "code",
      "metadata": {
        "id": "OixuK2G_ivoY",
        "colab_type": "code",
        "colab": {
          "base_uri": "https://localhost:8080/",
          "height": 85
        },
        "outputId": "a832932e-4e76-4e4e-b272-56b7597b6a59"
      },
      "source": [
        "x = float(input())\n",
        "y = float(input())\n",
        "z = float(input())\n",
        "\n",
        "if x == y and y == z:\n",
        "  print('equilátero')\n",
        "elif x == y or y == z or z == x:\n",
        "  print('isósceles')\n",
        "else:\n",
        "  print('escaleno')"
      ],
      "execution_count": 41,
      "outputs": [
        {
          "output_type": "stream",
          "text": [
            "3\n",
            "3\n",
            "3\n",
            "equilátero\n"
          ],
          "name": "stdout"
        }
      ]
    },
    {
      "cell_type": "markdown",
      "metadata": {
        "id": "0Tro6tX-ivoc",
        "colab_type": "text"
      },
      "source": [
        "11. Faça um programa que receba a altura e o peso de uma pessoa. De acordo com a tabela a seguir, verifique e mostre a classificação dessa pessoa.\n",
        "\n",
        "| Altura           | Peso até 60 | Peso entre 60 e 90 (Inclusive) | Peso Acima de 90 |\n",
        "|------------------|-------------|--------------------------------|------------------|\n",
        "| Menores que 1,20 | A           | D                              | G                |\n",
        "| De 1,20 a 1,70   | B           | E                              | H                |\n",
        "| Maiores que 1,70 | C           | F                              | I                |"
      ]
    },
    {
      "cell_type": "code",
      "metadata": {
        "id": "wYtVKa_hivod",
        "colab_type": "code",
        "colab": {
          "base_uri": "https://localhost:8080/",
          "height": 68
        },
        "outputId": "89773e47-b2e3-4213-c034-f4d72cd25e1c"
      },
      "source": [
        "\n",
        "altura = float(input())\n",
        "peso = float(input())\n",
        "\n",
        "classificacao = ''\n",
        "\n",
        "if altura >= 1.70:\n",
        "  if peso >= 90.0:\n",
        "    classificacao = 'I'\n",
        "  elif peso <= 60.0:\n",
        "    classificacao = 'C'\n",
        "  else:\n",
        "    classificacao = 'F'\n",
        "elif altura <= 1.20:\n",
        "  if peso >= 90.0:\n",
        "    classificacao = 'G'\n",
        "  elif peso <= 60.0:\n",
        "    classificacao = 'D'\n",
        "  else:\n",
        "    classificacao = 'A'\n",
        "else:\n",
        "  if peso >= 90.0:\n",
        "    classificacao = 'H'\n",
        "  elif peso <= 60.0:\n",
        "    classificacao = 'E'\n",
        "  else:\n",
        "    classificacao = 'B'\n",
        "\n",
        "print(classificacao)"
      ],
      "execution_count": 42,
      "outputs": [
        {
          "output_type": "stream",
          "text": [
            "1.75\n",
            "90\n",
            "I\n"
          ],
          "name": "stdout"
        }
      ]
    },
    {
      "cell_type": "markdown",
      "metadata": {
        "id": "hagG0NUOivoj",
        "colab_type": "text"
      },
      "source": [
        "12. Faça um programa que receba:\n",
        "\n",
        "- O código de um produto comprado, supondo que a digitação do código do produto seja sempre válida, isto é, um número inteiro entre 1 e 10.\n",
        "- O peso do produto em quilos.\n",
        "- O código do país de origem, supondo que a digitação do código seja sempre válida, isto é, um número inteiro entre 1 e 3. \n",
        "\n",
        "Tabelas:\n",
        "\n",
        "| Código do País de Origem | Imposto |\n",
        "|--------------------------|---------|\n",
        "| 1                        | 0%      |\n",
        "| 2                        | 15%     |\n",
        "| 3                        | 25%     |\n",
        "\n",
        "\n",
        "| Código do Produto | Preço por Grama |\n",
        "|-------------------|-----------------|\n",
        "| 1 a 4             | 10              |\n",
        "| 5 a 7             | 25              |\n",
        "| 8 a 10            | 35              |"
      ]
    },
    {
      "cell_type": "code",
      "metadata": {
        "id": "EZNgKHtCivok",
        "colab_type": "code",
        "colab": {
          "base_uri": "https://localhost:8080/",
          "height": 68
        },
        "outputId": "9b39f814-10d2-4c64-b2af-700a236b22c1"
      },
      "source": [
        "codigo_produto = int(input())\n",
        "peso = float(input())\n",
        "codigo_pais = int(input())"
      ],
      "execution_count": 44,
      "outputs": [
        {
          "output_type": "stream",
          "text": [
            "2\n",
            "1\n",
            "3\n"
          ],
          "name": "stdout"
        }
      ]
    },
    {
      "cell_type": "markdown",
      "metadata": {
        "id": "qC98qeadivon",
        "colab_type": "text"
      },
      "source": [
        "13. Escreva um programa que calcule o quadrado e o cubo dos números de 0 a 10, e imprima os valores em forma de tabela. Número | Quadrado | Cubo"
      ]
    },
    {
      "cell_type": "code",
      "metadata": {
        "id": "EZH0aeGPivoo",
        "colab_type": "code",
        "colab": {
          "base_uri": "https://localhost:8080/",
          "height": 85
        },
        "outputId": "9fe6d0a5-78fd-40e9-c9da-befb9ba55cd3"
      },
      "source": [
        "arr = []\n",
        "num1 = float(input())\n",
        "num2 = float(input())\n",
        "arr.append(num1)\n",
        "arr.append(num2)\n",
        "\n",
        "for i in range(len(arr)):\n",
        "  print(f'{arr[i]} | Quadrado: {arr[i] ** 2} | Cubo: {arr[i] ** 3}')"
      ],
      "execution_count": 43,
      "outputs": [
        {
          "output_type": "stream",
          "text": [
            "2\n",
            "2\n",
            "2.0 | Quadrado: 4.0 | Cubo: 8.0\n",
            "2.0 | Quadrado: 4.0 | Cubo: 8.0\n"
          ],
          "name": "stdout"
        }
      ]
    },
    {
      "cell_type": "markdown",
      "metadata": {
        "id": "-WZyzmE7ivor",
        "colab_type": "text"
      },
      "source": [
        "14. Um funcionário de uma empresa recebe, anualmente, aumento salarial. Sabe-se que:\n",
        "\n",
        "- Esse funcionário foi contratado em 2005, com salário inicial de R\\\\$ 1.000,00.\n",
        "- Em 2006, ele recebeu aumento de 1,5% sobre seu salário inicial.\n",
        "- A partir de 2007 (inclusive), os aumentos salariais sempre corresponderam ao dobro do percentual do ano anterior.\n",
        "\n",
        "Faça um programa que determine o salário atual desse funcionário."
      ]
    },
    {
      "cell_type": "code",
      "metadata": {
        "id": "WUH_RRZtivor",
        "colab_type": "code",
        "colab": {
          "base_uri": "https://localhost:8080/",
          "height": 34
        },
        "outputId": "11a18425-dd31-430b-d8e1-6e0bc5765c04"
      },
      "source": [
        "\n",
        "salario_inicial = 1000.0\n",
        "salario_atual = 0\n",
        "taxa = 0.015\n",
        "nova_taxa = 0\n",
        "anos = [2006, 2007, 2008, 2009, 2010, 2011, 2012, 2013, 2014, 2015, 2016, 2017, 2018, 2019, 2020]\n",
        "\n",
        "for i in range(len(anos)):\n",
        "  nova_taxa += taxa\n",
        "  salario_atual = salario_inicial + (salario_inicial * nova_taxa)\n",
        "\n",
        "print(salario_atual)"
      ],
      "execution_count": 45,
      "outputs": [
        {
          "output_type": "stream",
          "text": [
            "1225.0\n"
          ],
          "name": "stdout"
        }
      ]
    },
    {
      "cell_type": "markdown",
      "metadata": {
        "id": "YJbuGANvivow",
        "colab_type": "text"
      },
      "source": [
        "15. Foi feita uma pesquisa para determinar o índice de mortalidade infantil em certo período. Faça um programa que:\n",
        "\n",
        "- Leia o número de crianças nascidas no período;\n",
        "- Identifique o sexo (M ou F) e o tempo de vida de cada criança nascida.\n",
        "\n",
        "O programa deve calcular e mostrar:\n",
        "\n",
        "- A porcentagem de crianças do sexo feminino mortas no período;\n",
        "- A porcentagem de crianças do sexo masculino mortas no período;\n",
        "- A porcentagem de crianças que viveram 24 meses ou menos no período."
      ]
    },
    {
      "cell_type": "code",
      "metadata": {
        "id": "c67BlU0sivox",
        "colab_type": "code",
        "colab": {}
      },
      "source": [
        ""
      ],
      "execution_count": 0,
      "outputs": []
    },
    {
      "cell_type": "markdown",
      "metadata": {
        "id": "vI3s-1E8ivoz",
        "colab_type": "text"
      },
      "source": [
        "16. Faça um programa que receba duas notas de seis alunos. Calcule e mostre:\n",
        "\n",
        "- A média aritmética das duas notas de cada aluno; e\n",
        "- A mensagem que está na tabela a seguir:\n",
        "- O total de alunos aprovados;\n",
        "- O total de alunos de exame;\n",
        "- O total de alunos reprovados;\n",
        "- A média da classe.\n",
        "\n",
        "| Média Aritmética | Situação       |\n",
        "|------------------|----------------|\n",
        "| Entre 0 e 29     | Reprovado      |\n",
        "| Entre 30 e 69    | Exame Especial |\n",
        "| Entre 70 e 100   | Aprovado       |\n"
      ]
    },
    {
      "cell_type": "code",
      "metadata": {
        "id": "7aTIy6LYivoz",
        "colab_type": "code",
        "colab": {
          "base_uri": "https://localhost:8080/",
          "height": 391
        },
        "outputId": "698bc8be-ca63-496a-9a63-b7e9705d1eeb"
      },
      "source": [
        "\n",
        "medias = []\n",
        "aprovados = 0\n",
        "exame_especial = 0\n",
        "reprovados = 0\n",
        "situacao = ''\n",
        "for i in range(6):\n",
        "  nota1 = float(input())\n",
        "  nota2 = float(input())\n",
        "  media = (nota1 + nota2) / 2\n",
        "  if media < 29.0:\n",
        "    situacao = 'Reprovado com média '\n",
        "    reprovados += 1\n",
        "  elif media <= 69.0:\n",
        "    situacao = 'Exame especial'\n",
        "    exame_especial += 1\n",
        "  else:\n",
        "    situacao = 'Aprovado'\n",
        "    aprovados += 1\n",
        "  \n",
        "  print(situacao,f'- média {media}')\n",
        "  medias.append(media)\n",
        "\n",
        "print(f\"O total de alunos aprovados foi {aprovados}\")\n",
        "print(f\"O total de alunos reprovados foi {reprovados}\")\n",
        "print(f\"O total de alunos em exame especial foi {exame_especial}\")\n",
        "media_geral = 0\n",
        "for i in range(len(medias)):\n",
        "  media_geral += medias[i]\n",
        "print(f\"A media da classe foi {media_geral / len(medias)}\")"
      ],
      "execution_count": 46,
      "outputs": [
        {
          "output_type": "stream",
          "text": [
            "10\n",
            "12\n",
            "Reprovado com média  - média 11.0\n",
            "8\n",
            "9\n",
            "Reprovado com média  - média 8.5\n",
            "10\n",
            "10\n",
            "Reprovado com média  - média 10.0\n",
            "10\n",
            "10\n",
            "Reprovado com média  - média 10.0\n",
            "09\n",
            "00\n",
            "Reprovado com média  - média 4.5\n",
            "99\n",
            "99\n",
            "Aprovado - média 99.0\n",
            "O total de alunos aprovados foi 1\n",
            "O total de alunos reprovados foi 5\n",
            "O total de alunos em exame especial foi 0\n",
            "A media da classe foi 23.833333333333332\n"
          ],
          "name": "stdout"
        }
      ]
    },
    {
      "cell_type": "markdown",
      "metadata": {
        "id": "QoWjpVI9ivo3",
        "colab_type": "text"
      },
      "source": [
        "17. Faça um programa para calcular a área de um triângulo e que não permita a entrada de dados inválidos, ou seja, medidas menores ou iguais a 0."
      ]
    },
    {
      "cell_type": "code",
      "metadata": {
        "id": "tM_p1ty0ivo3",
        "colab_type": "code",
        "colab": {
          "base_uri": "https://localhost:8080/",
          "height": 68
        },
        "outputId": "95302369-66aa-4827-b1d5-a0f4193044f2"
      },
      "source": [
        "\n",
        "validos = []\n",
        "contador = 0\n",
        "\n",
        "while len(validos) < 3:\n",
        "  lado = float(input(\"Digite um valor para o lado: \"))\n",
        "  if lado > 0:\n",
        "    validos.append(lado)\n",
        "  else:\n",
        "    print(\"valor inválido digitado para o lado\")\n",
        "  contador = contador + 1"
      ],
      "execution_count": 48,
      "outputs": [
        {
          "output_type": "stream",
          "text": [
            "Digite um valor para o lado: 3\n",
            "Digite um valor para o lado: 3\n",
            "Digite um valor para o lado: 3\n"
          ],
          "name": "stdout"
        }
      ]
    },
    {
      "cell_type": "markdown",
      "metadata": {
        "id": "rm6tDeE9ivo6",
        "colab_type": "text"
      },
      "source": [
        "18. Faça um programa que leia um conjunto não determinado de valores e mostre o valor lido, seu quadrado, seu cubo e sua raiz quadrada. Finalize a entrada de dados com um valor negativo ou zero."
      ]
    },
    {
      "cell_type": "code",
      "metadata": {
        "id": "GYWUq4QEivo8",
        "colab_type": "code",
        "colab": {
          "base_uri": "https://localhost:8080/",
          "height": 85
        },
        "outputId": "7ccb1186-72e9-4062-b329-a973cb5d2483"
      },
      "source": [
        "while 1 == 1:\n",
        "  num = float(input(\"Digite um numero: \"))\n",
        "  if num > 0:\n",
        "    print(f'numero {num} | quadrado {num ** 2} | cubo {num ** 3} | raiz quadrada {num ** 0.5}')\n",
        "  else:\n",
        "    print(\"numero invalido\")\n",
        "    break"
      ],
      "execution_count": 49,
      "outputs": [
        {
          "output_type": "stream",
          "text": [
            "Digite um numero: 5\n",
            "numero 5.0 | quadrado 25.0 | cubo 125.0 | raiz quadrada 2.23606797749979\n",
            "Digite um numero: 0\n",
            "numero invalido\n"
          ],
          "name": "stdout"
        }
      ]
    },
    {
      "cell_type": "markdown",
      "metadata": {
        "id": "si8OOSA9ivpE",
        "colab_type": "text"
      },
      "source": [
        "19. Faça um programa que leia um número não determinado de pares de valores [m,n], todos inteiros e positivos, um par de cada vez, e que calcule e mostre a soma de todos os números inteiros entre m e n (inclusive). A digitação de pares terminará quando m for maior ou igual a n."
      ]
    },
    {
      "cell_type": "code",
      "metadata": {
        "id": "t8xyWj08ivpE",
        "colab_type": "code",
        "colab": {
          "base_uri": "https://localhost:8080/",
          "height": 85
        },
        "outputId": "a84fbb07-5641-4526-ea67-166bd9f060e7"
      },
      "source": [
        "contador = 0\n",
        "soma = 0\n",
        "vet = []\n",
        "while 1 == 1:\n",
        "  m = int(input())\n",
        "  n = int(input())\n",
        "  vet.append(m)\n",
        "  vet.append(n)\n",
        "  if m >= n:\n",
        "    print('M maior ou igual a N')\n",
        "    break\n",
        "  \n",
        "  contador += 1\n",
        "for i in range(len(vet)):\n",
        "    soma += vet[i]\n",
        "print(f'a soma de todos os numeros é {soma}')"
      ],
      "execution_count": 50,
      "outputs": [
        {
          "output_type": "stream",
          "text": [
            "1\n",
            "0\n",
            "M maior ou igual a N\n",
            "a soma de todos os numeros é 1\n"
          ],
          "name": "stdout"
        }
      ]
    },
    {
      "cell_type": "markdown",
      "metadata": {
        "id": "VjJZ1T2givpH",
        "colab_type": "text"
      },
      "source": [
        "20. Faça um programa que receba vários números, calcule e mostre:\n",
        "\n",
        "    - A soma dos números digitados;\n",
        "    - A quantidade de números digitados;\n",
        "    - A média dos números digitados;\n",
        "    - O maior número digitado;\n",
        "    - O menor número digitado;\n",
        "    - A média dos números pares;\n",
        "    - A porcentagem dos números ímpares entre todos os números digitados.\n",
        "\n",
        "Finalize a entrada de dados com a digitação do número 0."
      ]
    },
    {
      "cell_type": "code",
      "metadata": {
        "id": "AfY6R5f0ivpH",
        "colab_type": "code",
        "colab": {
          "base_uri": "https://localhost:8080/",
          "height": 289
        },
        "outputId": "89332670-fc50-4520-af1c-898f4d9cfb63"
      },
      "source": [
        "contador = 0\n",
        "vet = []\n",
        "soma = 0\n",
        "while 1 == 1:\n",
        "  num = float(input())\n",
        "  if num != 0:\n",
        "    soma += num\n",
        "    vet.append(num)\n",
        "  else:\n",
        "    break\n",
        "\n",
        "print(f'A soma dos números digitados: {soma}')\n",
        "print(f'A quantidade de números digitados: {len(vet)}')\n",
        "print(f'A média dos números digitados: {soma / len(vet)}')\n",
        "#print(f'O maior número digitado: {max(vet)}')\n",
        "maior = 1\n",
        "for i in range(len(vet)):\n",
        "  if vet[i] > maior:\n",
        "    maior = vet[i]\n",
        "print(f'O maior número digitado: {maior}')\n",
        "\n",
        "#print(f'O menor número digitado: {min(vet)}')\n",
        "for i in range(len(vet)):\n",
        "  menor = vet[i]\n",
        "  if vet[i] < menor:\n",
        "    menor = vet[i]\n",
        "print(f'O menor número digitado: {menor}')\n",
        "\n",
        "tot_pares = 0\n",
        "qtd_pares = 0\n",
        "for i in range(len(vet)):\n",
        "  if vet[i] % 2 == 0:\n",
        "    tot_pares += vet[i]\n",
        "    qtd_pares += 1\n",
        "    \n",
        "print(f'A média dos números pares: {tot_pares / qtd_pares}')\n",
        "\n",
        "qtd_impares = 0\n",
        "for i in range(len(vet)):\n",
        "  if vet[i] % 2 != 0:\n",
        "    qtd_impares += 1\n",
        "\n",
        "print(f'A porcentagem dos números ímpares entre todos os números digitados: {(qtd_impares / len(vet)) * 100}%')"
      ],
      "execution_count": 51,
      "outputs": [
        {
          "output_type": "stream",
          "text": [
            "5\n",
            "20\n",
            "54\n",
            "3\n",
            "1\n",
            "9\n",
            "5\n",
            "10\n",
            "0\n",
            "A soma dos números digitados: 107.0\n",
            "A quantidade de números digitados: 8\n",
            "A média dos números digitados: 13.375\n",
            "O maior número digitado: 54.0\n",
            "O menor número digitado: 10.0\n",
            "A média dos números pares: 28.0\n",
            "A porcentagem dos números ímpares entre todos os números digitados: 62.5%\n"
          ],
          "name": "stdout"
        }
      ]
    }
  ]
}