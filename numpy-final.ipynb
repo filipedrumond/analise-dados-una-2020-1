{
  "nbformat": 4,
  "nbformat_minor": 0,
  "metadata": {
    "kernelspec": {
      "display_name": "Python 3",
      "language": "python",
      "name": "python3"
    },
    "language_info": {
      "codemirror_mode": {
        "name": "ipython",
        "version": 3
      },
      "file_extension": ".py",
      "mimetype": "text/x-python",
      "name": "python",
      "nbconvert_exporter": "python",
      "pygments_lexer": "ipython3",
      "version": "3.7.4"
    },
    "colab": {
      "name": "Copy of 1_numpy.ipynb",
      "provenance": [],
      "collapsed_sections": [
        "pIe_xT8N1AKc"
      ],
      "toc_visible": true,
      "include_colab_link": true
    }
  },
  "cells": [
    {
      "cell_type": "markdown",
      "metadata": {
        "id": "view-in-github",
        "colab_type": "text"
      },
      "source": [
        "<a href=\"https://colab.research.google.com/github/filipedrumond/analise-dados-una-2020-1/blob/master/numpy-final.ipynb\" target=\"_parent\"><img src=\"https://colab.research.google.com/assets/colab-badge.svg\" alt=\"Open In Colab\"/></a>"
      ]
    },
    {
      "cell_type": "markdown",
      "metadata": {
        "id": "-7J_tub81AJ6",
        "colab_type": "text"
      },
      "source": [
        "# NumPy - Manipulando Dados Numéricos"
      ]
    },
    {
      "cell_type": "markdown",
      "metadata": {
        "id": "saL5DEKQ1AJ7",
        "colab_type": "text"
      },
      "source": [
        "## O que é o NumPy?\n",
        "\n",
        "O *NumPy* é uma biblioteca para a Linguagem de Programação Python, que da suporte à linguagem para trabalhar com grandes matrizes e vetores multidimensionais, juntamente com uma ampla coleção de funções matemáticas de alto nível.\n",
        "\n",
        "Especificamente, essa bibioteca fornece ao Python, objetos *arrays* multidimensionais e vários objetos derivados (p. ex.: masked arrays e matrices), com um conjunto de funções para operações rápidas em vetores e a Computação Numérica, por exemplo: \n",
        "\n",
        "* Funções Matemáticas e Lógicas;\n",
        "* Manipulação de Formas;\n",
        "* Ordenação;\n",
        "* Seleção;\n",
        "* Leitura de Dados (E/S);\n",
        "* Transformada Discreta de Fourier;\n",
        "* Álgebra Linear Básica;\n",
        "* Operações Estatísticas Básicas;\n",
        "* Simulação Aleatória.\n",
        "\n",
        "No núcleo da biblioteca NumPy temos o objeto *narray* que encapsula vetores n-dimensionais com tipos de dados homgêneos e muitas operações executadas no código compilado a fim de desempenho. \n",
        "\n",
        "### NumPy X Sequências Padrão do Python\n",
        "\n",
        "Existem várias diferenças importantes entre os vetores do NumPy e as sequências padrão do Python, são elas: \n",
        "\n",
        "* **Vetores Estáticos:** os vetores do NumPy têm tamanho fixo em sua criação, diferente das listas do Python que podem crescer dinamicamente em tempo de execução. Logo, quando alteramos o tamanho de um objeto *narray*, será criado um novo vetor e excluído o original;\n",
        "\n",
        "* **Tipo de Dados Homogêneo dos Itens:**  todos os elementos dos vetores em NumPy, devem ser obrigatoriamente do mesmo tipo de dados, logo, eles irão ter o mesmo tamanho em memória;\n",
        "\n",
        "* **Operações Matemáticas Avançadas:** os vetores do NumPy otimizam operações matemáticas avançadas e qualquer tipo de outras operações para um grande número de dados. Na prática, essas operações são executadas mais eficientemente e com menos código do que se usarmos as sequências padrão do Python;"
      ]
    },
    {
      "cell_type": "code",
      "metadata": {
        "id": "ULZXhFsL1AJ8",
        "colab_type": "code",
        "colab": {}
      },
      "source": [
        "# NumPy na Prática\n",
        "import numpy as np             # Importa a biblioteca NumPy para seu projeto\n",
        "\n",
        "vetor = np.array([0, 1, 2, 3]) # instancia um vetor (array) em NumPy\n",
        "vetor                          # Imprime seu conteúdo"
      ],
      "execution_count": 0,
      "outputs": []
    },
    {
      "cell_type": "markdown",
      "metadata": {
        "id": "1xpI2dLt1AJ_",
        "colab_type": "text"
      },
      "source": [
        "## Tipos de Dados"
      ]
    },
    {
      "cell_type": "markdown",
      "metadata": {
        "id": "MuzrZtik1AKA",
        "colab_type": "text"
      },
      "source": [
        "| Tipo de Dado | Descrição                                            |\n",
        "|:-------------|:-----------------------------------------------------|\n",
        "| np.int64     | Números inteiros de 64bits                           |\n",
        "| np.float32   | Números de ponto flutuante de precisão dupla (Reais) |\n",
        "| np.complex   | Números Complexos                                    |\n",
        "| np.bool      | Tipo lógico (Booleano)                               |\n",
        "| np.object    | Tipo object do Python                                |\n",
        "| np.string_   | Cadeia de Caracteres Fixa (String)                   |\n",
        "| np.unicode_  | Cadeia de Caracteres Unicode Fixa (String)           |"
      ]
    },
    {
      "cell_type": "markdown",
      "metadata": {
        "id": "bV9m3FLU1AKA",
        "colab_type": "text"
      },
      "source": [
        "## Criação de Vetores"
      ]
    },
    {
      "cell_type": "markdown",
      "metadata": {
        "id": "7Gw18wzH1AKB",
        "colab_type": "text"
      },
      "source": [
        "### Construção Manual de Vetores"
      ]
    },
    {
      "cell_type": "code",
      "metadata": {
        "id": "koaD93JA1AKB",
        "colab_type": "code",
        "colab": {}
      },
      "source": [
        "# CONSTRUÇÃO MANUAL DE VETORES\n",
        "# Unidimencional (1D)\n",
        "\n",
        "vetor_numpy = np.array([0, 1, 2, 3, 4])\n",
        "\n",
        "print(vetor_numpy)        # Imprime o vetor\n",
        "print(vetor_numpy.ndim)   # Retorna o número de dimensões do vetor\n",
        "print(vetor_numpy.shape)  # Retorna a forma do vetor ou atribui uma tupla para as dimnesões do vetor\n",
        "print(len(vetor_numpy))   # Retorna o número de elementos do vetor\n",
        "\n",
        "# Multi-dimencional (n-D)\n",
        "\n",
        "# Matriz Bidimensional 2 (linhas) X 3 (colunas)\n",
        "matriz_numpy = np.array([[0, 1, 2], [3, 4, 5]]) \n",
        "\n",
        "print(matriz_numpy)\n",
        "print(matriz_numpy.ndim)\n",
        "print(matriz_numpy.shape)\n",
        "print(len(matriz_numpy))         # Retorna o tamanho da primeira dimensão do vetor (linhas)"
      ],
      "execution_count": 0,
      "outputs": []
    },
    {
      "cell_type": "markdown",
      "metadata": {
        "id": "R4lGet0m1AKE",
        "colab_type": "text"
      },
      "source": [
        "### Funções para Criação de Vetores"
      ]
    },
    {
      "cell_type": "code",
      "metadata": {
        "id": "D492XHY81AKF",
        "colab_type": "code",
        "colab": {}
      },
      "source": [
        "# Vetores Igualmente Espaçado\n",
        "print(\"Vetores Igualmente Espaçado\")\n",
        "vetor = np.arange(10) # 0 .. n - 1\n",
        "print(vetor)\n",
        "\n",
        "vetor_impar = np.arange(1, 9, 2) # Início, Fim e Incremento\n",
        "print(vetor_impar)\n",
        "\n",
        "# Vetores por números de pontos\n",
        "print(\"\\nVetores por Números de Pontos\")\n",
        "numero_pontos = np.linspace(0, 1, 6) # Início, Fim, Número de Pontos\n",
        "print(numero_pontos)\n",
        "\n",
        "# Matrizes Populares\n",
        "print(\"\\nMATRIZES POPULARES\")\n",
        "print(\"\\nMatriz de Uns\")\n",
        "matriz_de_uns = np.ones((3, 3)) # Tupla (3, 3)\n",
        "print(matriz_de_uns)\n",
        "\n",
        "print(\"\\nMatriz de Zeros\")\n",
        "matriz_de_zeros = np.zeros((2, 2))\n",
        "print(matriz_de_zeros)\n",
        "\n",
        "print(\"\\nMatriz Zerada com Diagonal de Uns\")\n",
        "matriz_zeros_diagonal_uns = np.eye(4)\n",
        "print(matriz_zeros_diagonal_uns)\n",
        "\n",
        "print(\"\\nMatriz Zerada com Diagonal de Permutações\")\n",
        "matriz_diagonal_permutacao = np.diag(np.array([1, 2, 3, 4]))\n",
        "print(matriz_diagonal_permutacao)\n",
        "\n",
        "print(\"\\nVETORES ALEATÓRIOS\")\n",
        "print(\"\\nVetor Aleatório Uniforme\")\n",
        "vetor_uniforme_aleatorio = np.random.rand(4)\n",
        "print(vetor_uniforme_aleatorio)\n",
        "\n",
        "print(\"\\nVetor Aleatório Gaussiano\")\n",
        "vetor_aleatorio_gaussiano = np.random.randn(4)\n",
        "print(vetor_aleatorio_gaussiano)\n",
        "\n",
        "np.random.seed(1234) # Definindo a semente aleatória"
      ],
      "execution_count": 0,
      "outputs": []
    },
    {
      "cell_type": "markdown",
      "metadata": {
        "id": "nz50cGR71AKI",
        "colab_type": "text"
      },
      "source": [
        "### Operações Matemáticas com Vetores"
      ]
    },
    {
      "cell_type": "code",
      "metadata": {
        "id": "TVtlkhje1AKI",
        "colab_type": "code",
        "colab": {}
      },
      "source": [
        "import numpy as np\n",
        "\n",
        "vetor_a = np.array([1, 2, 3])\n",
        "vetor_b = np.array([4, 5, 6])\n",
        "\n",
        "\n",
        "# Adição\n",
        "vetor_a + vetor_b              # Usando operador aritmético\n",
        "np.add(vetor_a, vetor_b)       # Usando função definida do NumPy\n",
        "\n",
        "# Subtração\n",
        "vetor_a - vetor_b              # Usando operador aritmético\n",
        "np.subtract(vetor_a, vetor_b)  # Usando função definida do NumPy\n",
        "\n",
        "# Multiplicação\n",
        "vetor_a * vetor_b              # Usando operador aritmético\n",
        "np.multiply(vetor_a, vetor_b)  # Usando função definida do NumPy\n",
        "\n",
        "# Divisão\n",
        "vetor_a / vetor_b              # Usando operador aritmético\n",
        "np.divide(vetor_a, vetor_b)    # Usando função definida do NumPy\n",
        "\n",
        "# Raiz Quadrada\n",
        "np.sqrt(vetor_a)\n",
        "\n",
        "# Função Exponencia\n",
        "np.exp(vetor_a)                \n",
        "\n",
        "# Seno\n",
        "np.sin(vetor_a)\n",
        "\n",
        "# Coseno\n",
        "np.cos(vetor_a)\n",
        "\n",
        "# Logaritmo Natural\n",
        "np.log(vetor_a)"
      ],
      "execution_count": 0,
      "outputs": []
    },
    {
      "cell_type": "markdown",
      "metadata": {
        "id": "iIDUE6261AKM",
        "colab_type": "text"
      },
      "source": [
        "### Comparação"
      ]
    },
    {
      "cell_type": "code",
      "metadata": {
        "id": "FMa_VY2N1AKM",
        "colab_type": "code",
        "colab": {}
      },
      "source": [
        "import numpy as np\n",
        "\n",
        "vetor_a = np.array([1, 2, 3])\n",
        "vetor_b = np.array([4, 5, 6])\n",
        "\n",
        "# Compara cada um dos elementos dos vetores\n",
        "# Retorna um vetor booleano com os resultados da comparação\n",
        "vetor_a == vetor_b\n",
        "vetor_a != vetor_b\n",
        "\n",
        "vetor_a > vetor_b\n",
        "vetor_a >= vetor_b\n",
        "\n",
        "vetor_a < vetor_b\n",
        "vetor_a <= vetor_b"
      ],
      "execution_count": 0,
      "outputs": []
    },
    {
      "cell_type": "markdown",
      "metadata": {
        "id": "0OhoF7pD1AKP",
        "colab_type": "text"
      },
      "source": [
        "### Funções Agregadas"
      ]
    },
    {
      "cell_type": "code",
      "metadata": {
        "id": "2WJmTKky1AKQ",
        "colab_type": "code",
        "colab": {}
      },
      "source": [
        "import numpy as np\n",
        "\n",
        "vetor = np.array([1, 2, 3, 4, 5])\n",
        "\n",
        "vetor.sum()         # Soma todos os elementos do vetor\n",
        "vetor.cumsum()      # Soma acumulada de todos os elementos do vetor\n",
        "\n",
        "vetor.min()         # Retorna o menor elemento do vetor numérico\n",
        "vetor.max()         # Retorna o maior elemento do vetor numérico\n",
        "\n",
        "vetor.mean()        # Média\n",
        "np.median(vetor)    # Mediana\n",
        "np.corrcoef(vetor)  # Coeficiente de Correlação\n",
        "np.std(vetor)       # Desvio Padrão"
      ],
      "execution_count": 0,
      "outputs": []
    },
    {
      "cell_type": "markdown",
      "metadata": {
        "id": "HiL_xW331AKT",
        "colab_type": "text"
      },
      "source": [
        "### Copiando Vetores"
      ]
    },
    {
      "cell_type": "code",
      "metadata": {
        "id": "9SE7Sk7_1AKT",
        "colab_type": "code",
        "colab": {}
      },
      "source": [
        "import numpy as np\n",
        "\n",
        "vetor = np.array([1, 2, 3, 4, 5])\n",
        "\n",
        "copia_vetor = np.copy(vetor)\n",
        "print(copia_vetor)\n",
        "\n",
        "copia = vetor.copy()  \n",
        "print(copia)\n",
        "\n",
        "visao = vetor.view()  # Cria uma visão (view) do vetor [representação virutal em memória]\n",
        "print(visao)"
      ],
      "execution_count": 0,
      "outputs": []
    },
    {
      "cell_type": "markdown",
      "metadata": {
        "id": "jGuzxYNs1AKW",
        "colab_type": "text"
      },
      "source": [
        "### Ordenando Vetores"
      ]
    },
    {
      "cell_type": "code",
      "metadata": {
        "id": "OVwahxCZ1AKW",
        "colab_type": "code",
        "colab": {}
      },
      "source": [
        "import numpy as np\n",
        "\n",
        "vetor = np.array([9, 8, 7, 6, 5, 4, 3, 2, 1])\n",
        "vetor.sort()\n",
        "vetor"
      ],
      "execution_count": 0,
      "outputs": []
    },
    {
      "cell_type": "markdown",
      "metadata": {
        "id": "RHXMeKb51AKY",
        "colab_type": "text"
      },
      "source": [
        "### Subconjunto, Fatiamento e Indexação"
      ]
    },
    {
      "cell_type": "code",
      "metadata": {
        "id": "FNPkvQku1AKZ",
        "colab_type": "code",
        "colab": {}
      },
      "source": [
        "import numpy as np\n",
        "\n",
        "vetor = np.array([1, 2, 3, 4, 5])\n",
        "matriz = np.array([(1, 2, 3), (4, 5, 6), (7, 8, 9)])\n",
        "\n",
        "\n",
        "print(vetor[2])        # vetor[i] = Pega o elemento do vetor na posição (i)\n",
        "print(matriz[1, 2])    # vetor[linha, coluna] = Pega um elemento em uma matriz\n",
        "\n",
        "\n",
        "print(vetor[0:3])      # vetor[inicio:quantidade] = Retorna 3 elementos contados à partir da posição de início ([0] \n",
        "print(matriz[1:2])     # Seleciona todos elementos da primeira linha até a terceira coluna\n",
        "print(matriz[0:3, 1])  # matriz[inicio:quantidade, coluna] Seleciona 3 elementos da segunda coluna [1], à partir da primeira linha [0]\n",
        "\n",
        "print(matriz[:1])      # Seleciona todos os itens da primeira linha\n",
        "print(matriz[:2])      # Seleciona todos os itens da primeira linha e segunda linha\n",
        "\n",
        "print(vetor[ : :-1])   # Seleciona todos os elementos de trás pra frente (invertido)\n",
        "\n",
        "# Indexação Lógica\n",
        "print(vetor[vetor <= 3]) # Seleciona todos os elementos dos índices menores iguais a 3\n",
        "print(vetor[1 + 3])      # Calcula dinamicamente a posição do vetor\n",
        "\n",
        "\n",
        "print(matriz[[1, 0, 1, 0]]) # Retorna uma matriz com as linhas 1 e 0 repetidas"
      ],
      "execution_count": 0,
      "outputs": []
    },
    {
      "cell_type": "markdown",
      "metadata": {
        "id": "pIe_xT8N1AKc",
        "colab_type": "text"
      },
      "source": [
        "## Entrada/Saída (I/O)"
      ]
    },
    {
      "cell_type": "code",
      "metadata": {
        "id": "L6wB6Ozb1AKd",
        "colab_type": "code",
        "colab": {}
      },
      "source": [
        "import numpy as np\n",
        "from io import StringIO\n",
        "\n",
        "data = u\"1, 2, 3\\n4, 5, 6\"\n",
        "vetor = np.genfromtxt(StringIO(data), delimiter=\",\") # Converte dados para vetor\n",
        "np.savetxt(\"nome_arquivo.txt\", vetor, delimiter=\" \") # Salva o vetor como arquivo"
      ],
      "execution_count": 0,
      "outputs": []
    },
    {
      "cell_type": "markdown",
      "metadata": {
        "id": "Oj87nuus1AKf",
        "colab_type": "text"
      },
      "source": [
        "```python\n",
        "# Exemplo - Carregamento de Arquivos\n",
        "np.genfromtxt(\"nome_arquivo.csv\", delimiter=',')\n",
        "np.loadtxt(\"nome_arquivo.txt\")\n",
        "```"
      ]
    },
    {
      "cell_type": "markdown",
      "metadata": {
        "id": "R9k_pnyE1AKg",
        "colab_type": "text"
      },
      "source": [
        "# Exercícios"
      ]
    },
    {
      "cell_type": "markdown",
      "metadata": {
        "id": "Og_2ZVSA1AKg",
        "colab_type": "text"
      },
      "source": [
        "1. Importe o pacote numpy com o nome np."
      ]
    },
    {
      "cell_type": "code",
      "metadata": {
        "id": "Idq6i1QO1AKh",
        "colab_type": "code",
        "colab": {}
      },
      "source": [
        "import numpy as np\n"
      ],
      "execution_count": 0,
      "outputs": []
    },
    {
      "cell_type": "markdown",
      "metadata": {
        "id": "kNJ2ax2D1AKj",
        "colab_type": "text"
      },
      "source": [
        "2. Crie o seguinte vetor unidimensional (1D):\n",
        "\n",
        "| 0 | 1 | 2 | 3 | 4 | 5 | 6 | 7 | 8 | 9 |\n",
        "|:-:|:-:|:-:|:-:|:-:|:-:|:-:|:-:|:-:|:-:|"
      ]
    },
    {
      "cell_type": "code",
      "metadata": {
        "id": "vEcvExFZ1AKk",
        "colab_type": "code",
        "outputId": "b04f31e8-04f4-4a18-f45c-2215acb4eea1",
        "colab": {
          "base_uri": "https://localhost:8080/",
          "height": 35
        }
      },
      "source": [
        "vetor_uni = np.array([0,1,2,3,4,5,6,7,8,9])\n",
        "\n",
        "print(vetor_uni)"
      ],
      "execution_count": 3,
      "outputs": [
        {
          "output_type": "stream",
          "text": [
            "[0 1 2 3 4 5 6 7 8 9]\n"
          ],
          "name": "stdout"
        }
      ]
    },
    {
      "cell_type": "markdown",
      "metadata": {
        "id": "Y00ldpct1AKm",
        "colab_type": "text"
      },
      "source": [
        "3. Qual é o comprimento `len` do vetor?"
      ]
    },
    {
      "cell_type": "code",
      "metadata": {
        "id": "-V7fhI1r1AKn",
        "colab_type": "code",
        "outputId": "3b381d60-b3bd-4d17-a679-2d051401edb5",
        "colab": {
          "base_uri": "https://localhost:8080/",
          "height": 35
        }
      },
      "source": [
        "len(vetor_uni)"
      ],
      "execution_count": 4,
      "outputs": [
        {
          "output_type": "execute_result",
          "data": {
            "text/plain": [
              "10"
            ]
          },
          "metadata": {
            "tags": []
          },
          "execution_count": 4
        }
      ]
    },
    {
      "cell_type": "markdown",
      "metadata": {
        "id": "dIoemrEl1AKq",
        "colab_type": "text"
      },
      "source": [
        "4. Quantas dimensões `ndim` o vetor possui?"
      ]
    },
    {
      "cell_type": "code",
      "metadata": {
        "id": "lRW5LEFR1AKr",
        "colab_type": "code",
        "outputId": "7db8c1d2-c7a9-46f9-ce75-da5226fb2b5f",
        "colab": {
          "base_uri": "https://localhost:8080/",
          "height": 35
        }
      },
      "source": [
        "np.ndim(vetor_uni)"
      ],
      "execution_count": 5,
      "outputs": [
        {
          "output_type": "execute_result",
          "data": {
            "text/plain": [
              "1"
            ]
          },
          "metadata": {
            "tags": []
          },
          "execution_count": 5
        }
      ]
    },
    {
      "cell_type": "markdown",
      "metadata": {
        "id": "jb4ecooQ1AKt",
        "colab_type": "text"
      },
      "source": [
        "5. O que a função `shape` retorna?"
      ]
    },
    {
      "cell_type": "code",
      "metadata": {
        "id": "LIbOIGFb1AKu",
        "colab_type": "code",
        "outputId": "2633beab-4b5c-4c66-ba2d-d6e5bdfabfa4",
        "colab": {
          "base_uri": "https://localhost:8080/",
          "height": 35
        }
      },
      "source": [
        "np.shape(vetor_uni)"
      ],
      "execution_count": 6,
      "outputs": [
        {
          "output_type": "execute_result",
          "data": {
            "text/plain": [
              "(10,)"
            ]
          },
          "metadata": {
            "tags": []
          },
          "execution_count": 6
        }
      ]
    },
    {
      "cell_type": "markdown",
      "metadata": {
        "id": "cz1fZSMQ1AKw",
        "colab_type": "text"
      },
      "source": [
        "**Resposta**:"
      ]
    },
    {
      "cell_type": "markdown",
      "metadata": {
        "id": "R3vcgpgI1AKx",
        "colab_type": "text"
      },
      "source": [
        "6. Crie a variável *pares* e extraia todos os números pares do vetor para ela:"
      ]
    },
    {
      "cell_type": "code",
      "metadata": {
        "id": "PKn1TEf81AKx",
        "colab_type": "code",
        "outputId": "236ff9dd-050a-48f2-9850-27319cfbf421",
        "colab": {
          "base_uri": "https://localhost:8080/",
          "height": 35
        }
      },
      "source": [
        "pares = vetor_uni\n",
        "pares = np.arange(0,10,2)\n",
        "\n",
        "print(pares)"
      ],
      "execution_count": 7,
      "outputs": [
        {
          "output_type": "stream",
          "text": [
            "[0 2 4 6 8]\n"
          ],
          "name": "stdout"
        }
      ]
    },
    {
      "cell_type": "markdown",
      "metadata": {
        "id": "kW6jB8EimXwE",
        "colab_type": "text"
      },
      "source": [
        ""
      ]
    },
    {
      "cell_type": "markdown",
      "metadata": {
        "id": "vCx8ZcS41AKz",
        "colab_type": "text"
      },
      "source": [
        "7. Substitua todos os elementos ímpares do vetor por -1, em seguida, ordene os resultados:"
      ]
    },
    {
      "cell_type": "code",
      "metadata": {
        "id": "2KAJmh9V1AK0",
        "colab_type": "code",
        "outputId": "388adb2c-f860-4e6a-c5a4-66f50e4aec9d",
        "colab": {
          "base_uri": "https://localhost:8080/",
          "height": 35
        }
      },
      "source": [
        "vetor_ord = np.array([0,-1,2,-1,4,-1,6,-1,8,-1])\n",
        "vetor_ord.sort()\n",
        "print(vetor_ord)"
      ],
      "execution_count": 8,
      "outputs": [
        {
          "output_type": "stream",
          "text": [
            "[-1 -1 -1 -1 -1  0  2  4  6  8]\n"
          ],
          "name": "stdout"
        }
      ]
    },
    {
      "cell_type": "markdown",
      "metadata": {
        "id": "sxPU9roG1AK2",
        "colab_type": "text"
      },
      "source": [
        "8. Converta o vetor unidimensional (1D) abaixo para uma matriz (2D) com 4 linhas. **Dica:** `reshape`."
      ]
    },
    {
      "cell_type": "code",
      "metadata": {
        "id": "epbYZG8U1AK2",
        "colab_type": "code",
        "outputId": "f24d6031-8807-4744-a4a5-db53fa80a8a7",
        "colab": {
          "base_uri": "https://localhost:8080/",
          "height": 106
        }
      },
      "source": [
        "np.reshape(vetor_uni, (5,2))\n"
      ],
      "execution_count": 9,
      "outputs": [
        {
          "output_type": "execute_result",
          "data": {
            "text/plain": [
              "array([[0, 1],\n",
              "       [2, 3],\n",
              "       [4, 5],\n",
              "       [6, 7],\n",
              "       [8, 9]])"
            ]
          },
          "metadata": {
            "tags": []
          },
          "execution_count": 9
        }
      ]
    },
    {
      "cell_type": "markdown",
      "metadata": {
        "id": "Di0sQiCs1AK5",
        "colab_type": "text"
      },
      "source": [
        "9. Obtenha os itens em comum, ou seja, a intersecção dos vetores `a` e `b` abaixo:\n",
        "**Saída**: [2, 4, 6]"
      ]
    },
    {
      "cell_type": "code",
      "metadata": {
        "id": "9hFc1U-d1AK-",
        "colab_type": "code",
        "colab": {}
      },
      "source": [
        ""
      ],
      "execution_count": 0,
      "outputs": []
    },
    {
      "cell_type": "markdown",
      "metadata": {
        "id": "b57WZxMg1ALB",
        "colab_type": "text"
      },
      "source": [
        "10. Retorne os valores únicos do vetor `a` que não estão no vetor `b` (diferença).\n",
        "**Saída**: [1, 3]"
      ]
    },
    {
      "cell_type": "code",
      "metadata": {
        "id": "wCPJZjkh1ALD",
        "colab_type": "code",
        "colab": {}
      },
      "source": [
        ""
      ],
      "execution_count": 0,
      "outputs": []
    },
    {
      "cell_type": "markdown",
      "metadata": {
        "id": "FAi9BWCw1ALF",
        "colab_type": "text"
      },
      "source": [
        "11. Retorne um vetor com as posições (índices) onde os elementos do vetor `a` sãos iguais aos elementos do vetor `b`. **Dica**: `where`.\n",
        "**Saída**: [2, 3, 5]"
      ]
    },
    {
      "cell_type": "code",
      "metadata": {
        "id": "XMzAMo951ALG",
        "colab_type": "code",
        "colab": {}
      },
      "source": [
        ""
      ],
      "execution_count": 0,
      "outputs": []
    },
    {
      "cell_type": "markdown",
      "metadata": {
        "id": "wXcqpygQ1ALI",
        "colab_type": "text"
      },
      "source": [
        "12. Obtenha todos os itens entre 5 e 15 do vetor `a = [0, 1, 2, 3, . . ., 20]`."
      ]
    },
    {
      "cell_type": "code",
      "metadata": {
        "id": "N_ojONRN1ALI",
        "colab_type": "code",
        "outputId": "f93b4a4a-7f7d-490f-cb42-e27e5d29ad9d",
        "colab": {
          "base_uri": "https://localhost:8080/",
          "height": 35
        }
      },
      "source": [
        "a = [0,1,2,3,4,5,6,7,8,9,10,11,12,13,14,15,16,17,18,19,20]\n",
        "print(a[6:15])"
      ],
      "execution_count": 10,
      "outputs": [
        {
          "output_type": "stream",
          "text": [
            "[6, 7, 8, 9, 10, 11, 12, 13, 14]\n"
          ],
          "name": "stdout"
        }
      ]
    },
    {
      "cell_type": "markdown",
      "metadata": {
        "id": "I_SQkGrS1ALK",
        "colab_type": "text"
      },
      "source": [
        "13. Crie e imprima um vetor com 5 números aleatórios, sem seguida, obtenha os valores máximo e mínimo dele e mostre na tela."
      ]
    },
    {
      "cell_type": "code",
      "metadata": {
        "id": "dqO_AH9k1ALL",
        "colab_type": "code",
        "outputId": "cb163ef8-fad6-432f-b38f-291c2ac0f559",
        "colab": {
          "base_uri": "https://localhost:8080/",
          "height": 70
        }
      },
      "source": [
        "vetor_ran = np.random.rand(5)\n",
        "vetor_ran.min()\n",
        "vetor_ran.max()\n",
        "print(vetor_ran)\n",
        "print(vetor_ran.min())\n",
        "print(vetor_ran.max())"
      ],
      "execution_count": 11,
      "outputs": [
        {
          "output_type": "stream",
          "text": [
            "[0.08936214 0.79236491 0.7291764  0.66570426 0.48490986]\n",
            "0.08936214139886811\n",
            "0.792364913341183\n"
          ],
          "name": "stdout"
        }
      ]
    },
    {
      "cell_type": "markdown",
      "metadata": {
        "id": "diczN6AM1ALO",
        "colab_type": "text"
      },
      "source": [
        "14. Crie a seguinte matriz:\n",
        "\n",
        "|   |   |   |\n",
        "|:-:|:-:|:-:|\n",
        "| 7 | 8 | 9 |\n",
        "| 4 | 5 | 6 |\n",
        "| 1 | 2 | 3 |"
      ]
    },
    {
      "cell_type": "code",
      "metadata": {
        "id": "c7G9t-uX1ALO",
        "colab_type": "code",
        "outputId": "6dc426d3-3660-4f45-c744-5f04c5be6b39",
        "colab": {
          "base_uri": "https://localhost:8080/",
          "height": 70
        }
      },
      "source": [
        "matriz = np.array([(7, 8, 9), (4, 5, 6), (1, 2, 3)])\n",
        "print(matriz)"
      ],
      "execution_count": 12,
      "outputs": [
        {
          "output_type": "stream",
          "text": [
            "[[7 8 9]\n",
            " [4 5 6]\n",
            " [1 2 3]]\n"
          ],
          "name": "stdout"
        }
      ]
    },
    {
      "cell_type": "markdown",
      "metadata": {
        "id": "rc0EmUL51ALR",
        "colab_type": "text"
      },
      "source": [
        "15. Troque de lugar a primeira coluna com a útllima coluna da matriz."
      ]
    },
    {
      "cell_type": "code",
      "metadata": {
        "id": "uXEhjSzU1ALS",
        "colab_type": "code",
        "colab": {}
      },
      "source": [
        ""
      ],
      "execution_count": 0,
      "outputs": []
    },
    {
      "cell_type": "markdown",
      "metadata": {
        "id": "DAsZJcpG1ALU",
        "colab_type": "text"
      },
      "source": [
        "16. Troque de lugar a primeira linha com a útllima linha da matriz."
      ]
    },
    {
      "cell_type": "code",
      "metadata": {
        "id": "IkXwWW-51ALU",
        "colab_type": "code",
        "colab": {}
      },
      "source": [
        ""
      ],
      "execution_count": 0,
      "outputs": []
    },
    {
      "cell_type": "markdown",
      "metadata": {
        "id": "WiEnOgKJ1ALW",
        "colab_type": "text"
      },
      "source": [
        "17. Crie uma matriz  7 × 5 preenchida com números decimais aleatórios entre 1 e 5."
      ]
    },
    {
      "cell_type": "code",
      "metadata": {
        "id": "erbkqoWx1ALX",
        "colab_type": "code",
        "outputId": "51eaaf26-4fc1-49fb-9573-c228b7076757",
        "colab": {
          "base_uri": "https://localhost:8080/",
          "height": 141
        }
      },
      "source": [
        "num_ran = np.random.randint(1,6, size=(7,5))\n",
        "print(num_ran)"
      ],
      "execution_count": 13,
      "outputs": [
        {
          "output_type": "stream",
          "text": [
            "[[1 4 3 2 2]\n",
            " [3 2 2 5 3]\n",
            " [5 3 4 4 1]\n",
            " [1 4 4 4 3]\n",
            " [5 5 5 5 4]\n",
            " [5 3 3 2 1]\n",
            " [2 3 5 1 3]]\n"
          ],
          "name": "stdout"
        }
      ]
    },
    {
      "cell_type": "markdown",
      "metadata": {
        "id": "-TpWLro41ALZ",
        "colab_type": "text"
      },
      "source": [
        "18. Qual é o comprimento `len` da matriz?"
      ]
    },
    {
      "cell_type": "code",
      "metadata": {
        "id": "n30-4A5t1ALa",
        "colab_type": "code",
        "outputId": "c11a5e76-dc14-4d2c-de49-435a553d1fa9",
        "colab": {
          "base_uri": "https://localhost:8080/",
          "height": 35
        }
      },
      "source": [
        "len(num_ran)"
      ],
      "execution_count": 14,
      "outputs": [
        {
          "output_type": "execute_result",
          "data": {
            "text/plain": [
              "7"
            ]
          },
          "metadata": {
            "tags": []
          },
          "execution_count": 14
        }
      ]
    },
    {
      "cell_type": "markdown",
      "metadata": {
        "id": "4tIhpInx1ALd",
        "colab_type": "text"
      },
      "source": [
        "19. Quantas dimensões `ndim` a matriz possui?"
      ]
    },
    {
      "cell_type": "code",
      "metadata": {
        "id": "Lc4nHRld1ALd",
        "colab_type": "code",
        "outputId": "e0dcd966-c720-4112-eb95-dbd3c2535762",
        "colab": {
          "base_uri": "https://localhost:8080/",
          "height": 35
        }
      },
      "source": [
        "np.ndim(num_ran)"
      ],
      "execution_count": 15,
      "outputs": [
        {
          "output_type": "execute_result",
          "data": {
            "text/plain": [
              "2"
            ]
          },
          "metadata": {
            "tags": []
          },
          "execution_count": 15
        }
      ]
    },
    {
      "cell_type": "markdown",
      "metadata": {
        "id": "6amMggmm1ALg",
        "colab_type": "text"
      },
      "source": [
        "20. O que a função `shape` retorna?"
      ]
    },
    {
      "cell_type": "code",
      "metadata": {
        "id": "ilVrgcQF1ALh",
        "colab_type": "code",
        "outputId": "8347eadc-d77e-49a3-c49f-5b976fc3e263",
        "colab": {
          "base_uri": "https://localhost:8080/",
          "height": 35
        }
      },
      "source": [
        "np.shape(num_ran)"
      ],
      "execution_count": 16,
      "outputs": [
        {
          "output_type": "execute_result",
          "data": {
            "text/plain": [
              "(7, 5)"
            ]
          },
          "metadata": {
            "tags": []
          },
          "execution_count": 16
        }
      ]
    },
    {
      "cell_type": "markdown",
      "metadata": {
        "id": "gz4WFFhp1ALj",
        "colab_type": "text"
      },
      "source": [
        "**Resposta**:"
      ]
    },
    {
      "cell_type": "markdown",
      "metadata": {
        "id": "q5k9Qfn71ALk",
        "colab_type": "text"
      },
      "source": [
        "# EXERCÍCIO: Análise de Dados dos Jogadores da FIFA ⚽"
      ]
    },
    {
      "cell_type": "markdown",
      "metadata": {
        "id": "dcdQWdCe1ALk",
        "colab_type": "text"
      },
      "source": [
        "Neste exercício, iremos usar a biblioteca NumPy para fazer uma análise de dados de jogares de futebol da FIFA disponíveis em [`data/fifa.csv`](data/fifa.csv). O conjunto de dados (dataset) foi adaptado da versão original disponibilizada nas plataformas: [Kaggle](https://www.kaggle.com/karangadiya/fifa19/data) e [GitHub](https://github.com/amanthedorkknight/fifa18-all-player-statistics).\n",
        "\n",
        "## Dicionário de Dados\n",
        "\n",
        "| Coluna        | Descrição                                        |\n",
        "|:--------------|:-------------------------------------------------|\n",
        "| id            | Identificador único do jogador                   |\n",
        "| nome          | Nome do jogador                                  |\n",
        "| foto          | URL da fotografia do jogador.                    |\n",
        "| nacionalidade | País do jogador.                                 |\n",
        "| avaliacao     | Avaliação geral do jogador.                      |\n",
        "| potencial     | Indicador da classificação potencial do jogador. |\n",
        "| time          | Nome do time do jogador.                         |\n",
        "| pe_preferido  | Direito (Destro), Esquerdo (Canhoto).            |\n",
        "| reputacao     | Reputação Internacional do jogador.              |\n",
        "| altura_cm     | Altura do jogador em centímetros (cm).           |\n",
        "| peso_kg       | Peso do jogador em kilos (kg).                   |\n",
        "| posicao       | Posição do jogador no time.                      |\n",
        "| numero_camisa | Número da camisa do jogador.                     |"
      ]
    },
    {
      "cell_type": "markdown",
      "metadata": {
        "id": "hLA9O15e1ALk",
        "colab_type": "text"
      },
      "source": [
        "1. Importe o pacote numpy com o nome np."
      ]
    },
    {
      "cell_type": "code",
      "metadata": {
        "id": "5LuLHeEX1ALl",
        "colab_type": "code",
        "colab": {}
      },
      "source": [
        "import numpy as np\n"
      ],
      "execution_count": 0,
      "outputs": []
    },
    {
      "cell_type": "markdown",
      "metadata": {
        "id": "OkSLcN511ALo",
        "colab_type": "text"
      },
      "source": [
        "2. Carregue o conjunto de dados da Fifa disponível na pasta (`data/fifa.csv`), ignorando a coluna `foto`, para uma matriz em uma variavel chamada `dados`. **Dicas:**\n",
        "    - Pesquise pela função `genfromtxt`; \n",
        "    - Não esqueça de especificar a codificação (encoding) como UTF-8;\n",
        "    - Ignore o cabeçalho dos dados usando o parâmetro `skip_header=True`"
      ]
    },
    {
      "cell_type": "code",
      "metadata": {
        "id": "DRWBw95T1ALo",
        "colab_type": "code",
        "outputId": "b6f30ddd-7cce-4175-8caa-06c2257d4506",
        "colab": {
          "base_uri": "https://localhost:8080/",
          "height": 195
        }
      },
      "source": [
        "dados = np.genfromtxt(\n",
        "    'fifa.csv', \n",
        "    delimiter=',', \n",
        "    encoding='utf-8', \n",
        "    dtype=object, \n",
        "    skip_header=True,\n",
        "    usecols=[0,1,2,4,5,6,7,8,9,10,11,12]\n",
        ")\n",
        "dados"
      ],
      "execution_count": 23,
      "outputs": [
        {
          "output_type": "execute_result",
          "data": {
            "text/plain": [
              "array([[b'158023', b'L. Messi', b'31', ..., b'170', b'72.121', b'RF'],\n",
              "       [b'20801', b'Cristiano Ronaldo', b'33', ..., b'188', b'83.007',\n",
              "        b'ST'],\n",
              "       [b'190871', b'Neymar Jr', b'26', ..., b'175', b'68.039', b'LW'],\n",
              "       ...,\n",
              "       [b'241638', b'B. Worman', b'16', ..., b'173', b'67.132', b'ST'],\n",
              "       [b'246268', b'D. Walker-Rice', b'17', ..., b'152', b'69.853',\n",
              "        b'RW'],\n",
              "       [b'246269', b'G. Nugent', b'16', ..., b'152', b'79.832', b'CM']],\n",
              "      dtype=object)"
            ]
          },
          "metadata": {
            "tags": []
          },
          "execution_count": 23
        }
      ]
    },
    {
      "cell_type": "markdown",
      "metadata": {
        "id": "1K7ZtrcV1ALr",
        "colab_type": "text"
      },
      "source": [
        "3. Quantas linhas foram lidas do arquivo?"
      ]
    },
    {
      "cell_type": "code",
      "metadata": {
        "id": "cQCa3ruC1ALr",
        "colab_type": "code",
        "outputId": "50b403e7-81ab-4a4f-85bc-c139b3f4fc1c",
        "colab": {
          "base_uri": "https://localhost:8080/",
          "height": 35
        }
      },
      "source": [
        "len(dados)"
      ],
      "execution_count": 0,
      "outputs": [
        {
          "output_type": "execute_result",
          "data": {
            "text/plain": [
              "18207"
            ]
          },
          "metadata": {
            "tags": []
          },
          "execution_count": 22
        }
      ]
    },
    {
      "cell_type": "markdown",
      "metadata": {
        "id": "HPS0-ApV1ALv",
        "colab_type": "text"
      },
      "source": [
        "4. Quantas dimensões sua variável `dados` possui?"
      ]
    },
    {
      "cell_type": "code",
      "metadata": {
        "id": "MCtKsRRO1ALv",
        "colab_type": "code",
        "outputId": "b26f4b44-64c4-4dcf-fba5-ab295e61b6bb",
        "colab": {
          "base_uri": "https://localhost:8080/",
          "height": 35
        }
      },
      "source": [
        "np.ndim(dados)"
      ],
      "execution_count": 0,
      "outputs": [
        {
          "output_type": "execute_result",
          "data": {
            "text/plain": [
              "2"
            ]
          },
          "metadata": {
            "tags": []
          },
          "execution_count": 21
        }
      ]
    },
    {
      "cell_type": "markdown",
      "metadata": {
        "id": "rxz3FRkT1ALz",
        "colab_type": "text"
      },
      "source": [
        "5. O que a função shape retorna?"
      ]
    },
    {
      "cell_type": "code",
      "metadata": {
        "id": "F85v4bVF1AL0",
        "colab_type": "code",
        "outputId": "525e77d3-b112-403e-8578-b4932ef3d42a",
        "colab": {
          "base_uri": "https://localhost:8080/",
          "height": 35
        }
      },
      "source": [
        "np.shape(dados)"
      ],
      "execution_count": 0,
      "outputs": [
        {
          "output_type": "execute_result",
          "data": {
            "text/plain": [
              "(18207, 12)"
            ]
          },
          "metadata": {
            "tags": []
          },
          "execution_count": 20
        }
      ]
    },
    {
      "cell_type": "markdown",
      "metadata": {
        "id": "uS97JJJJ1AL1",
        "colab_type": "text"
      },
      "source": [
        "**Resposta**:"
      ]
    },
    {
      "cell_type": "markdown",
      "metadata": {
        "id": "9osGrJKH1AL2",
        "colab_type": "text"
      },
      "source": [
        "6. Mostre o dado que está na 3ª linha da 4ª coluna?"
      ]
    },
    {
      "cell_type": "code",
      "metadata": {
        "id": "4MkyCkCe1AL2",
        "colab_type": "code",
        "outputId": "9f4b4083-fc17-406d-cd30-b87e6593c76d",
        "colab": {
          "base_uri": "https://localhost:8080/",
          "height": 35
        }
      },
      "source": [
        "dados[2, 3]"
      ],
      "execution_count": 0,
      "outputs": [
        {
          "output_type": "execute_result",
          "data": {
            "text/plain": [
              "b'Brasil'"
            ]
          },
          "metadata": {
            "tags": []
          },
          "execution_count": 19
        }
      ]
    },
    {
      "cell_type": "markdown",
      "metadata": {
        "id": "-_4TBSxm1AL5",
        "colab_type": "text"
      },
      "source": [
        "7. Exiba os dados da primeira linha do dataset."
      ]
    },
    {
      "cell_type": "code",
      "metadata": {
        "id": "G9n7lMBf1AL5",
        "colab_type": "code",
        "outputId": "f0fed184-72ef-4772-9467-828479101b7e",
        "colab": {
          "base_uri": "https://localhost:8080/",
          "height": 70
        }
      },
      "source": [
        "dados[0]"
      ],
      "execution_count": 24,
      "outputs": [
        {
          "output_type": "execute_result",
          "data": {
            "text/plain": [
              "array([b'158023', b'L. Messi', b'31', b'Argentina', b'94', b'94',\n",
              "       b'FC Barcelona', b'Esquerdo', b'5', b'170', b'72.121', b'RF'],\n",
              "      dtype=object)"
            ]
          },
          "metadata": {
            "tags": []
          },
          "execution_count": 24
        }
      ]
    },
    {
      "cell_type": "markdown",
      "metadata": {
        "id": "sg4zZDUl1AL8",
        "colab_type": "text"
      },
      "source": [
        "8. Mostre as 5 primeiras linhas do conjunto de dados."
      ]
    },
    {
      "cell_type": "code",
      "metadata": {
        "id": "ONCCFOSG1AL8",
        "colab_type": "code",
        "outputId": "47f5aad0-c710-44bd-ca41-e5c60bb002f7",
        "colab": {
          "base_uri": "https://localhost:8080/",
          "height": 230
        }
      },
      "source": [
        "dados[:5]"
      ],
      "execution_count": 0,
      "outputs": [
        {
          "output_type": "execute_result",
          "data": {
            "text/plain": [
              "array([[b'158023', b'L. Messi', b'31', b'Argentina', b'94', b'94',\n",
              "        b'FC Barcelona', b'Esquerdo', b'5', b'170', b'72.121', b'RF'],\n",
              "       [b'20801', b'Cristiano Ronaldo', b'33', b'Portugal', b'94', b'94',\n",
              "        b'Juventus', b'Direito', b'5', b'188', b'83.007', b'ST'],\n",
              "       [b'190871', b'Neymar Jr', b'26', b'Brasil', b'92', b'93',\n",
              "        b'Paris Saint-Germain', b'Direito', b'5', b'175', b'68.039',\n",
              "        b'LW'],\n",
              "       [b'193080', b'De Gea', b'27', b'Espanha', b'91', b'93',\n",
              "        b'Manchester United', b'Direito', b'4', b'193', b'76.204', b'GK'],\n",
              "       [b'192985', b'K. De Bruyne', b'27', b'B\\xe9lgica', b'91', b'92',\n",
              "        b'Manchester City', b'Direito', b'4', b'155', b'69.853', b'RCM']],\n",
              "      dtype=object)"
            ]
          },
          "metadata": {
            "tags": []
          },
          "execution_count": 17
        }
      ]
    },
    {
      "cell_type": "markdown",
      "metadata": {
        "id": "UERwtFR91AL-",
        "colab_type": "text"
      },
      "source": [
        "9. Selecione todas as linhas da coluna `nome` (segunda coluna). **Dica:** use o operador `:`"
      ]
    },
    {
      "cell_type": "code",
      "metadata": {
        "id": "0AYdX1zU1AL_",
        "colab_type": "code",
        "outputId": "e698704a-6a05-4d98-c46b-4b3ac6308fdd",
        "colab": {
          "base_uri": "https://localhost:8080/",
          "height": 52
        }
      },
      "source": [
        "dados[:, 1]"
      ],
      "execution_count": 0,
      "outputs": [
        {
          "output_type": "execute_result",
          "data": {
            "text/plain": [
              "array([b'L. Messi', b'Cristiano Ronaldo', b'Neymar Jr', ..., b'B. Worman',\n",
              "       b'D. Walker-Rice', b'G. Nugent'], dtype=object)"
            ]
          },
          "metadata": {
            "tags": []
          },
          "execution_count": 16
        }
      ]
    },
    {
      "cell_type": "markdown",
      "metadata": {
        "id": "wHKAScho1AMB",
        "colab_type": "text"
      },
      "source": [
        "10. Inicialize um vetor de inteiros NumPy chamado: **idades**; com todas as linhas da coluna `idade` (3ª coluna)."
      ]
    },
    {
      "cell_type": "code",
      "metadata": {
        "id": "sLCQthKe1AMB",
        "colab_type": "code",
        "outputId": "012ba724-9abd-4510-b021-abef6ffa73a4",
        "colab": {
          "base_uri": "https://localhost:8080/",
          "height": 35
        }
      },
      "source": [
        "idades = np.array(dados[:, 2], dtype=int)\n",
        "idades"
      ],
      "execution_count": 0,
      "outputs": [
        {
          "output_type": "execute_result",
          "data": {
            "text/plain": [
              "array([31, 33, 26, ..., 16, 17, 16])"
            ]
          },
          "metadata": {
            "tags": []
          },
          "execution_count": 23
        }
      ]
    },
    {
      "cell_type": "markdown",
      "metadata": {
        "id": "3YMxr7_y1AMD",
        "colab_type": "text"
      },
      "source": [
        "11. Qual é a média de idades dos jogadores?"
      ]
    },
    {
      "cell_type": "code",
      "metadata": {
        "id": "MqRTu6b01AME",
        "colab_type": "code",
        "outputId": "122b1cfe-04e1-4dde-ea6b-686bf78ba2c1",
        "colab": {
          "base_uri": "https://localhost:8080/",
          "height": 35
        }
      },
      "source": [
        "idades.mean()\n"
      ],
      "execution_count": 0,
      "outputs": [
        {
          "output_type": "execute_result",
          "data": {
            "text/plain": [
              "25.122205745043114"
            ]
          },
          "metadata": {
            "tags": []
          },
          "execution_count": 24
        }
      ]
    },
    {
      "cell_type": "markdown",
      "metadata": {
        "id": "pNh2Rsm21AMF",
        "colab_type": "text"
      },
      "source": [
        "12. Qual é a maior idade do conjunto de dados?"
      ]
    },
    {
      "cell_type": "code",
      "metadata": {
        "id": "EbtkMd7v1AMG",
        "colab_type": "code",
        "outputId": "79c60e30-5004-4046-d35e-18e6f5cacd8f",
        "colab": {
          "base_uri": "https://localhost:8080/",
          "height": 35
        }
      },
      "source": [
        "idades.max()\n"
      ],
      "execution_count": 0,
      "outputs": [
        {
          "output_type": "execute_result",
          "data": {
            "text/plain": [
              "45"
            ]
          },
          "metadata": {
            "tags": []
          },
          "execution_count": 25
        }
      ]
    },
    {
      "cell_type": "markdown",
      "metadata": {
        "id": "ZpjKD0rm1AMK",
        "colab_type": "text"
      },
      "source": [
        "13. Qual é a menor idade do conjunto de dados?"
      ]
    },
    {
      "cell_type": "code",
      "metadata": {
        "id": "qG5DZGar1AMK",
        "colab_type": "code",
        "outputId": "428649dc-7692-4796-9fc1-9dfb5f11890c",
        "colab": {
          "base_uri": "https://localhost:8080/",
          "height": 35
        }
      },
      "source": [
        "idades.min()\n"
      ],
      "execution_count": 0,
      "outputs": [
        {
          "output_type": "execute_result",
          "data": {
            "text/plain": [
              "16"
            ]
          },
          "metadata": {
            "tags": []
          },
          "execution_count": 26
        }
      ]
    },
    {
      "cell_type": "markdown",
      "metadata": {
        "id": "d-jTqmMl1AMM",
        "colab_type": "text"
      },
      "source": [
        "14. Selecione todos os jogadores que possuem a maior idade deste conjunto de dados. Quantas linhas retornaram? "
      ]
    },
    {
      "cell_type": "code",
      "metadata": {
        "id": "hvEy45Ja1AMM",
        "colab_type": "code",
        "outputId": "a82cd0a6-d734-4cd8-86a2-bf2c4a32e047",
        "colab": {
          "base_uri": "https://localhost:8080/",
          "height": 35
        }
      },
      "source": [
        "maior_idade = idades.max()\n",
        "condicao = dados[:, 2].astype(int) == maior_idade\n",
        "\n",
        "\n",
        "len(dados[condicao, :])"
      ],
      "execution_count": 0,
      "outputs": [
        {
          "output_type": "execute_result",
          "data": {
            "text/plain": [
              "1"
            ]
          },
          "metadata": {
            "tags": []
          },
          "execution_count": 27
        }
      ]
    },
    {
      "cell_type": "markdown",
      "metadata": {
        "id": "8Zfttgzi1AMO",
        "colab_type": "text"
      },
      "source": [
        "15. Selecione todos os jogadores que possuem a menor idade deste conjunto de dados. Quantas linhas retornaram? "
      ]
    },
    {
      "cell_type": "code",
      "metadata": {
        "id": "W7xJaR0a1AMO",
        "colab_type": "code",
        "outputId": "5337d21e-e278-4375-8131-a4f2c25c2c5b",
        "colab": {
          "base_uri": "https://localhost:8080/",
          "height": 35
        }
      },
      "source": [
        "menor_idade = idades.min()\n",
        "condicao = dados[:, 2].astype(int) == menor_idade\n",
        "\n",
        "len(dados[condicao, :])"
      ],
      "execution_count": 0,
      "outputs": [
        {
          "output_type": "execute_result",
          "data": {
            "text/plain": [
              "42"
            ]
          },
          "metadata": {
            "tags": []
          },
          "execution_count": 28
        }
      ]
    },
    {
      "cell_type": "markdown",
      "metadata": {
        "id": "bhmKLMXC1AMS",
        "colab_type": "text"
      },
      "source": [
        "16. Selecione todos os jogadores brasileiros para uma variável chamada 16. Selecione todos os jogadores brasileiros para uma variável chamada dados_brasil. Use `b'Brasil'` para fazer a comparação.\n",
        ". Use `b'Brasil'` para fazer a comparação."
      ]
    },
    {
      "cell_type": "code",
      "metadata": {
        "id": "FtYyYXk61AMS",
        "colab_type": "code",
        "outputId": "d50b0d97-c4a9-4050-cb07-ca0de30a83e5",
        "colab": {
          "base_uri": "https://localhost:8080/",
          "height": 1000
        }
      },
      "source": [
        "condicao = dados[:, 3] == b'Brasil'\n",
        "dados_brasil = dados[condicao, :]\n",
        "dados_brasil"
      ],
      "execution_count": 0,
      "outputs": [
        {
          "output_type": "execute_result",
          "data": {
            "text/plain": [
              "array([[b'190871', b'Neymar Jr', b'26', b'Brasil', b'92', b'93',\n",
              "        b'Paris Saint-Germain', b'Direito', b'5', b'175', b'68.039',\n",
              "        b'LW'],\n",
              "       [b'200145', b'Casemiro', b'26', b'Brasil', b'88', b'90',\n",
              "        b'Real Madrid', b'Direito', b'3', b'185', b'83.915', b'CDM'],\n",
              "       [b'189242', b'Coutinho', b'26', b'Brasil', b'88', b'89',\n",
              "        b'FC Barcelona', b'Direito', b'3', b'173', b'68.039', b'LW'],\n",
              "       [b'176676', b'Marcelo', b'30', b'Brasil', b'88', b'88',\n",
              "        b'Real Madrid', b'Esquerdo', b'4', b'175', b'79.832', b'LB'],\n",
              "       [b'164240', b'Thiago Silva', b'33', b'Brasil', b'88', b'88',\n",
              "        b'Paris Saint-Germain', b'Direito', b'4', b'183', b'82.100',\n",
              "        b'RCB'],\n",
              "       [b'210257', b'Ederson', b'24', b'Brasil', b'86', b'90',\n",
              "        b'Manchester City', b'Esquerdo', b'2', b'188', b'86.183', b'GK'],\n",
              "       [b'201942', b'Roberto Firmino', b'26', b'Brasil', b'86', b'87',\n",
              "        b'Liverpool', b'Direito', b'3', b'155', b'76.204', b'CAM'],\n",
              "       [b'191043', b'Alex Sandro', b'27', b'Brasil', b'86', b'86',\n",
              "        b'Juventus', b'Esquerdo', b'3', b'155', b'79.832', b'LB'],\n",
              "       [b'190483', b'Douglas Costa', b'27', b'Brasil', b'86', b'86',\n",
              "        b'Juventus', b'Esquerdo', b'3', b'173', b'69.853', b'LM'],\n",
              "       [b'135507', b'Fernandinho', b'33', b'Brasil', b'86', b'86',\n",
              "        b'Manchester City', b'Direito', b'3', b'152', b'67.132', b'CDM'],\n",
              "       [b'212831', b'Alisson', b'25', b'Brasil', b'85', b'90',\n",
              "        b'Liverpool', b'Direito', b'3', b'191', b'91.172', b'GK'],\n",
              "       [b'187961', b'Paulinho', b'29', b'Brasil', b'85', b'85',\n",
              "        b'Guangzhou Evergrande Taobao FC', b'Direito', b'3', b'183',\n",
              "        b'71.214', b'LDM'],\n",
              "       [b'171919', b'Naldo', b'35', b'Brasil', b'85', b'85',\n",
              "        b'FC Schalke 04', b'Direito', b'3', b'198', b'91.172', b'CB'],\n",
              "       [b'168609', b'Miranda', b'33', b'Brasil', b'85', b'85', b'Inter',\n",
              "        b'Direito', b'3', b'185', b'78.018', b'CB'],\n",
              "       [b'164169', b'Filipe Lu\\xeds', b'32', b'Brasil', b'85', b'85',\n",
              "        b'Atl\\xe9tico Madrid', b'Esquerdo', b'3', b'183', b'73.936',\n",
              "        b'LB'],\n",
              "       [b'212462', b'Alex Telles', b'25', b'Brasil', b'84', b'87',\n",
              "        b'FC Porto', b'Esquerdo', b'3', b'155', b'71.214', b'LB'],\n",
              "       [b'209499', b'Fabinho', b'24', b'Brasil', b'84', b'88',\n",
              "        b'Liverpool', b'Direito', b'3', b'188', b'78.018', b'CDM'],\n",
              "       [b'207865', b'Marquinhos', b'24', b'Brasil', b'84', b'89',\n",
              "        b'Paris Saint-Germain', b'Direito', b'3', b'183', b'74.843',\n",
              "        b'LDM'],\n",
              "       [b'180403', b'Willian', b'29', b'Brasil', b'84', b'84',\n",
              "        b'Chelsea', b'Direito', b'3', b'175', b'78.018', b'RW'],\n",
              "       [b'176769', b'Jonas', b'34', b'Brasil', b'84', b'84',\n",
              "        b'SL Benfica', b'Direito', b'3', b'155', b'73.936', b'ST'],\n",
              "       [b'230666', b'Gabriel Jesus', b'21', b'Brasil', b'83', b'92',\n",
              "        b'Manchester City', b'Direito', b'2', b'175', b'73.028', b'ST'],\n",
              "       [b'230481', b'Ronaldo Cabrais', b'26', b'Brasil', b'83', b'83',\n",
              "        b'Gr\\xeamio', b'Direito', b'1', b'152', b'74.843', b'RW'],\n",
              "       [b'230375', b'Josu\\xe9 Chiamulera', b'26', b'Brasil', b'83',\n",
              "        b'83', b'Gr\\xeamio', b'Direito', b'1', b'185', b'79.832', b'LCB'],\n",
              "       [b'230294', b'Louri Beretta', b'26', b'Brasil', b'83', b'83',\n",
              "        b'Atl\\xe9tico Mineiro', b'Direito', b'1', b'188', b'83.007',\n",
              "        b'ST'],\n",
              "       [b'212523', b'Anderson Talisca', b'24', b'Brasil', b'83', b'90',\n",
              "        b'Guangzhou Evergrande Taobao FC', b'Esquerdo', b'2', b'191',\n",
              "        b'79.832', b'CAM'],\n",
              "       [b'207863', b'Felipe', b'29', b'Brasil', b'83', b'83',\n",
              "        b'FC Porto', b'Direito', b'3', b'191', b'86.183', b'RCB'],\n",
              "       [b'201995', b'Felipe Anderson', b'25', b'Brasil', b'83', b'85',\n",
              "        b'West Ham United', b'Direito', b'3', b'175', b'69.853', b'LM'],\n",
              "       [b'200949', b'Lucas Moura', b'25', b'Brasil', b'83', b'84',\n",
              "        b'Tottenham Hotspur', b'Direito', b'3', b'175', b'69.853', b'RM'],\n",
              "       [b'199914', b'Allan', b'27', b'Brasil', b'83', b'83', b'Napoli',\n",
              "        b'Direito', b'2', b'175', b'73.936', b'RCM'],\n",
              "       [b'194404', b'Neto', b'28', b'Brasil', b'83', b'84',\n",
              "        b'Valencia CF', b'Direito', b'2', b'191', b'83.915', b'GK'],\n",
              "       [b'188152', b'Oscar', b'26', b'Brasil', b'83', b'84',\n",
              "        b'Shanghai SIPG FC', b'Direito', b'3', b'152', b'66.224', b'LCM'],\n",
              "       [b'185221', b'Luiz Gustavo', b'30', b'Brasil', b'83', b'83',\n",
              "        b'Olympique de Marseille', b'Esquerdo', b'3', b'188', b'78.018',\n",
              "        b'LCB'],\n",
              "       [b'184942', b'Giuliano', b'28', b'Brasil', b'83', b'83',\n",
              "        b'Al Nassr', b'Direito', b'2', b'173', b'68.039', b'CAM'],\n",
              "       [b'179944', b'David Luiz', b'31', b'Brasil', b'83', b'83',\n",
              "        b'Chelsea', b'Direito', b'4', b'188', b'86.183', b'LCB'],\n",
              "       [b'176266', b'Lucas Leiva', b'31', b'Brasil', b'83', b'83',\n",
              "        b'Lazio', b'Direito', b'3', b'152', b'78.018', b'LDM'],\n",
              "       [b'230658', b'Arthur', b'21', b'Brasil', b'82', b'90',\n",
              "        b'FC Barcelona', b'Direito', b'1', b'170', b'73.028', b'LCM'],\n",
              "       [b'230258', b'Rosberto Dourado', b'30', b'Brasil', b'82', b'82',\n",
              "        b'Atl\\xe9tico Mineiro', b'Direito', b'1', b'175', b'69.853',\n",
              "        b'RCM'],\n",
              "       [b'230225', b'Juiano Mestres', b'34', b'Brasil', b'82', b'82',\n",
              "        b'Cruzeiro', b'Direito', b'1', b'155', b'82.100', b'RCB'],\n",
              "       [b'230168', b'Raphaelito Anjos', b'30', b'Brasil', b'82', b'82',\n",
              "        b'Gr\\xeamio', b'Direito', b'1', b'191', b'84.822', b'GK'],\n",
              "       [b'222737', b'Malcom', b'21', b'Brasil', b'82', b'89',\n",
              "        b'FC Barcelona', b'Esquerdo', b'2', b'173', b'73.936', b'RW'],\n",
              "       [b'209297', b'Fred', b'25', b'Brasil', b'82', b'84',\n",
              "        b'Manchester United', b'Esquerdo', b'1', b'170', b'63.957',\n",
              "        b'CM'],\n",
              "       [b'201400', b'Rafinha', b'25', b'Brasil', b'82', b'87',\n",
              "        b'FC Barcelona', b'Esquerdo', b'2', b'175', b'71.214', b'CAM'],\n",
              "       [b'201305', b'Gabriel Paulista', b'27', b'Brasil', b'82', b'83',\n",
              "        b'Valencia CF', b'Direito', b'2', b'188', b'78.925', b'LCB'],\n",
              "       [b'195093', b'Willian Jos\\xe9', b'26', b'Brasil', b'82', b'83',\n",
              "        b'Real Sociedad', b'Direito', b'2', b'188', b'92.986', b'ST'],\n",
              "       [b'188803', b'Taison', b'30', b'Brasil', b'82', b'82',\n",
              "        b'Shakhtar Donetsk', b'Direito', b'2', b'173', b'63.957', b'LM'],\n",
              "       [b'168530', b'Jardel', b'32', b'Brasil', b'82', b'82',\n",
              "        b'SL Benfica', b'Direito', b'2', b'193', b'87.090', b'LCB'],\n",
              "       [b'146530', b'Dani Alves', b'35', b'Brasil', b'82', b'82',\n",
              "        b'Paris Saint-Germain', b'Direito', b'4', b'173', b'68.039',\n",
              "        b'RB'],\n",
              "       [b'230271', b'Laure Santeiro', b'30', b'Brasil', b'81', b'81',\n",
              "        b'Fluminense', b'Esquerdo', b'1', b'170', b'63.049', b'CAM'],\n",
              "       [b'189362', b'Hulk', b'31', b'Brasil', b'81', b'81',\n",
              "        b'Shanghai SIPG FC', b'Esquerdo', b'4', b'155', b'84.822',\n",
              "        b'RCM'],\n",
              "       [b'169195', b'Renato Augusto', b'30', b'Brasil', b'81', b'81',\n",
              "        b'Beijing Sinobo Guoan FC', b'Direito', b'2', b'185', b'86.183',\n",
              "        b'LCM'],\n",
              "       [b'144622', b'Raffael', b'33', b'Brasil', b'81', b'81',\n",
              "        b'Borussia M\\xf6nchengladbach', b'Direito', b'2', b'175',\n",
              "        b'68.946', b'CF'],\n",
              "       [b'230347', b'Welington Dano', b'30', b'Brasil', b'80', b'80',\n",
              "        b'Cruzeiro', b'Esquerdo', b'1', b'152', b'68.946', b'LB'],\n",
              "       [b'230234', b'Everton Andr\\xe3o', b'34', b'Brasil', b'80', b'80',\n",
              "        b'Fluminense', b'Direito', b'1', b'152', b'74.843', b'CDM'],\n",
              "       [b'221540', b'Ra\\xfal', b'28', b'Brasil', b'80', b'80',\n",
              "        b'SC Braga', b'Esquerdo', b'1', b'188', b'81.193', b'CB'],\n",
              "       [b'205525', b'Bernard', b'25', b'Brasil', b'80', b'81',\n",
              "        b'Everton', b'Direito', b'2', b'165', b'59.874', b'LM'],\n",
              "       [b'201119', b'Ismaily', b'28', b'Brasil', b'80', b'80',\n",
              "        b'Shakhtar Donetsk', b'Esquerdo', b'1', b'152', b'82.100', b'LB'],\n",
              "       [b'191687', b'Maicon', b'29', b'Brasil', b'80', b'80',\n",
              "        b'Galatasaray SK', b'Direito', b'2', b'191', b'88.904', b'CB'],\n",
              "       [b'180334', b'Marcelo', b'31', b'Brasil', b'80', b'80',\n",
              "        b'Olympique Lyonnais', b'Direito', b'2', b'191', b'84.822',\n",
              "        b'RCB'],\n",
              "       [b'180175', b'Alexandre Pato', b'28', b'Brasil', b'80', b'80',\n",
              "        b'Tianjin Quanjian FC', b'Direito', b'3', b'155', b'81.193',\n",
              "        b'ST'],\n",
              "       [b'158625', b'Dante', b'34', b'Brasil', b'80', b'80', b'OGC Nice',\n",
              "        b'Esquerdo', b'3', b'188', b'84.822', b'CB'],\n",
              "       [b'236632', b'David Neres', b'21', b'Brasil', b'79', b'86',\n",
              "        b'Ajax', b'Esquerdo', b'2', b'175', b'66.224', b'RW'],\n",
              "       [b'233419', b'Raphinha', b'21', b'Brasil', b'79', b'86',\n",
              "        b'Sporting CP', b'Esquerdo', b'1', b'175', b'68.039', b'RM'],\n",
              "       [b'231943', b'Richarlison', b'21', b'Brasil', b'79', b'86',\n",
              "        b'Everton', b'Direito', b'1', b'155', b'69.853', b'ST'],\n",
              "       [b'230498', b'Luimo Boas Santos', b'30', b'Brasil', b'79', b'79',\n",
              "        b'Santos', b'Direito', b'1', b'175', b'73.028', b'ST'],\n",
              "       [b'230312', b'Gabri Prest\\xe3o', b'26', b'Brasil', b'79', b'79',\n",
              "        b'Internacional', b'Direito', b'1', b'185', b'79.832', b'GK'],\n",
              "       [b'230251', b'Melvin Parrela', b'30', b'Brasil', b'79', b'79',\n",
              "        b'Am\\xe9rica FC (Minas Gerais)', b'Direito', b'1', b'188',\n",
              "        b'87.997', b'LCM'],\n",
              "       [b'230212', b'Ant\\xf4nio Chiamuloira', b'30', b'Brasil', b'79',\n",
              "        b'79', b'Internacional', b'Esquerdo', b'1', b'183', b'78.925',\n",
              "        b'CB'],\n",
              "       [b'230201', b'Maikel Catarino', b'34', b'Brasil', b'79', b'79',\n",
              "        b'Atl\\xe9tico Mineiro', b'Direito', b'1', b'152', b'74.843',\n",
              "        b'RB'],\n",
              "       [b'210411', b'Ot\\xe1vio', b'23', b'Brasil', b'79', b'85',\n",
              "        b'FC Porto', b'Direito', b'1', b'173', b'71.214', b'RM']],\n",
              "      dtype=object)"
            ]
          },
          "metadata": {
            "tags": []
          },
          "execution_count": 29
        }
      ]
    },
    {
      "cell_type": "markdown",
      "metadata": {
        "id": "7GoORfIY1AMU",
        "colab_type": "text"
      },
      "source": [
        "17. Quantos são os jogadores brasileiros?"
      ]
    },
    {
      "cell_type": "code",
      "metadata": {
        "id": "xY7Bvi6c1AMU",
        "colab_type": "code",
        "outputId": "062ad30b-b705-483d-e672-8f9296607fa5",
        "colab": {
          "base_uri": "https://localhost:8080/",
          "height": 35
        }
      },
      "source": [
        "len(dados_brasil)"
      ],
      "execution_count": 0,
      "outputs": [
        {
          "output_type": "execute_result",
          "data": {
            "text/plain": [
              "69"
            ]
          },
          "metadata": {
            "tags": []
          },
          "execution_count": 9
        }
      ]
    },
    {
      "cell_type": "markdown",
      "metadata": {
        "id": "7kBqTU4y1AMW",
        "colab_type": "text"
      },
      "source": [
        "18. Para as colunas `idade`, `altura` e `peso`, calcule:\n",
        "    - Média\n",
        "    - Mediana\n",
        "    - Máximo\n",
        "    - Mínimo"
      ]
    },
    {
      "cell_type": "code",
      "metadata": {
        "id": "S1xomXzV1AMW",
        "colab_type": "code",
        "outputId": "b28e42fb-38fe-4e88-bfa1-e201a022bcbb",
        "colab": {
          "base_uri": "https://localhost:8080/",
          "height": 35
        }
      },
      "source": [
        "#altura \n",
        "cond_altura = dados[:, 8] != b''\n",
        "\n",
        "altura = dados[cond_altura, 8].astype(int)\n",
        "altura.mean()\n",
        "np.median(altura)\n",
        "altura.max()\n",
        "altura.min()\n",
        "\n",
        "#peso\n",
        "cond_altura = dados[:, 10] != b''\n",
        "peso = dados[cond_altura, 10].astype(float)\n",
        "\n",
        "peso.mean()\n",
        "np.median(peso)\n",
        "peso.max()\n",
        "peso.min()\n",
        "\n",
        "\n"
      ],
      "execution_count": 31,
      "outputs": [
        {
          "output_type": "execute_result",
          "data": {
            "text/plain": [
              "49.895"
            ]
          },
          "metadata": {
            "tags": []
          },
          "execution_count": 31
        }
      ]
    },
    {
      "cell_type": "markdown",
      "metadata": {
        "id": "WKeyLvKa1AMY",
        "colab_type": "text"
      },
      "source": [
        "19. Calcule o desvio padrão da `reputação` dos jogadores brasileiros"
      ]
    },
    {
      "cell_type": "code",
      "metadata": {
        "id": "EdQvHPNv1AMZ",
        "colab_type": "code",
        "colab": {
          "base_uri": "https://localhost:8080/",
          "height": 35
        },
        "outputId": "ee92963e-38ff-4a10-b6fc-e419d6d14f6a"
      },
      "source": [
        "dados_brasil = dados[:, 7] != b''\n",
        "dados_brasil.std()"
      ],
      "execution_count": 32,
      "outputs": [
        {
          "output_type": "execute_result",
          "data": {
            "text/plain": [
              "0.05127765910089946"
            ]
          },
          "metadata": {
            "tags": []
          },
          "execution_count": 32
        }
      ]
    },
    {
      "cell_type": "markdown",
      "metadata": {
        "id": "YoPmQ6AJ1AMb",
        "colab_type": "text"
      },
      "source": [
        "20. Qual jogador brasileiro tem menor pontencial?"
      ]
    },
    {
      "cell_type": "code",
      "metadata": {
        "id": "kN3BEA2a1AMb",
        "colab_type": "code",
        "outputId": "0d931ef2-705b-4787-e510-34508f7d3920",
        "colab": {
          "base_uri": "https://localhost:8080/",
          "height": 35
        }
      },
      "source": [
        "\n",
        "condicao = dados[:, 3] == b'Brasil'\n",
        "dados_brasil = dados[condicao, 1]\n",
        "dados_brasil.min()"
      ],
      "execution_count": 34,
      "outputs": [
        {
          "output_type": "execute_result",
          "data": {
            "text/plain": [
              "b'Alex Sandro'"
            ]
          },
          "metadata": {
            "tags": []
          },
          "execution_count": 34
        }
      ]
    }
  ]
}